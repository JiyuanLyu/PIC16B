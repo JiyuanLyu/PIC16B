{
 "cells": [
  {
   "cell_type": "markdown",
   "id": "heavy-poland",
   "metadata": {},
   "source": [
    "# Working with Databases\n",
    "\n",
    "So far, we've worked exclusively with data that could conveniently fit in memory. Generally speaking, data sets of under 20 megabytes or so can be loaded easily on most modern laptops, although subsequent analysis activities may be slow. Larger data sets can be noticeably slow to even load into memory. For example, you may  have noticed that so far, I've been using a small subset of the NOAA-GHCN data corresponding to the decade 2011-2020. There's much  more data, and I have the complete data set in a file (also uploaded as a `.zip` archive on CCLE) in the same directory as these lecture notes on my personal machine. The complete set of data is not too big to fit in memory, but it's large enough that it's noticeably slow to even load into memory. Let's take a look. "
   ]
  },
  {
   "cell_type": "code",
   "execution_count": 1,
   "id": "academic-republican",
   "metadata": {},
   "outputs": [
    {
     "name": "stdout",
     "output_type": "stream",
     "text": [
      "1 loop, best of 5: 1.69 s per loop\n"
     ]
    }
   ],
   "source": [
    "import pandas as pd\n",
    "%timeit df = pd.read_csv(\"temps.csv\")"
   ]
  },
  {
   "cell_type": "markdown",
   "id": "attractive-external",
   "metadata": {},
   "source": [
    "Two seconds just to load the data set! Note: I'm not even *down*loading the data set -- this is just how long it takes to move the data from my computer's storage into RAM. \n",
    "\n",
    "We can get a pretty good estimate of how much RAM is required to store the data using a handy method of Pandas data frames: "
   ]
  },
  {
   "cell_type": "code",
   "execution_count": 2,
   "id": "colonial-pitch",
   "metadata": {},
   "outputs": [
    {
     "data": {
      "text/plain": [
       "(1359937, 14)"
      ]
     },
     "execution_count": 2,
     "metadata": {},
     "output_type": "execute_result"
    }
   ],
   "source": [
    "df = pd.read_csv(\"temps.csv\")\n",
    "df.shape"
   ]
  },
  {
   "cell_type": "code",
   "execution_count": 3,
   "id": "choice-austin",
   "metadata": {},
   "outputs": [
    {
     "data": {
      "text/plain": [
       "152.313072"
      ]
     },
     "execution_count": 3,
     "metadata": {},
     "output_type": "execute_result"
    }
   ],
   "source": [
    "df.memory_usage().sum() / 10**6 # rough size in megabytes"
   ]
  },
  {
   "cell_type": "markdown",
   "id": "upset-princeton",
   "metadata": {},
   "source": [
    "The data contains 1.35M rows and 14 columns. Altogether, these consume roughly 150 MB of RAM. This is an appreciable fraction of the RAM on most laptops. In some cases, we might need to work with even larger data sets that don't fit in RAM at all. "
   ]
  },
  {
   "cell_type": "markdown",
   "id": "terminal-memory",
   "metadata": {},
   "source": [
    "## Introducing Databases\n",
    "\n",
    "When dealing with large data sets like these, it's relatively rare that we absolutely *have* to operate on the entire data set. In most cases, we can work with parts of the data at a time. In the context of the temperature data, \n",
    "\n",
    "1. We might want temperature measurements only between years 1990-2020. \n",
    "2. We might want temperature measurements only for a certain set of countries - maybe in Asia, say. \n",
    "3. We might only want temperature measurements only in the month of March. \n",
    "4. We might want a random 1% of all the data. \n",
    "\n",
    "**Databases** provide us with a structured way to move subsets of data from storage into memory. Python has a module called `sqlite3` (already installed) which we can use to create, manipulate, and query databases. There's also a very handy `pandas` interface, enabling us to efficiently create `pandas` data frames containing exactly the data that we want. Let's get started. \n",
    "\n",
    "### Creating and Populating Databases"
   ]
  },
  {
   "cell_type": "code",
   "execution_count": 4,
   "id": "instructional-fiber",
   "metadata": {},
   "outputs": [],
   "source": [
    "import sqlite3"
   ]
  },
  {
   "cell_type": "code",
   "execution_count": 5,
   "id": "clinical-advisory",
   "metadata": {},
   "outputs": [],
   "source": [
    "conn = sqlite3.connect(\"temps.db\") # create a database in current directory called temps.db"
   ]
  },
  {
   "cell_type": "markdown",
   "id": "colored-plate",
   "metadata": {},
   "source": [
    "A quick check in our file directory reveals that we now have a file called `temps.db`. Great! "
   ]
  },
  {
   "cell_type": "markdown",
   "id": "hidden-negotiation",
   "metadata": {},
   "source": [
    "There are many ways to add data to a database. Since we are already familiar with Pandas data frames, we'll make use of some extremely convenient functionality which allows us to directly write data frames to a database. \n",
    "\n",
    "But wait! Wasn't the whole point of this to avoid reading in an entire data frame? Indeed! Pandas supplies a nice approach to this using the familiar `pd.read_csv()` function. Supplying a value of `chunksize` will cause `read_csv()` to return not a data frame but an *iterator*, each of whose elements is a piece of the data with number of rows equal to `chunksize`. The data is read \"on the fly\" -- i.e. it's not actually read until we start querying the iterator. Here's an example: "
   ]
  },
  {
   "cell_type": "code",
   "execution_count": 6,
   "id": "better-hawaii",
   "metadata": {},
   "outputs": [],
   "source": [
    "df_iter = pd.read_csv(\"temps.csv\", chunksize = 100000)"
   ]
  },
  {
   "cell_type": "code",
   "execution_count": 7,
   "id": "facial-floating",
   "metadata": {},
   "outputs": [],
   "source": [
    "df = df_iter.__next__()"
   ]
  },
  {
   "cell_type": "code",
   "execution_count": 8,
   "id": "dense-idaho",
   "metadata": {},
   "outputs": [
    {
     "data": {
      "text/html": [
       "<div>\n",
       "<style scoped>\n",
       "    .dataframe tbody tr th:only-of-type {\n",
       "        vertical-align: middle;\n",
       "    }\n",
       "\n",
       "    .dataframe tbody tr th {\n",
       "        vertical-align: top;\n",
       "    }\n",
       "\n",
       "    .dataframe thead th {\n",
       "        text-align: right;\n",
       "    }\n",
       "</style>\n",
       "<table border=\"1\" class=\"dataframe\">\n",
       "  <thead>\n",
       "    <tr style=\"text-align: right;\">\n",
       "      <th></th>\n",
       "      <th>ID</th>\n",
       "      <th>Year</th>\n",
       "      <th>VALUE1</th>\n",
       "      <th>VALUE2</th>\n",
       "      <th>VALUE3</th>\n",
       "      <th>VALUE4</th>\n",
       "      <th>VALUE5</th>\n",
       "      <th>VALUE6</th>\n",
       "      <th>VALUE7</th>\n",
       "      <th>VALUE8</th>\n",
       "      <th>VALUE9</th>\n",
       "      <th>VALUE10</th>\n",
       "      <th>VALUE11</th>\n",
       "      <th>VALUE12</th>\n",
       "    </tr>\n",
       "  </thead>\n",
       "  <tbody>\n",
       "    <tr>\n",
       "      <th>0</th>\n",
       "      <td>ACW00011604</td>\n",
       "      <td>1961</td>\n",
       "      <td>-89.0</td>\n",
       "      <td>236.0</td>\n",
       "      <td>472.0</td>\n",
       "      <td>773.0</td>\n",
       "      <td>1128.0</td>\n",
       "      <td>1599.0</td>\n",
       "      <td>1570.0</td>\n",
       "      <td>1481.0</td>\n",
       "      <td>1413.0</td>\n",
       "      <td>1174.0</td>\n",
       "      <td>510.0</td>\n",
       "      <td>-39.0</td>\n",
       "    </tr>\n",
       "    <tr>\n",
       "      <th>1</th>\n",
       "      <td>ACW00011604</td>\n",
       "      <td>1962</td>\n",
       "      <td>113.0</td>\n",
       "      <td>85.0</td>\n",
       "      <td>-154.0</td>\n",
       "      <td>635.0</td>\n",
       "      <td>908.0</td>\n",
       "      <td>1381.0</td>\n",
       "      <td>1510.0</td>\n",
       "      <td>1393.0</td>\n",
       "      <td>1163.0</td>\n",
       "      <td>994.0</td>\n",
       "      <td>323.0</td>\n",
       "      <td>-126.0</td>\n",
       "    </tr>\n",
       "    <tr>\n",
       "      <th>2</th>\n",
       "      <td>ACW00011604</td>\n",
       "      <td>1963</td>\n",
       "      <td>-713.0</td>\n",
       "      <td>-553.0</td>\n",
       "      <td>-99.0</td>\n",
       "      <td>541.0</td>\n",
       "      <td>1224.0</td>\n",
       "      <td>1627.0</td>\n",
       "      <td>1620.0</td>\n",
       "      <td>1596.0</td>\n",
       "      <td>1332.0</td>\n",
       "      <td>940.0</td>\n",
       "      <td>566.0</td>\n",
       "      <td>-108.0</td>\n",
       "    </tr>\n",
       "    <tr>\n",
       "      <th>3</th>\n",
       "      <td>ACW00011604</td>\n",
       "      <td>1964</td>\n",
       "      <td>62.0</td>\n",
       "      <td>-85.0</td>\n",
       "      <td>55.0</td>\n",
       "      <td>738.0</td>\n",
       "      <td>1219.0</td>\n",
       "      <td>1442.0</td>\n",
       "      <td>1506.0</td>\n",
       "      <td>1557.0</td>\n",
       "      <td>1221.0</td>\n",
       "      <td>788.0</td>\n",
       "      <td>546.0</td>\n",
       "      <td>112.0</td>\n",
       "    </tr>\n",
       "    <tr>\n",
       "      <th>4</th>\n",
       "      <td>ACW00011604</td>\n",
       "      <td>1965</td>\n",
       "      <td>44.0</td>\n",
       "      <td>-105.0</td>\n",
       "      <td>38.0</td>\n",
       "      <td>590.0</td>\n",
       "      <td>987.0</td>\n",
       "      <td>1500.0</td>\n",
       "      <td>1487.0</td>\n",
       "      <td>1477.0</td>\n",
       "      <td>1377.0</td>\n",
       "      <td>974.0</td>\n",
       "      <td>31.0</td>\n",
       "      <td>-178.0</td>\n",
       "    </tr>\n",
       "  </tbody>\n",
       "</table>\n",
       "</div>"
      ],
      "text/plain": [
       "            ID  Year  VALUE1  VALUE2  VALUE3  VALUE4  VALUE5  VALUE6  VALUE7  \\\n",
       "0  ACW00011604  1961   -89.0   236.0   472.0   773.0  1128.0  1599.0  1570.0   \n",
       "1  ACW00011604  1962   113.0    85.0  -154.0   635.0   908.0  1381.0  1510.0   \n",
       "2  ACW00011604  1963  -713.0  -553.0   -99.0   541.0  1224.0  1627.0  1620.0   \n",
       "3  ACW00011604  1964    62.0   -85.0    55.0   738.0  1219.0  1442.0  1506.0   \n",
       "4  ACW00011604  1965    44.0  -105.0    38.0   590.0   987.0  1500.0  1487.0   \n",
       "\n",
       "   VALUE8  VALUE9  VALUE10  VALUE11  VALUE12  \n",
       "0  1481.0  1413.0   1174.0    510.0    -39.0  \n",
       "1  1393.0  1163.0    994.0    323.0   -126.0  \n",
       "2  1596.0  1332.0    940.0    566.0   -108.0  \n",
       "3  1557.0  1221.0    788.0    546.0    112.0  \n",
       "4  1477.0  1377.0    974.0     31.0   -178.0  "
      ]
     },
     "execution_count": 8,
     "metadata": {},
     "output_type": "execute_result"
    }
   ],
   "source": [
    "df.head()"
   ]
  },
  {
   "cell_type": "markdown",
   "id": "former-destination",
   "metadata": {},
   "source": [
    "Great! Actually, there are a few cleaning steps that we'll make before incorporating this data into our database. If you're not sure what's going on here, you may want to check the previous lecture in which we cover `stack`.  "
   ]
  },
  {
   "cell_type": "code",
   "execution_count": 9,
   "id": "proved-monitor",
   "metadata": {},
   "outputs": [],
   "source": [
    "def prepare_df(df):\n",
    "    df = df.set_index(keys=[\"ID\", \"Year\"])\n",
    "    df = df.stack()\n",
    "    df = df.reset_index()\n",
    "    df = df.rename(columns = {\"level_2\"  : \"Month\" , 0 : \"Temp\"})\n",
    "    df[\"Month\"] = df[\"Month\"].str[5:].astype(int)\n",
    "    df[\"Temp\"]  = df[\"Temp\"] / 100\n",
    "    return(df)"
   ]
  },
  {
   "cell_type": "code",
   "execution_count": 10,
   "id": "smooth-headquarters",
   "metadata": {},
   "outputs": [
    {
     "data": {
      "text/html": [
       "<div>\n",
       "<style scoped>\n",
       "    .dataframe tbody tr th:only-of-type {\n",
       "        vertical-align: middle;\n",
       "    }\n",
       "\n",
       "    .dataframe tbody tr th {\n",
       "        vertical-align: top;\n",
       "    }\n",
       "\n",
       "    .dataframe thead th {\n",
       "        text-align: right;\n",
       "    }\n",
       "</style>\n",
       "<table border=\"1\" class=\"dataframe\">\n",
       "  <thead>\n",
       "    <tr style=\"text-align: right;\">\n",
       "      <th></th>\n",
       "      <th>ID</th>\n",
       "      <th>Year</th>\n",
       "      <th>Month</th>\n",
       "      <th>Temp</th>\n",
       "    </tr>\n",
       "  </thead>\n",
       "  <tbody>\n",
       "    <tr>\n",
       "      <th>0</th>\n",
       "      <td>ACW00011604</td>\n",
       "      <td>1961</td>\n",
       "      <td>1</td>\n",
       "      <td>-0.89</td>\n",
       "    </tr>\n",
       "    <tr>\n",
       "      <th>1</th>\n",
       "      <td>ACW00011604</td>\n",
       "      <td>1961</td>\n",
       "      <td>2</td>\n",
       "      <td>2.36</td>\n",
       "    </tr>\n",
       "    <tr>\n",
       "      <th>2</th>\n",
       "      <td>ACW00011604</td>\n",
       "      <td>1961</td>\n",
       "      <td>3</td>\n",
       "      <td>4.72</td>\n",
       "    </tr>\n",
       "    <tr>\n",
       "      <th>3</th>\n",
       "      <td>ACW00011604</td>\n",
       "      <td>1961</td>\n",
       "      <td>4</td>\n",
       "      <td>7.73</td>\n",
       "    </tr>\n",
       "    <tr>\n",
       "      <th>4</th>\n",
       "      <td>ACW00011604</td>\n",
       "      <td>1961</td>\n",
       "      <td>5</td>\n",
       "      <td>11.28</td>\n",
       "    </tr>\n",
       "  </tbody>\n",
       "</table>\n",
       "</div>"
      ],
      "text/plain": [
       "            ID  Year  Month   Temp\n",
       "0  ACW00011604  1961      1  -0.89\n",
       "1  ACW00011604  1961      2   2.36\n",
       "2  ACW00011604  1961      3   4.72\n",
       "3  ACW00011604  1961      4   7.73\n",
       "4  ACW00011604  1961      5  11.28"
      ]
     },
     "execution_count": 10,
     "metadata": {},
     "output_type": "execute_result"
    }
   ],
   "source": [
    "df = prepare_df(df)\n",
    "df.head()"
   ]
  },
  {
   "cell_type": "markdown",
   "id": "naval-empire",
   "metadata": {},
   "source": [
    "Ok! We are finally ready to populate a *table* in our database. \n",
    "\n",
    "You can think of a table as a data frame-like object, represented in SQLite rather than in Python. The `df.to_sql()` method writes to a specified table in the database (the `conn` object from earlier). We need to specify `if_exists` to ensure that we add each piece to the table, rather than overwriting them each time. "
   ]
  },
  {
   "cell_type": "code",
   "execution_count": 11,
   "id": "national-swing",
   "metadata": {},
   "outputs": [],
   "source": [
    "import pandas as pd\n",
    "df_iter = pd.read_csv(\"temps.csv\", chunksize = 100000)\n",
    "for df in df_iter:\n",
    "    df = prepare_df(df)\n",
    "    df.to_sql(\"temperatures\", conn, if_exists = \"append\", index = False)"
   ]
  },
  {
   "cell_type": "markdown",
   "id": "fatty-creativity",
   "metadata": {},
   "source": [
    "Let's similarly add a table for the metadata in our database. This is a pretty small data set so we don't need to worry about reading it in by chunks. "
   ]
  },
  {
   "cell_type": "code",
   "execution_count": 12,
   "id": "pressed-viking",
   "metadata": {},
   "outputs": [],
   "source": [
    "stations = pd.read_csv(\"station-metadata.csv\")\n",
    "stations.to_sql(\"stations\", conn, if_exists = \"replace\", index = False)"
   ]
  },
  {
   "cell_type": "markdown",
   "id": "angry-camel",
   "metadata": {},
   "source": [
    "Now we have a database containing two tables. Let's just check that this is indeed the case. "
   ]
  },
  {
   "cell_type": "code",
   "execution_count": 13,
   "id": "seasonal-nashville",
   "metadata": {},
   "outputs": [
    {
     "name": "stdout",
     "output_type": "stream",
     "text": [
      "[('temperatures',), ('stations',)]\n"
     ]
    }
   ],
   "source": [
    "cursor = conn.cursor()\n",
    "cursor.execute(\"SELECT name FROM sqlite_master WHERE type='table'\")\n",
    "print(cursor.fetchall())"
   ]
  },
  {
   "cell_type": "markdown",
   "id": "metallic-bulletin",
   "metadata": {},
   "source": [
    "Ok wait -- there's actually a lot that just happened here! \n",
    "\n",
    "First: the *cursor* is our primary way to interact with the database. The cursor `execute`s *SQL commands*. SQL is actually its own mini-programming language specifically designed for interacting with databases. We do need to learn a bit of SQL in order to work with databases, but I promise it won't be too bad. \n",
    "\n",
    "Now let's take a look at the actual command that we `execute`d.\n",
    "\n",
    "```sql\n",
    "SELECT name FROM sqlite_master WHERE type='table'\n",
    "```\n",
    "\n",
    "Let's break this down: \n",
    "\n",
    "- `SELECT name`: Show me the entries in the `name` column\n",
    "- `FROM sqlite_master`: of the `sqlite_master` table\n",
    "- `WHERE type='table'`: subject to the condition that the entry in the `type` column of `sqlite_master` is equal to ``table`` (i.e. don't include other kinds of objects)\n",
    "\n",
    "Finally, `cursor.fetchall()` returns the a list containing all the items returned by the query, which we then print. "
   ]
  },
  {
   "cell_type": "markdown",
   "id": "objective-measure",
   "metadata": {},
   "source": [
    "Let's get more detailed information about the items in each table. For example, we can inspect the column names and data types in each. This is a good way to check that we actually populated our database correctly. "
   ]
  },
  {
   "cell_type": "code",
   "execution_count": 14,
   "id": "civic-oklahoma",
   "metadata": {},
   "outputs": [
    {
     "name": "stdout",
     "output_type": "stream",
     "text": [
      "CREATE TABLE \"temperatures\" (\n",
      "\"ID\" TEXT,\n",
      "  \"Year\" INTEGER,\n",
      "  \"Month\" INTEGER,\n",
      "  \"Temp\" REAL\n",
      ")\n",
      "CREATE TABLE \"stations\" (\n",
      "\"ID\" TEXT,\n",
      "  \"LATITUDE\" REAL,\n",
      "  \"LONGITUDE\" REAL,\n",
      "  \"STNELEV\" REAL,\n",
      "  \"NAME\" TEXT\n",
      ")\n"
     ]
    }
   ],
   "source": [
    "cursor.execute(\"SELECT sql FROM sqlite_master WHERE type='table';\")\n",
    "\n",
    "for result in cursor.fetchall():\n",
    "    print(result[0])"
   ]
  },
  {
   "cell_type": "markdown",
   "id": "useful-billion",
   "metadata": {},
   "source": [
    "This looks pretty good! We have two tables, called `temperatures` and `stations`. The column names are what we would expect. Notice that `sql` has automatically inferred the data types, such as `REAL` and `TEXT`, from the input. Handy! "
   ]
  },
  {
   "cell_type": "markdown",
   "id": "prepared-charge",
   "metadata": {},
   "source": [
    "#### Basic Queries\n",
    "\n",
    "Now we're ready to perform some basic queries. \n",
    "\n",
    "Which stations have records for the year 1990? In `pandas` we would do this like: \n",
    "\n",
    "```\n",
    "temperatures[\"id\"][temperatures[\"year\"] == 1990]\n",
    "```\n",
    "\n",
    "The SQL syntax is very different, but contains all the same ideas. \n",
    "\n",
    "- `SELECT`, like the syntax `temperatures[\"id\"]`, controls which column(s) will be returned. \n",
    "- `FROM` tells us which table to return columns from. \n",
    "- `WHERE` is like the Boolean index `[temperatures[\"year\"] == 1990]`. Only rows in which this criterion is satisfied will be returned. \n",
    "\n",
    "**NOTE**: SQL commands are case-insensitive, but it's considered good practice to place SQL keywords in ALL CAPS while names of columns and other content goes in lowercase. "
   ]
  },
  {
   "cell_type": "code",
   "execution_count": 15,
   "id": "temporal-dynamics",
   "metadata": {},
   "outputs": [
    {
     "data": {
      "text/plain": [
       "[('ACW00011604',),\n",
       " ('ACW00011604',),\n",
       " ('ACW00011604',),\n",
       " ('ACW00011604',),\n",
       " ('ACW00011604',),\n",
       " ('ACW00011604',),\n",
       " ('ACW00011604',),\n",
       " ('ACW00011604',),\n",
       " ('ACW00011604',),\n",
       " ('ACW00011604',)]"
      ]
     },
     "execution_count": 15,
     "metadata": {},
     "output_type": "execute_result"
    }
   ],
   "source": [
    "cursor.execute(\"SELECT id FROM temperatures WHERE year=1990;\")\n",
    "result = cursor.fetchall() # get all results\n",
    "result[0:10]"
   ]
  },
  {
   "cell_type": "markdown",
   "id": "plain-imperial",
   "metadata": {},
   "source": [
    "Note that the result is returned as a tuple. This isn't very useful when we are just querying a single column, but we can also get multiple columns, in which case the tuple representation makes a bit more sense: "
   ]
  },
  {
   "cell_type": "code",
   "execution_count": 16,
   "id": "portable-worry",
   "metadata": {},
   "outputs": [
    {
     "data": {
      "text/plain": [
       "[('ACW00011604', 4.51),\n",
       " ('ACW00011604', 5.91),\n",
       " ('ACW00011604', 6.01),\n",
       " ('ACW00011604', 8.11),\n",
       " ('ACW00011604', 12.31),\n",
       " ('ACW00011604', 15.81),\n",
       " ('ACW00011604', 16.71),\n",
       " ('ACW00011604', 17.11),\n",
       " ('ACW00011604', 12.11),\n",
       " ('ACW00011604', 9.51)]"
      ]
     },
     "execution_count": 16,
     "metadata": {},
     "output_type": "execute_result"
    }
   ],
   "source": [
    "cursor.execute(\"SELECT id, temp FROM temperatures WHERE year=1990;\")\n",
    "result = [cursor.fetchone() for i in range(10)]  # get just the first 10 results\n",
    "result"
   ]
  },
  {
   "cell_type": "markdown",
   "id": "infectious-exhibit",
   "metadata": {},
   "source": [
    "We can include multiple criteria in `WHERE` using the Boolean operators `AND` and `OR`. "
   ]
  },
  {
   "cell_type": "code",
   "execution_count": 17,
   "id": "auburn-shower",
   "metadata": {},
   "outputs": [
    {
     "data": {
      "text/plain": [
       "[('ACW00011604', 4.51),\n",
       " ('AE000041196', 17.78),\n",
       " ('AEM00041184', 18.3),\n",
       " ('AEM00041194', 18.87),\n",
       " ('AEM00041216', 18.91),\n",
       " ('AEM00041217', 18.57),\n",
       " ('AFM00040911', 4.4),\n",
       " ('AFM00040948', 0.16),\n",
       " ('AFXLT299877', -5.6),\n",
       " ('AG000060390', 10.74)]"
      ]
     },
     "execution_count": 17,
     "metadata": {},
     "output_type": "execute_result"
    }
   ],
   "source": [
    "cursor.execute(\"SELECT id, temp FROM temperatures WHERE year=1990 AND month=1;\")\n",
    "result = [cursor.fetchone() for i in range(10)]  # get just the first 10 results\n",
    "result"
   ]
  },
  {
   "cell_type": "markdown",
   "id": "welsh-praise",
   "metadata": {},
   "source": [
    "Which stations are either far south or far north? "
   ]
  },
  {
   "cell_type": "code",
   "execution_count": 18,
   "id": "sophisticated-universal",
   "metadata": {},
   "outputs": [
    {
     "data": {
      "text/plain": [
       "[('AYM00089013',),\n",
       " ('AYM00089108',),\n",
       " ('AYM00089314',),\n",
       " ('AYM00089329',),\n",
       " ('AYM00089332',),\n",
       " ('AYM00089345',),\n",
       " ('AYM00089377',),\n",
       " ('AYM00089577',),\n",
       " ('AYM00089799',),\n",
       " ('AYM00089873',)]"
      ]
     },
     "execution_count": 18,
     "metadata": {},
     "output_type": "execute_result"
    }
   ],
   "source": [
    "cursor.execute(\"SELECT id FROM stations WHERE latitude>80 OR latitude<-80;\")\n",
    "result = [cursor.fetchone() for i in range(10)]  # get just the first 10 results\n",
    "result"
   ]
  },
  {
   "cell_type": "markdown",
   "id": "ranging-spending",
   "metadata": {},
   "source": [
    "## Relations\n",
    "\n",
    "What if we wanted the temperature measurements taken at elevations higher than 1000m above sea-level? This involves information from both the `temperature` table and the `stations` table. In order to perform this kind of query, we need to first ensure that these tables are appropriately *related*. \n",
    "\n",
    "We know from our previous interactions with this data set that the `id` column in the `stations` table corresponds to the `id` column in the `temperature` table. We'd like to incorporate this relationship in our database. From here, the syntax gets only slightly more complicated. Here's what we'll do: \n",
    "\n",
    "1. First, we'll give the `temperatures` and `stations` tables aliases `T` and `S` just to make the command more readable. We can also split the command onto multiple lines. \n",
    "2. Second, we need to add an `LEFT JOIN` call which indicates which column of `T` corresponds to which column of `S`. This is similar to `pd.merge` from a few lectures ago. There are also `RIGHT JOINT`, `INNER JOIN` and `OUTER JOIN` operators that control how duplicates and mismatched rows are handled. \n",
    "\n"
   ]
  },
  {
   "cell_type": "code",
   "execution_count": 19,
   "id": "turkish-timing",
   "metadata": {},
   "outputs": [
    {
     "data": {
      "text/plain": [
       "[('AYM00089013', 4, -41.08),\n",
       " ('AYM00089013', 5, -48.4),\n",
       " ('AYM00089013', 6, -50.7),\n",
       " ('AYM00089013', 7, -49.14),\n",
       " ('AYM00089013', 10, -43.66),\n",
       " ('AYM00089013', 11, -30.94),\n",
       " ('AYM00089013', 12, -20.55),\n",
       " ('AYM00089013', 1, -19.54),\n",
       " ('AYM00089013', 2, -31.39),\n",
       " ('AYM00089013', 3, -39.56)]"
      ]
     },
     "execution_count": 19,
     "metadata": {},
     "output_type": "execute_result"
    }
   ],
   "source": [
    "cmd = \\\n",
    "\"\"\"\n",
    "SELECT T.id, T.month, T.temp\n",
    "FROM temperatures T\n",
    "LEFT JOIN stations S ON T.id = S.id\n",
    "WHERE S.latitude>80 OR S.latitude<-80\n",
    "\"\"\"\n",
    "\n",
    "cursor.execute(cmd)\n",
    "result = [cursor.fetchone() for i in range(10)]  # get just the first 10 results\n",
    "result"
   ]
  },
  {
   "cell_type": "markdown",
   "id": "otherwise-evolution",
   "metadata": {},
   "source": [
    "The cursor is very good for prototyping your SQL queries, but once you've gotten the hang of it, the easiest approach is to use another convenience function from Pandas: "
   ]
  },
  {
   "cell_type": "code",
   "execution_count": 20,
   "id": "focused-basics",
   "metadata": {},
   "outputs": [],
   "source": [
    "df = pd.read_sql_query(cmd, conn)"
   ]
  },
  {
   "cell_type": "markdown",
   "id": "charitable-collective",
   "metadata": {},
   "source": [
    "You can actually obtain columns from both tables this way: "
   ]
  },
  {
   "cell_type": "code",
   "execution_count": 21,
   "id": "included-empire",
   "metadata": {},
   "outputs": [],
   "source": [
    "cmd = \\\n",
    "\"\"\"\n",
    "SELECT T.id, T.month, T.temp, S.latitude, S.longitude, S.name\n",
    "FROM temperatures T\n",
    "LEFT JOIN stations S ON T.id = S.id\n",
    "WHERE S.latitude>80 OR S.latitude<-80\n",
    "\"\"\"\n",
    "\n",
    "df = pd.read_sql_query(cmd, conn)"
   ]
  },
  {
   "cell_type": "markdown",
   "id": "catholic-peeing",
   "metadata": {},
   "source": [
    "It's good practice to close your database connection once you're done using it. "
   ]
  },
  {
   "cell_type": "code",
   "execution_count": 22,
   "id": "defensive-brush",
   "metadata": {},
   "outputs": [],
   "source": [
    "conn.close()"
   ]
  },
  {
   "cell_type": "markdown",
   "id": "civic-situation",
   "metadata": {},
   "source": [
    "Next time you need to pull some data from your database, just reopen the connection! "
   ]
  },
  {
   "cell_type": "markdown",
   "id": "indirect-bracelet",
   "metadata": {},
   "source": [
    "#### *Flashforward -- Sometime in The Future*"
   ]
  },
  {
   "cell_type": "code",
   "execution_count": 23,
   "id": "daily-pricing",
   "metadata": {},
   "outputs": [],
   "source": [
    "import sqlite3\n",
    "conn = sqlite3.connect(\"temps.db\")"
   ]
  },
  {
   "cell_type": "code",
   "execution_count": 24,
   "id": "mechanical-medicare",
   "metadata": {},
   "outputs": [],
   "source": [
    "cmd = \\\n",
    "\"\"\"\n",
    "SELECT T.id, T.month, T.temp, S.latitude, S.longitude, S.name\n",
    "FROM temperatures T\n",
    "LEFT JOIN stations S ON T.id = S.id\n",
    "WHERE S.latitude>80 OR S.latitude<-80\n",
    "\"\"\"\n",
    "\n",
    "df = pd.read_sql_query(cmd, conn)\n",
    "conn.close()\n",
    "\n",
    "# the rest of my analysis..."
   ]
  }
 ],
 "metadata": {
  "kernelspec": {
   "display_name": "Python [conda env:PIC16B] *",
   "language": "python",
   "name": "conda-env-PIC16B-py"
  },
  "language_info": {
   "codemirror_mode": {
    "name": "ipython",
    "version": 3
   },
   "file_extension": ".py",
   "mimetype": "text/x-python",
   "name": "python",
   "nbconvert_exporter": "python",
   "pygments_lexer": "ipython3",
   "version": "3.7.1"
  }
 },
 "nbformat": 4,
 "nbformat_minor": 5
}
