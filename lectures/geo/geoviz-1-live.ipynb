{
 "cells": [
  {
   "cell_type": "markdown",
   "id": "clinical-kinase",
   "metadata": {},
   "source": [
    "# Geographic Data Visualization\n",
    "\n",
    "In this lecture, we'll work some examples of *interactive, geographic visualization* using Python and the Plotly package. We'll be using Plotly much more in a bit when we learn about high-level, interactive HTML plotting. \n",
    "\n",
    "For today, we're focused on geographic visualization. Plotly makes it truly, unreasonably easy to create attractive maps. \n",
    "\n",
    "*To follow along with this lecture, you will need to install the `plotly` package in your PIC16B Anaconda environment. Basemaps will unfortunately not appear in the online version of these notes.*\n",
    "\n",
    "## Creating Basemaps"
   ]
  },
  {
   "cell_type": "code",
   "execution_count": null,
   "id": "similar-acting",
   "metadata": {},
   "outputs": [],
   "source": [
    "import pandas as pd\n",
    "coords = pd.DataFrame({\n",
    "    \"lon\" : [-118.44300984639733], \n",
    "    \"lat\" : [34.0696449790177],\n",
    "    \"message\" : [\"Hello!\"]\n",
    "})\n",
    "coords"
   ]
  },
  {
   "cell_type": "code",
   "execution_count": null,
   "id": "underlying-orchestra",
   "metadata": {
    "scrolled": true
   },
   "outputs": [],
   "source": []
  },
  {
   "cell_type": "markdown",
   "id": "lyric-tuition",
   "metadata": {},
   "source": [
    "Let's break this down a bit. The first line imports the `express` module of `plotly`, which provides a high-level interface to a variety of Plotly tools. One can also work directly with the low-level `graph_objects` module, which allows one a finer level of control over the settings of visualizations. We won't use `graph_objects` in this course. \n",
    "\n",
    "The magic happens starting on the third line, when we call `px.scatter_mapbox()`. The first argument must be a data frame. The `lat` and `lon` arguments tell `px` which columns contain the latitude and longitude coordinates. The `hover_name` specifies what should appear when we hover over the plotted point with our mouse. `zoom` controls the initial zoom level of the map, which can subsequently be modified by the user. `height` allows one to control the aspect ratio. There are many [other parameters](https://plotly.github.io/plotly.py-docs/generated/plotly.express.scatter_mapbox.html) to `px.scatter_mapbox()`. \n",
    "\n",
    "The final next two lines control which *map tiles* are used in the visualization and the amount of whitespace around the visualization. The final line actually displays the map. \n",
    "\n",
    "Now let's try changing up the zoom level and the map tiles. The `positron` tiles from CartoDB are very low-contrast, which is very helpful when creating plots that use these tiles as backgrounds. "
   ]
  },
  {
   "cell_type": "code",
   "execution_count": null,
   "id": "golden-selling",
   "metadata": {},
   "outputs": [],
   "source": []
  },
  {
   "cell_type": "markdown",
   "id": "hourly-crack",
   "metadata": {},
   "source": [
    "Maybe you dream of mountains, valleys, and beaches? "
   ]
  },
  {
   "cell_type": "code",
   "execution_count": null,
   "id": "several-practitioner",
   "metadata": {},
   "outputs": [],
   "source": []
  },
  {
   "cell_type": "markdown",
   "id": "durable-concert",
   "metadata": {},
   "source": [
    "Summing up, Plotly makes it unreasonably easy to create attractive, interactive maps in Python. Let's now go from \"pretty maps\" to \"informative, scientific data graphics.\" "
   ]
  },
  {
   "cell_type": "markdown",
   "id": "three-price",
   "metadata": {},
   "source": [
    "# Visualizing Climate Measurement Stations\n",
    "\n",
    "Let's now use our GHCN data on global temperatures to create some interesting visualizations. As a first step, we'll create a set of markers for different climate stations. First, let's grab the data on stations: "
   ]
  },
  {
   "cell_type": "code",
   "execution_count": null,
   "id": "seasonal-district",
   "metadata": {},
   "outputs": [],
   "source": [
    "import numpy as np\n",
    "\n",
    "url = \"https://raw.githubusercontent.com/PhilChodrow/PIC16B/master/datasets/noaa-ghcn/station-metadata.csv\"\n",
    "stations = pd.read_csv(url)\n",
    "stations.head()"
   ]
  },
  {
   "cell_type": "markdown",
   "id": "several-differential",
   "metadata": {},
   "source": [
    "For the purposes of geographic plotting, the key columns here are the `LATITUDE` and `LONGITUDE` columns. Let's try plotting! \n",
    "\n",
    "Note that it might take a little while for the map to render. There are 27.5k points, which is kind of a lot! "
   ]
  },
  {
   "cell_type": "code",
   "execution_count": null,
   "id": "acoustic-stocks",
   "metadata": {},
   "outputs": [],
   "source": []
  },
  {
   "cell_type": "markdown",
   "id": "demographic-mozambique",
   "metadata": {},
   "source": [
    "This is cool and interactive, but there are a few shortcomings if we want to display scientific information. It's hard to make comparisons -- for example, it looks like there might be a higher density of stations in the US than in many other areas, but it's hard to be sure from the map above. For comparing densities, *heatmaps* provided a useful approach. Ploty again makes this unreasonably easy. "
   ]
  },
  {
   "cell_type": "code",
   "execution_count": null,
   "id": "several-mission",
   "metadata": {},
   "outputs": [],
   "source": []
  },
  {
   "cell_type": "markdown",
   "id": "fiscal-jacob",
   "metadata": {},
   "source": [
    "The colors get brighter and more intense the more stations there are in that area. We can notice a few things, such as the very high density of measurement stations in the US and Germany. \n",
    "\n",
    "However, it's harder to see patterns when we zoom in much more. If we want to look at patterns within Europe, for example, we might want to increase the radius. \n",
    "\n",
    "Experimentation with the [various arguments](https://python-visualization.github.io/folium/plugins.html) of the `HeatMap` function is usually necessary to obtain a good result. "
   ]
  },
  {
   "cell_type": "code",
   "execution_count": null,
   "id": "productive-oriental",
   "metadata": {},
   "outputs": [],
   "source": []
  },
  {
   "cell_type": "markdown",
   "id": "patient-criticism",
   "metadata": {},
   "source": [
    "## Geographic Scatterplots\n",
    "\n",
    "Another thing we might want to do is color code the climate stations according to some quantitative measure. Let's compute the average temperature in March for each one over the most recent decade, and use this to color code them. "
   ]
  },
  {
   "cell_type": "code",
   "execution_count": null,
   "id": "listed-palace",
   "metadata": {},
   "outputs": [],
   "source": [
    "interval = \"2011-2020\"\n",
    "url = f\"https://raw.githubusercontent.com/PhilChodrow/PIC16B/master/datasets/noaa-ghcn/decades/{interval}.csv\"\n",
    "temps = pd.read_csv(url)"
   ]
  },
  {
   "cell_type": "markdown",
   "id": "responsible-parent",
   "metadata": {},
   "source": [
    "First we'll compute the average in March for each station. "
   ]
  },
  {
   "cell_type": "code",
   "execution_count": null,
   "id": "toxic-supervisor",
   "metadata": {},
   "outputs": [],
   "source": []
  },
  {
   "cell_type": "markdown",
   "id": "democratic-license",
   "metadata": {},
   "source": [
    "Next, we'll *merge* the latitude/longitude data from the `stations` data frame. "
   ]
  },
  {
   "cell_type": "code",
   "execution_count": null,
   "id": "velvet-turkey",
   "metadata": {},
   "outputs": [],
   "source": []
  },
  {
   "cell_type": "code",
   "execution_count": null,
   "id": "general-superior",
   "metadata": {},
   "outputs": [],
   "source": []
  },
  {
   "cell_type": "markdown",
   "id": "rubber-shadow",
   "metadata": {},
   "source": [
    "Great! This is the data we need. Now we can supply this data to `px.scatter_mapbox`, using as the value of `color` the name variable that we want use to shade the points. "
   ]
  },
  {
   "cell_type": "code",
   "execution_count": null,
   "id": "small-revision",
   "metadata": {
    "scrolled": true
   },
   "outputs": [],
   "source": []
  },
  {
   "cell_type": "markdown",
   "id": "after-material",
   "metadata": {},
   "source": [
    "This plot makes it easy to see that countries near the equator tend to be warmer (at least in March). "
   ]
  },
  {
   "cell_type": "markdown",
   "id": "future-import",
   "metadata": {},
   "source": [
    "# Saving and Sharing\n",
    "\n",
    "To save your visualization as HTML, just use `write_html` from `plotly.io`. "
   ]
  },
  {
   "cell_type": "code",
   "execution_count": null,
   "id": "pregnant-consensus",
   "metadata": {},
   "outputs": [],
   "source": []
  },
  {
   "cell_type": "markdown",
   "id": "systematic-hazard",
   "metadata": {},
   "source": [
    "You can then send this file to people you'd like to impress! You can also move this file to the `_includes` directory of your website, after which you can include it in your blog posts as demonstrated [here](https://pic16b.github.io/plotly-example/)."
   ]
  },
  {
   "cell_type": "markdown",
   "id": "outside-boston",
   "metadata": {},
   "source": [
    "# Choropleths\n",
    "\n",
    "A *choropleth* is a polygon-based visualization, in which different geographic polygons are assigned different colors. If you've ever seen a map of election results by state, or of CO2 emissions by country, you've seen a choropleth. \n",
    "\n",
    "Let's make one! We'll visualize the average March temperature for each country. We need two things: \n",
    "\n",
    "1. A data frame containing the average march temperature for each country. \n",
    "2. A GeoJSON file containing the coordinates for the country polygons. \n",
    "\n",
    "GeoJSON's are pretty complex files, but fortunately we don't really need to interact with them too much. The code below uses the `json` module to read a GeoJSON file from the web. This file contains the borders of countries. "
   ]
  },
  {
   "cell_type": "code",
   "execution_count": null,
   "id": "therapeutic-hostel",
   "metadata": {},
   "outputs": [],
   "source": [
    "from urllib.request import urlopen\n",
    "import json\n",
    "\n",
    "countries_gj_url = \"https://raw.githubusercontent.com/PhilChodrow/PIC16B/master/datasets/countries.geojson\"\n",
    "\n",
    "with urlopen(countries_gj_url) as response:\n",
    "    countries_gj = json.load(response)"
   ]
  },
  {
   "cell_type": "markdown",
   "id": "unique-academy",
   "metadata": {},
   "source": [
    "GeoJSON files can be very complicated, and often contain large quantities of metadata. For our purposes, we only need the name of the country and the shape in coordinates, which is supplied by the `geometry` feature: "
   ]
  },
  {
   "cell_type": "code",
   "execution_count": null,
   "id": "proprietary-flashing",
   "metadata": {},
   "outputs": [],
   "source": []
  },
  {
   "cell_type": "markdown",
   "id": "ranking-raise",
   "metadata": {},
   "source": [
    "The next thing we need is temperature data! The code below uses the `merge` function introduced in a previous lecture to add the name of the country to the data frame containing the station temperature readings. "
   ]
  },
  {
   "cell_type": "code",
   "execution_count": null,
   "id": "tutorial-trigger",
   "metadata": {},
   "outputs": [],
   "source": [
    "countries_url = \"https://raw.githubusercontent.com/mysociety/gaze/master/data/fips-10-4-to-iso-country-codes.csv\"\n",
    "countries = pd.read_csv(countries_url)\n",
    "\n",
    "countries.head()"
   ]
  },
  {
   "cell_type": "code",
   "execution_count": null,
   "id": "union-bones",
   "metadata": {},
   "outputs": [],
   "source": [
    "# extract the FIPS code in the temps data frame and merge\n"
   ]
  },
  {
   "cell_type": "code",
   "execution_count": null,
   "id": "massive-cancellation",
   "metadata": {},
   "outputs": [],
   "source": [
    "# compute the mean temperature in march, in degrees C. \n"
   ]
  },
  {
   "cell_type": "markdown",
   "id": "driving-ability",
   "metadata": {},
   "source": [
    "And now we're done with our data prep! We now need to use `px.choropleth` to create the map. We need to pass the data frame of temperature data, the GeoJSON file, and some additional information. \n",
    "\n",
    "- `locations`: We need to indicate which column in `march_avgs_by_country` to use as the identifiers of countries. \n",
    "- `locationmode`: We need to specify that the values in the columns passed to `locations` are names of countries and not, say, FIPS ID codes. \n",
    "- `color`: We need to state which column should be used to determine the color of each country. "
   ]
  },
  {
   "cell_type": "code",
   "execution_count": null,
   "id": "unable-gravity",
   "metadata": {},
   "outputs": [],
   "source": []
  },
  {
   "cell_type": "markdown",
   "id": "studied-egypt",
   "metadata": {},
   "source": [
    "We did it! Drawing GeoJSON files can require substantial computational effort, and so it might take a while for this code to run. Note that there are a few countries that are missing data, indicated by light gray. These correspond to cases in which there wasn't an entry of `march_avgs_by_country` matching the country name in the GeoJSON. This can occur either because there truly is no data or because there was a discrepancy inthe labels. In the latter case, we could improve the situation by data cleaning.  "
   ]
  },
  {
   "cell_type": "markdown",
   "id": "funky-pasta",
   "metadata": {},
   "source": [
    "# Learn More\n",
    "\n",
    "This is just a taste of geographic data visualization. There are many other kinds of tasks we might want to perform. You can find a number of helpful examples of using Plotly and Plotly Express to create attractive geographic data visualizations [here](https://plotly.com/python/maps/). "
   ]
  }
 ],
 "metadata": {
  "kernelspec": {
   "display_name": "Python [conda env:PIC16B] *",
   "language": "python",
   "name": "conda-env-PIC16B-py"
  },
  "language_info": {
   "codemirror_mode": {
    "name": "ipython",
    "version": 3
   },
   "file_extension": ".py",
   "mimetype": "text/x-python",
   "name": "python",
   "nbconvert_exporter": "python",
   "pygments_lexer": "ipython3",
   "version": "3.8.11"
  },
  "widgets": {
   "application/vnd.jupyter.widget-state+json": {
    "state": {},
    "version_major": 2,
    "version_minor": 0
   }
  }
 },
 "nbformat": 4,
 "nbformat_minor": 5
}
