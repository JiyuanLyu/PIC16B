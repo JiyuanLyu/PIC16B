{
  "nbformat": 4,
  "nbformat_minor": 5,
  "metadata": {
    "accelerator": "GPU",
    "colab": {
      "name": "music-scratch-2.ipynb",
      "provenance": [],
      "collapsed_sections": []
    },
    "kernelspec": {
      "display_name": "Python 3",
      "language": "python",
      "name": "python3"
    },
    "language_info": {
      "codemirror_mode": {
        "name": "ipython",
        "version": 3
      },
      "file_extension": ".py",
      "mimetype": "text/x-python",
      "name": "python",
      "nbconvert_exporter": "python",
      "pygments_lexer": "ipython3",
      "version": "3.7.1"
    }
  },
  "cells": [
    {
      "cell_type": "markdown",
      "metadata": {
        "id": "limiting-remove"
      },
      "source": [
        "# Mixed Data Features\n",
        "\n",
        "In previous lectures, we've used neural networks to perform \"basic\" classification, image classification, and text classification. In each of these, we used a single pipeline that we custom built for the data we needed to work with, usually enclosed within a `keras.models.Sequential()` model. This worked fine for those situations, but what happens when we have *multiple* complex data components that we would like to use in our models? For example, maybe we would like to do classification in a dataset containing both: \n",
        "\n",
        "1. Pictures (images) and captions (text). \n",
        "2. Descriptions (text) and timestamps (numbers). \n",
        "3. Article bodies (text) and titles (different text). \n",
        "\n",
        "Of course, it's possible to come up with various ad hoc ways to smoosh pieces of data together, but this isn't usually the right approach. A better thing to do is to create a more flexible model that accepts and appropriately processes different kinds of inputs. In this lecture, we'll learn how to do this. \n",
        "\n",
        "### Key Tools\n",
        "\n",
        "- Labeled data sets. \n",
        "- The Keras functional API (alternative to Sequential API). "
      ],
      "id": "limiting-remove"
    },
    {
      "cell_type": "code",
      "metadata": {
        "id": "billion-print"
      },
      "source": [
        "import numpy as np\n",
        "import pandas as pd\n",
        "import tensorflow as tf\n",
        "import re\n",
        "import string\n",
        "\n",
        "from tensorflow.keras import layers\n",
        "from tensorflow.keras import losses\n",
        "from tensorflow import keras\n",
        "\n",
        "# requires update to tensorflow 2.4\n",
        "# >>> conda activate PIC16B\n",
        "# >>> pip install tensorflow==2.4\n",
        "from tensorflow.keras.layers.experimental.preprocessing import TextVectorization\n",
        "from tensorflow.keras.layers.experimental.preprocessing import StringLookup\n",
        "\n",
        "from sklearn.model_selection import train_test_split\n",
        "from sklearn.preprocessing import LabelEncoder\n",
        "\n",
        "# for embedding viz\n",
        "import plotly.express as px \n",
        "import plotly.io as pio\n",
        "pio.templates.default = \"plotly_white\""
      ],
      "id": "billion-print",
      "execution_count": 1,
      "outputs": []
    },
    {
      "cell_type": "markdown",
      "metadata": {
        "id": "sunrise-accreditation"
      },
      "source": [
        "Our data set for this lecture contains various information about various musical tracks produced between the years 1950 and 2019. You can find it on Kaggle [here](https://www.kaggle.com/saurabhshahane/music-dataset-1950-to-2019). The data was originally published in the following data publication: \n",
        "\n",
        "> Moura, Luan; Fontelles, Emanuel; Sampaio, Vinicius; França, Mardônio (2020), “Music Dataset: Lyrics and Metadata from 1950 to 2019”, Mendeley Data, V3, doi: 10.17632/3t9vbwxgr5.3"
      ],
      "id": "sunrise-accreditation"
    },
    {
      "cell_type": "code",
      "metadata": {
        "id": "resident-persian"
      },
      "source": [
        "url = \"https://raw.githubusercontent.com/PhilChodrow/PIC16B/master/datasets/tcc_ceds_music.csv\"\n",
        "df = pd.read_csv(url)"
      ],
      "id": "resident-persian",
      "execution_count": 2,
      "outputs": []
    },
    {
      "cell_type": "markdown",
      "metadata": {
        "id": "attractive-thing"
      },
      "source": [
        "Let's take a quick look: "
      ],
      "id": "attractive-thing"
    },
    {
      "cell_type": "code",
      "metadata": {
        "id": "lasting-baltimore",
        "outputId": "214ef96b-5db1-44b3-fe54-44cd2cd0377a",
        "colab": {
          "base_uri": "https://localhost:8080/",
          "height": 634
        }
      },
      "source": [
        "df.head()"
      ],
      "id": "lasting-baltimore",
      "execution_count": 3,
      "outputs": [
        {
          "output_type": "execute_result",
          "data": {
            "text/html": [
              "<div>\n",
              "<style scoped>\n",
              "    .dataframe tbody tr th:only-of-type {\n",
              "        vertical-align: middle;\n",
              "    }\n",
              "\n",
              "    .dataframe tbody tr th {\n",
              "        vertical-align: top;\n",
              "    }\n",
              "\n",
              "    .dataframe thead th {\n",
              "        text-align: right;\n",
              "    }\n",
              "</style>\n",
              "<table border=\"1\" class=\"dataframe\">\n",
              "  <thead>\n",
              "    <tr style=\"text-align: right;\">\n",
              "      <th></th>\n",
              "      <th>Unnamed: 0</th>\n",
              "      <th>artist_name</th>\n",
              "      <th>track_name</th>\n",
              "      <th>release_date</th>\n",
              "      <th>genre</th>\n",
              "      <th>lyrics</th>\n",
              "      <th>len</th>\n",
              "      <th>dating</th>\n",
              "      <th>violence</th>\n",
              "      <th>world/life</th>\n",
              "      <th>night/time</th>\n",
              "      <th>shake the audience</th>\n",
              "      <th>family/gospel</th>\n",
              "      <th>romantic</th>\n",
              "      <th>communication</th>\n",
              "      <th>obscene</th>\n",
              "      <th>music</th>\n",
              "      <th>movement/places</th>\n",
              "      <th>light/visual perceptions</th>\n",
              "      <th>family/spiritual</th>\n",
              "      <th>like/girls</th>\n",
              "      <th>sadness</th>\n",
              "      <th>feelings</th>\n",
              "      <th>danceability</th>\n",
              "      <th>loudness</th>\n",
              "      <th>acousticness</th>\n",
              "      <th>instrumentalness</th>\n",
              "      <th>valence</th>\n",
              "      <th>energy</th>\n",
              "      <th>topic</th>\n",
              "      <th>age</th>\n",
              "    </tr>\n",
              "  </thead>\n",
              "  <tbody>\n",
              "    <tr>\n",
              "      <th>0</th>\n",
              "      <td>0</td>\n",
              "      <td>mukesh</td>\n",
              "      <td>mohabbat bhi jhoothi</td>\n",
              "      <td>1950</td>\n",
              "      <td>pop</td>\n",
              "      <td>hold time feel break feel untrue convince spea...</td>\n",
              "      <td>95</td>\n",
              "      <td>0.000598</td>\n",
              "      <td>0.063746</td>\n",
              "      <td>0.000598</td>\n",
              "      <td>0.000598</td>\n",
              "      <td>0.000598</td>\n",
              "      <td>0.048857</td>\n",
              "      <td>0.017104</td>\n",
              "      <td>0.263751</td>\n",
              "      <td>0.000598</td>\n",
              "      <td>0.039288</td>\n",
              "      <td>0.000598</td>\n",
              "      <td>0.000598</td>\n",
              "      <td>0.000598</td>\n",
              "      <td>0.000598</td>\n",
              "      <td>0.380299</td>\n",
              "      <td>0.117175</td>\n",
              "      <td>0.357739</td>\n",
              "      <td>0.454119</td>\n",
              "      <td>0.997992</td>\n",
              "      <td>0.901822</td>\n",
              "      <td>0.339448</td>\n",
              "      <td>0.137110</td>\n",
              "      <td>sadness</td>\n",
              "      <td>1.0</td>\n",
              "    </tr>\n",
              "    <tr>\n",
              "      <th>1</th>\n",
              "      <td>4</td>\n",
              "      <td>frankie laine</td>\n",
              "      <td>i believe</td>\n",
              "      <td>1950</td>\n",
              "      <td>pop</td>\n",
              "      <td>believe drop rain fall grow believe darkest ni...</td>\n",
              "      <td>51</td>\n",
              "      <td>0.035537</td>\n",
              "      <td>0.096777</td>\n",
              "      <td>0.443435</td>\n",
              "      <td>0.001284</td>\n",
              "      <td>0.001284</td>\n",
              "      <td>0.027007</td>\n",
              "      <td>0.001284</td>\n",
              "      <td>0.001284</td>\n",
              "      <td>0.001284</td>\n",
              "      <td>0.118034</td>\n",
              "      <td>0.001284</td>\n",
              "      <td>0.212681</td>\n",
              "      <td>0.051124</td>\n",
              "      <td>0.001284</td>\n",
              "      <td>0.001284</td>\n",
              "      <td>0.001284</td>\n",
              "      <td>0.331745</td>\n",
              "      <td>0.647540</td>\n",
              "      <td>0.954819</td>\n",
              "      <td>0.000002</td>\n",
              "      <td>0.325021</td>\n",
              "      <td>0.263240</td>\n",
              "      <td>world/life</td>\n",
              "      <td>1.0</td>\n",
              "    </tr>\n",
              "    <tr>\n",
              "      <th>2</th>\n",
              "      <td>6</td>\n",
              "      <td>johnnie ray</td>\n",
              "      <td>cry</td>\n",
              "      <td>1950</td>\n",
              "      <td>pop</td>\n",
              "      <td>sweetheart send letter goodbye secret feel bet...</td>\n",
              "      <td>24</td>\n",
              "      <td>0.002770</td>\n",
              "      <td>0.002770</td>\n",
              "      <td>0.002770</td>\n",
              "      <td>0.002770</td>\n",
              "      <td>0.002770</td>\n",
              "      <td>0.002770</td>\n",
              "      <td>0.158564</td>\n",
              "      <td>0.250668</td>\n",
              "      <td>0.002770</td>\n",
              "      <td>0.323794</td>\n",
              "      <td>0.002770</td>\n",
              "      <td>0.002770</td>\n",
              "      <td>0.002770</td>\n",
              "      <td>0.002770</td>\n",
              "      <td>0.002770</td>\n",
              "      <td>0.225422</td>\n",
              "      <td>0.456298</td>\n",
              "      <td>0.585288</td>\n",
              "      <td>0.840361</td>\n",
              "      <td>0.000000</td>\n",
              "      <td>0.351814</td>\n",
              "      <td>0.139112</td>\n",
              "      <td>music</td>\n",
              "      <td>1.0</td>\n",
              "    </tr>\n",
              "    <tr>\n",
              "      <th>3</th>\n",
              "      <td>10</td>\n",
              "      <td>pérez prado</td>\n",
              "      <td>patricia</td>\n",
              "      <td>1950</td>\n",
              "      <td>pop</td>\n",
              "      <td>kiss lips want stroll charm mambo chacha merin...</td>\n",
              "      <td>54</td>\n",
              "      <td>0.048249</td>\n",
              "      <td>0.001548</td>\n",
              "      <td>0.001548</td>\n",
              "      <td>0.001548</td>\n",
              "      <td>0.021500</td>\n",
              "      <td>0.001548</td>\n",
              "      <td>0.411536</td>\n",
              "      <td>0.001548</td>\n",
              "      <td>0.001548</td>\n",
              "      <td>0.001548</td>\n",
              "      <td>0.129250</td>\n",
              "      <td>0.001548</td>\n",
              "      <td>0.001548</td>\n",
              "      <td>0.081132</td>\n",
              "      <td>0.225889</td>\n",
              "      <td>0.001548</td>\n",
              "      <td>0.686992</td>\n",
              "      <td>0.744404</td>\n",
              "      <td>0.083935</td>\n",
              "      <td>0.199393</td>\n",
              "      <td>0.775350</td>\n",
              "      <td>0.743736</td>\n",
              "      <td>romantic</td>\n",
              "      <td>1.0</td>\n",
              "    </tr>\n",
              "    <tr>\n",
              "      <th>4</th>\n",
              "      <td>12</td>\n",
              "      <td>giorgos papadopoulos</td>\n",
              "      <td>apopse eida oneiro</td>\n",
              "      <td>1950</td>\n",
              "      <td>pop</td>\n",
              "      <td>till darling till matter know till dream live ...</td>\n",
              "      <td>48</td>\n",
              "      <td>0.001350</td>\n",
              "      <td>0.001350</td>\n",
              "      <td>0.417772</td>\n",
              "      <td>0.001350</td>\n",
              "      <td>0.001350</td>\n",
              "      <td>0.001350</td>\n",
              "      <td>0.463430</td>\n",
              "      <td>0.001350</td>\n",
              "      <td>0.001350</td>\n",
              "      <td>0.001350</td>\n",
              "      <td>0.001350</td>\n",
              "      <td>0.001350</td>\n",
              "      <td>0.029755</td>\n",
              "      <td>0.001350</td>\n",
              "      <td>0.068800</td>\n",
              "      <td>0.001350</td>\n",
              "      <td>0.291671</td>\n",
              "      <td>0.646489</td>\n",
              "      <td>0.975904</td>\n",
              "      <td>0.000246</td>\n",
              "      <td>0.597073</td>\n",
              "      <td>0.394375</td>\n",
              "      <td>romantic</td>\n",
              "      <td>1.0</td>\n",
              "    </tr>\n",
              "  </tbody>\n",
              "</table>\n",
              "</div>"
            ],
            "text/plain": [
              "   Unnamed: 0           artist_name  ...       topic  age\n",
              "0           0                mukesh  ...     sadness  1.0\n",
              "1           4         frankie laine  ...  world/life  1.0\n",
              "2           6           johnnie ray  ...       music  1.0\n",
              "3          10           pérez prado  ...    romantic  1.0\n",
              "4          12  giorgos papadopoulos  ...    romantic  1.0\n",
              "\n",
              "[5 rows x 31 columns]"
            ]
          },
          "metadata": {
            "tags": []
          },
          "execution_count": 3
        }
      ]
    },
    {
      "cell_type": "markdown",
      "metadata": {
        "id": "unavailable-heating"
      },
      "source": [
        "We have a number of columns here! We'll focus on a few subsets in particular: \n",
        "\n",
        "The `genre` describes the overall genre of the track. It has seven values: "
      ],
      "id": "unavailable-heating"
    },
    {
      "cell_type": "code",
      "metadata": {
        "id": "defensive-backing",
        "outputId": "4bc2037d-b963-4954-c09d-106b25c6f5a1",
        "colab": {
          "base_uri": "https://localhost:8080/"
        }
      },
      "source": [
        "df.groupby(\"genre\").size()"
      ],
      "id": "defensive-backing",
      "execution_count": 4,
      "outputs": [
        {
          "output_type": "execute_result",
          "data": {
            "text/plain": [
              "genre\n",
              "blues      4604\n",
              "country    5445\n",
              "hip hop     904\n",
              "jazz       3845\n",
              "pop        7042\n",
              "reggae     2498\n",
              "rock       4034\n",
              "dtype: int64"
            ]
          },
          "metadata": {
            "tags": []
          },
          "execution_count": 4
        }
      ]
    },
    {
      "cell_type": "markdown",
      "metadata": {
        "id": "coral-doubt"
      },
      "source": [
        "There data also includes \n",
        "- The complete `lyrics` of the track (if it has any) \n",
        "- The normalized `age` of the track (1.0 corresponds to tracks released in 1950, 0.0 corresponds to more recent tracks)\n",
        "- A selection of columns that give the track numerical scores reflecting various attributes and topics, such as \"danceability,\" \"loudness,\" and \"acousticness.\" \n",
        "\n",
        "There are also other columns in the data, but these are the ones we're going to focus on for this analysis. We are going to subset things a bit: let's focus on only a few genres, and on only relatively recent tracks. "
      ],
      "id": "coral-doubt"
    },
    {
      "cell_type": "code",
      "metadata": {
        "id": "reverse-winner"
      },
      "source": [
        "df = df[df[\"release_date\"] > 2000]\n",
        "genres = [\"blues\", \"hip hop\", \"country\"]\n",
        "df = df[df[\"genre\"].apply(lambda x: x in genres)]"
      ],
      "id": "reverse-winner",
      "execution_count": 5,
      "outputs": []
    },
    {
      "cell_type": "markdown",
      "metadata": {
        "id": "impossible-weekly"
      },
      "source": [
        "Next, let's do a categorical encoding of the `genre` column. "
      ],
      "id": "impossible-weekly"
    },
    {
      "cell_type": "code",
      "metadata": {
        "id": "annual-seeking"
      },
      "source": [
        "le = LabelEncoder()\n",
        "df[\"genre\"] = le.fit_transform(df[\"genre\"])\n",
        "num_genres = len(df[\"genre\"].unique())"
      ],
      "id": "annual-seeking",
      "execution_count": 6,
      "outputs": []
    },
    {
      "cell_type": "markdown",
      "metadata": {
        "id": "experienced-sunset"
      },
      "source": [
        "## Create a Dataset\n",
        "\n",
        "We're now ready to create a TensorFlow `Dataset`. This is going to be a little more involved than last time, because we need to distinguish between different kinds of model inputs. \n",
        "\n",
        "Here's a list of all the scalar \"score\" columns in the data frame. "
      ],
      "id": "experienced-sunset"
    },
    {
      "cell_type": "code",
      "metadata": {
        "id": "minus-triangle"
      },
      "source": [
        "scalars = ['dating', \n",
        "           'violence', \n",
        "           'world/life', \n",
        "           'night/time',\n",
        "           'shake the audience',\n",
        "           'family/gospel', \n",
        "           'romantic', \n",
        "           'communication',\n",
        "           'obscene', \n",
        "           'music', \n",
        "           'movement/places', \n",
        "           'light/visual perceptions',\n",
        "           'family/spiritual', \n",
        "           'like/girls', \n",
        "           'sadness', \n",
        "           'feelings', \n",
        "           'danceability',\n",
        "           'loudness', \n",
        "           'acousticness', \n",
        "           'instrumentalness', \n",
        "           'valence', \n",
        "           'energy']        "
      ],
      "id": "minus-triangle",
      "execution_count": 7,
      "outputs": []
    },
    {
      "cell_type": "markdown",
      "metadata": {
        "id": "reasonable-symposium"
      },
      "source": [
        "Because we have multiple inputs, we are going to construct our `Dataset` from a tuple of dictionaries. The first dictionary is going to specify the different components in the predictor data, while the second dictionary is going to specify the different components of the target data. "
      ],
      "id": "reasonable-symposium"
    },
    {
      "cell_type": "code",
      "metadata": {
        "id": "upper-carter"
      },
      "source": [
        "data = tf.data.Dataset.from_tensor_slices(\n",
        "    (\n",
        "        {\n",
        "            \"lyrics\" : df[[\"lyrics\"]], \n",
        "            \"scalars\" : np.array(df[scalars])}, \n",
        "        {\n",
        "            \"genre\" : df[[\"genre\"]]\n",
        "        }\n",
        "    )\n",
        ")"
      ],
      "id": "upper-carter",
      "execution_count": 8,
      "outputs": []
    },
    {
      "cell_type": "markdown",
      "metadata": {
        "id": "valid-miami"
      },
      "source": [
        "Next, we are going to perform a train/test/validation split. For each of the three split `Datasets`, we are going to *batch* them into small chunks of data. This helps with training runtime later. "
      ],
      "id": "valid-miami"
    },
    {
      "cell_type": "code",
      "metadata": {
        "id": "ordered-density",
        "outputId": "1c6fdfa1-bfcf-4b56-b37b-8bfaccddaf31",
        "colab": {
          "base_uri": "https://localhost:8080/"
        }
      },
      "source": [
        "data = data.shuffle(buffer_size = len(data))\n",
        "\n",
        "train_size = int(0.7*len(data))\n",
        "val_size   = int(0.1*len(data))\n",
        "\n",
        "train = data.take(train_size).batch(20)\n",
        "val   = data.skip(train_size).take(val_size).batch(20)\n",
        "test  = data.skip(train_size + val_size).batch(20)\n",
        "\n",
        "len(train), len(val), len(test)"
      ],
      "id": "ordered-density",
      "execution_count": 9,
      "outputs": [
        {
          "output_type": "execute_result",
          "data": {
            "text/plain": [
              "(134, 19, 39)"
            ]
          },
          "metadata": {
            "tags": []
          },
          "execution_count": 9
        }
      ]
    },
    {
      "cell_type": "markdown",
      "metadata": {
        "id": "growing-democracy"
      },
      "source": [
        "Each of the numbers above should be multipled by the batch size to give the total number of rows in each `Dataset`. \n",
        "\n",
        "The code below sets up exactly the same text preprocessing that we did [last lecture](https://nbviewer.jupyter.org/github/PhilChodrow/PIC16B/blob/master/lectures/tf/tf-3.ipynb). "
      ],
      "id": "growing-democracy"
    },
    {
      "cell_type": "code",
      "metadata": {
        "id": "minimal-function"
      },
      "source": [
        "size_vocabulary = 2000\n",
        "\n",
        "def standardization(input_data):\n",
        "    lowercase = tf.strings.lower(input_data)\n",
        "    no_punctuation = tf.strings.regex_replace(lowercase,\n",
        "                                  '[%s]' % re.escape(string.punctuation),'')\n",
        "    return no_punctuation \n",
        "\n",
        "vectorize_layer = TextVectorization(\n",
        "    standardize=standardization,\n",
        "    max_tokens=size_vocabulary, # only consider this many words\n",
        "    output_mode='int',\n",
        "    output_sequence_length=500) \n",
        "\n",
        "vectorize_layer.adapt(train.map(lambda x, y: x[\"lyrics\"]))"
      ],
      "id": "minimal-function",
      "execution_count": 24,
      "outputs": []
    },
    {
      "cell_type": "markdown",
      "metadata": {
        "id": "stopped-scholar"
      },
      "source": [
        "## The Keras Functional API\n",
        "\n",
        "In previousl lectures, we used the `Sequential` API for constructing models. For example, we wrote code like this: \n",
        "\n",
        "```python\n",
        "model = tf.keras.Sequential([\n",
        "  layers.Embedding(max_tokens, output_dim = 3),\n",
        "  layers.Dropout(0.2),\n",
        "  layers.GlobalAveragePooling1D(),\n",
        "  layers.Dropout(0.2),\n",
        "  layers.Dense(len(categories))]\n",
        ")\n",
        "```\n",
        "\n",
        "This model is designed to accept a single kind of input (in this case text) and spit out a single output. However, in our case we have two distinct *kinds* of input: the song lyrics and the scalar scores. It wouldn't really make much sense to pass the scalar scores through a text vectorization or embedding layer. For this reason, we need to move beyond the `Sequential` API and instead constructing our models using a somewhat more manual approach, referred to as the `Functional` API. "
      ],
      "id": "stopped-scholar"
    },
    {
      "cell_type": "markdown",
      "metadata": {
        "id": "great-gambling"
      },
      "source": [
        "### Inputs\n",
        "\n",
        "Start by specifying the two kinds of `keras.Input` for our model. You should have one input for each qualitatively distinct \"kind\" of predictor data. All the parameters here are important: \n",
        "\n",
        "- `shape` should describe the shape of a single item of data. For example, the `lyrics` column contains just one entry for each song, so the shape is `(1,)` (a tuple of length 1). On the other hand, there are `len(scalars) = 22` distinct columns of scalar scores. \n",
        "- the `name` should be some descriptive name that you're able to remember for later. \n",
        "- The `dtype` specifies the kind of data contained in each of the input tensors. "
      ],
      "id": "great-gambling"
    },
    {
      "cell_type": "code",
      "metadata": {
        "id": "cooperative-confidence"
      },
      "source": [
        "# inputs\n",
        "\n",
        "lyrics_input = keras.Input(\n",
        "    shape = (1,), \n",
        "    name = \"lyrics\",\n",
        "    dtype = \"string\"\n",
        ")\n",
        "\n",
        "scalars_input = keras.Input(\n",
        "    shape = (len(scalars),), \n",
        "    name = \"scalars\",\n",
        "    dtype = \"float64\"\n",
        ")"
      ],
      "id": "cooperative-confidence",
      "execution_count": 25,
      "outputs": []
    },
    {
      "cell_type": "markdown",
      "metadata": {
        "id": "chronic-carbon"
      },
      "source": [
        "## Hidden Layers\n",
        "\n",
        "First, let's write a pipeline for the lyrics. This pipeline is pretty much the same as the one we used earlier for text classification -- we're just building it differently. "
      ],
      "id": "chronic-carbon"
    },
    {
      "cell_type": "code",
      "metadata": {
        "id": "comprehensive-overall"
      },
      "source": [
        "# layers for processing the lyrics, pretty much the same as from our lecture\n",
        "# on text classification\n",
        "lyrics_features = vectorize_layer(lyrics_input)\n",
        "lyrics_features = layers.Embedding(size_vocabulary, 3, name = \"embedding\")(lyrics_features)\n",
        "lyrics_features = layers.Dropout(0.2)(lyrics_features)\n",
        "lyrics_features = layers.GlobalAveragePooling1D()(lyrics_features)\n",
        "lyrics_features = layers.Dropout(0.2)(lyrics_features)\n",
        "lyrics_features = layers.Dense(32)(lyrics_features)"
      ],
      "id": "comprehensive-overall",
      "execution_count": 26,
      "outputs": []
    },
    {
      "cell_type": "markdown",
      "metadata": {
        "id": "accredited-canvas"
      },
      "source": [
        "Next, let's write a pipeline for the scalars. We don't need to do anything fancy with them, so instead of messing with `Embeddings` and the like, we're just going to pass them through a `Dense` layer. "
      ],
      "id": "accredited-canvas"
    },
    {
      "cell_type": "code",
      "metadata": {
        "id": "opposed-scene"
      },
      "source": [
        "scalar_features = layers.Dense(32)(scalars_input)"
      ],
      "id": "opposed-scene",
      "execution_count": 27,
      "outputs": []
    },
    {
      "cell_type": "markdown",
      "metadata": {
        "id": "accurate-omega"
      },
      "source": [
        "Here's simultaneously the most important and most boring part of the whole model: we are going to `concatenate` the output of the `lyrics` pipeline with the output of the `scalar` pipeline: "
      ],
      "id": "accurate-omega"
    },
    {
      "cell_type": "code",
      "metadata": {
        "id": "conscious-mapping"
      },
      "source": [
        "main = layers.concatenate([lyrics_features, scalar_features], axis = 1)"
      ],
      "id": "conscious-mapping",
      "execution_count": 28,
      "outputs": []
    },
    {
      "cell_type": "markdown",
      "metadata": {
        "id": "pleased-fighter"
      },
      "source": [
        "Finally, let's pass the consolidated set of computed features through a few more `Dense` layers. Remember that the very last `Dense` layer should have a number of outputs equal to the number of classes in the data. \n",
        "\n",
        "**Observe that the output layer has a name, and that this name matches the key corresponding to the target data in the `Datasets` we will pass to the model.** This is how TensorFlow knows which part of our data set to compare against the outputs! "
      ],
      "id": "pleased-fighter"
    },
    {
      "cell_type": "code",
      "metadata": {
        "id": "fleet-society"
      },
      "source": [
        "main = layers.Dense(32)(main)\n",
        "output = layers.Dense(num_genres, name = \"genre\")(main)"
      ],
      "id": "fleet-society",
      "execution_count": 29,
      "outputs": []
    },
    {
      "cell_type": "markdown",
      "metadata": {
        "id": "cognitive-sleeve"
      },
      "source": [
        "So far, we haven't actually created a model yet -- just a bunch of interrelated layers. We create the model by specifying the input(s) and output. "
      ],
      "id": "cognitive-sleeve"
    },
    {
      "cell_type": "code",
      "metadata": {
        "id": "accredited-publication"
      },
      "source": [
        "model = keras.Model(\n",
        "    inputs = [lyrics_input, scalars_input],\n",
        "    outputs = output\n",
        ")"
      ],
      "id": "accredited-publication",
      "execution_count": 30,
      "outputs": []
    },
    {
      "cell_type": "markdown",
      "metadata": {
        "id": "authentic-conversion"
      },
      "source": [
        "The model summary provides one good way to look at the structure of the model, but it can be difficult to read when there are multiple inputs: "
      ],
      "id": "authentic-conversion"
    },
    {
      "cell_type": "code",
      "metadata": {
        "colab": {
          "base_uri": "https://localhost:8080/"
        },
        "id": "homeless-terrain",
        "outputId": "14d43985-1a3b-47da-eaa5-f676fa256b26"
      },
      "source": [
        "model.summary()"
      ],
      "id": "homeless-terrain",
      "execution_count": 31,
      "outputs": [
        {
          "output_type": "stream",
          "text": [
            "Model: \"model_1\"\n",
            "__________________________________________________________________________________________________\n",
            "Layer (type)                    Output Shape         Param #     Connected to                     \n",
            "==================================================================================================\n",
            "lyrics (InputLayer)             [(None, 1)]          0                                            \n",
            "__________________________________________________________________________________________________\n",
            "text_vectorization_1 (TextVecto (None, 500)          0           lyrics[0][0]                     \n",
            "__________________________________________________________________________________________________\n",
            "embedding (Embedding)           (None, 500, 3)       6000        text_vectorization_1[0][0]       \n",
            "__________________________________________________________________________________________________\n",
            "dropout_2 (Dropout)             (None, 500, 3)       0           embedding[0][0]                  \n",
            "__________________________________________________________________________________________________\n",
            "global_average_pooling1d_1 (Glo (None, 3)            0           dropout_2[0][0]                  \n",
            "__________________________________________________________________________________________________\n",
            "dropout_3 (Dropout)             (None, 3)            0           global_average_pooling1d_1[0][0] \n",
            "__________________________________________________________________________________________________\n",
            "scalars (InputLayer)            [(None, 22)]         0                                            \n",
            "__________________________________________________________________________________________________\n",
            "dense_3 (Dense)                 (None, 32)           128         dropout_3[0][0]                  \n",
            "__________________________________________________________________________________________________\n",
            "dense_4 (Dense)                 (None, 32)           736         scalars[0][0]                    \n",
            "__________________________________________________________________________________________________\n",
            "concatenate_1 (Concatenate)     (None, 64)           0           dense_3[0][0]                    \n",
            "                                                                 dense_4[0][0]                    \n",
            "__________________________________________________________________________________________________\n",
            "dense_5 (Dense)                 (None, 32)           2080        concatenate_1[0][0]              \n",
            "__________________________________________________________________________________________________\n",
            "genre (Dense)                   (None, 3)            99          dense_5[0][0]                    \n",
            "==================================================================================================\n",
            "Total params: 9,043\n",
            "Trainable params: 9,043\n",
            "Non-trainable params: 0\n",
            "__________________________________________________________________________________________________\n"
          ],
          "name": "stdout"
        }
      ]
    },
    {
      "cell_type": "markdown",
      "metadata": {
        "id": "lined-blade"
      },
      "source": [
        "Something a bit more visually attractive can be obtained by using the `plot_model` function: "
      ],
      "id": "lined-blade"
    },
    {
      "cell_type": "code",
      "metadata": {
        "colab": {
          "base_uri": "https://localhost:8080/",
          "height": 953
        },
        "id": "outdoor-prague",
        "outputId": "e865ded8-d1cc-4ba3-c2a2-3f5ada204528"
      },
      "source": [
        "keras.utils.plot_model(model)"
      ],
      "id": "outdoor-prague",
      "execution_count": 32,
      "outputs": [
        {
          "output_type": "execute_result",
          "data": {
            "image/png": "[encoded data removed]",
            "text/plain": [
              "<IPython.core.display.Image object>"
            ]
          },
          "metadata": {
            "tags": []
          },
          "execution_count": 32
        }
      ]
    },
    {
      "cell_type": "markdown",
      "metadata": {
        "id": "executed-capability"
      },
      "source": [
        "Now we're ready to train and evaluate our model as usual! As always, we need to compile:"
      ],
      "id": "executed-capability"
    },
    {
      "cell_type": "code",
      "metadata": {
        "id": "reported-glass"
      },
      "source": [
        "model.compile(optimizer = \"adam\",\n",
        "              loss = losses.SparseCategoricalCrossentropy(from_logits=True),\n",
        "              metrics=['accuracy']\n",
        ")"
      ],
      "id": "reported-glass",
      "execution_count": 33,
      "outputs": []
    },
    {
      "cell_type": "markdown",
      "metadata": {
        "id": "distinct-premium"
      },
      "source": [
        "And now we train! "
      ],
      "id": "distinct-premium"
    },
    {
      "cell_type": "code",
      "metadata": {
        "colab": {
          "base_uri": "https://localhost:8080/"
        },
        "id": "developing-bread",
        "outputId": "4a0d5e74-0f8b-4e33-debb-4d0b91b9cc67"
      },
      "source": [
        "history = model.fit(train, \n",
        "                    validation_data=val,\n",
        "                    epochs = 50)"
      ],
      "id": "developing-bread",
      "execution_count": 34,
      "outputs": [
        {
          "output_type": "stream",
          "text": [
            "Epoch 1/50\n",
            "134/134 [==============================] - 2s 7ms/step - loss: 1.0194 - accuracy: 0.4556 - val_loss: 0.8251 - val_accuracy: 0.6263\n",
            "Epoch 2/50\n",
            "134/134 [==============================] - 1s 5ms/step - loss: 0.8103 - accuracy: 0.6288 - val_loss: 0.7656 - val_accuracy: 0.6263\n",
            "Epoch 3/50\n",
            "134/134 [==============================] - 1s 5ms/step - loss: 0.7374 - accuracy: 0.6479 - val_loss: 0.6870 - val_accuracy: 0.6842\n",
            "Epoch 4/50\n",
            "134/134 [==============================] - 1s 5ms/step - loss: 0.7298 - accuracy: 0.6635 - val_loss: 0.6729 - val_accuracy: 0.6658\n",
            "Epoch 5/50\n",
            "134/134 [==============================] - 1s 5ms/step - loss: 0.6967 - accuracy: 0.6779 - val_loss: 0.7451 - val_accuracy: 0.6632\n",
            "Epoch 6/50\n",
            "134/134 [==============================] - 1s 5ms/step - loss: 0.6893 - accuracy: 0.6768 - val_loss: 0.6360 - val_accuracy: 0.7105\n",
            "Epoch 7/50\n",
            "134/134 [==============================] - 1s 5ms/step - loss: 0.6899 - accuracy: 0.6789 - val_loss: 0.6575 - val_accuracy: 0.6974\n",
            "Epoch 8/50\n",
            "134/134 [==============================] - 1s 5ms/step - loss: 0.6452 - accuracy: 0.7136 - val_loss: 0.6087 - val_accuracy: 0.7263\n",
            "Epoch 9/50\n",
            "134/134 [==============================] - 1s 5ms/step - loss: 0.6498 - accuracy: 0.7073 - val_loss: 0.6090 - val_accuracy: 0.7132\n",
            "Epoch 10/50\n",
            "134/134 [==============================] - 1s 5ms/step - loss: 0.6264 - accuracy: 0.7153 - val_loss: 0.5864 - val_accuracy: 0.6947\n",
            "Epoch 11/50\n",
            "134/134 [==============================] - 1s 5ms/step - loss: 0.5512 - accuracy: 0.7625 - val_loss: 0.5355 - val_accuracy: 0.7632\n",
            "Epoch 12/50\n",
            "134/134 [==============================] - 1s 5ms/step - loss: 0.5488 - accuracy: 0.7481 - val_loss: 0.5549 - val_accuracy: 0.7184\n",
            "Epoch 13/50\n",
            "134/134 [==============================] - 1s 5ms/step - loss: 0.5437 - accuracy: 0.7408 - val_loss: 0.4999 - val_accuracy: 0.7658\n",
            "Epoch 14/50\n",
            "134/134 [==============================] - 1s 5ms/step - loss: 0.5138 - accuracy: 0.7644 - val_loss: 0.5425 - val_accuracy: 0.7395\n",
            "Epoch 15/50\n",
            "134/134 [==============================] - 1s 5ms/step - loss: 0.5413 - accuracy: 0.7499 - val_loss: 0.4784 - val_accuracy: 0.8158\n",
            "Epoch 16/50\n",
            "134/134 [==============================] - 1s 5ms/step - loss: 0.4864 - accuracy: 0.7663 - val_loss: 0.4620 - val_accuracy: 0.7658\n",
            "Epoch 17/50\n",
            "134/134 [==============================] - 1s 5ms/step - loss: 0.4807 - accuracy: 0.7988 - val_loss: 0.4584 - val_accuracy: 0.7947\n",
            "Epoch 18/50\n",
            "134/134 [==============================] - 1s 5ms/step - loss: 0.4599 - accuracy: 0.7852 - val_loss: 0.4361 - val_accuracy: 0.8184\n",
            "Epoch 19/50\n",
            "134/134 [==============================] - 1s 5ms/step - loss: 0.4430 - accuracy: 0.7993 - val_loss: 0.3893 - val_accuracy: 0.8368\n",
            "Epoch 20/50\n",
            "134/134 [==============================] - 1s 5ms/step - loss: 0.4171 - accuracy: 0.8203 - val_loss: 0.3807 - val_accuracy: 0.8421\n",
            "Epoch 21/50\n",
            "134/134 [==============================] - 1s 5ms/step - loss: 0.4025 - accuracy: 0.8192 - val_loss: 0.4033 - val_accuracy: 0.8237\n",
            "Epoch 22/50\n",
            "134/134 [==============================] - 1s 5ms/step - loss: 0.3943 - accuracy: 0.8244 - val_loss: 0.3341 - val_accuracy: 0.8816\n",
            "Epoch 23/50\n",
            "134/134 [==============================] - 1s 5ms/step - loss: 0.3848 - accuracy: 0.8285 - val_loss: 0.3539 - val_accuracy: 0.8368\n",
            "Epoch 24/50\n",
            "134/134 [==============================] - 1s 5ms/step - loss: 0.3646 - accuracy: 0.8394 - val_loss: 0.3434 - val_accuracy: 0.8553\n",
            "Epoch 25/50\n",
            "134/134 [==============================] - 1s 5ms/step - loss: 0.3645 - accuracy: 0.8427 - val_loss: 0.3413 - val_accuracy: 0.8421\n",
            "Epoch 26/50\n",
            "134/134 [==============================] - 1s 5ms/step - loss: 0.3789 - accuracy: 0.8260 - val_loss: 0.2898 - val_accuracy: 0.8711\n",
            "Epoch 27/50\n",
            "134/134 [==============================] - 1s 5ms/step - loss: 0.3404 - accuracy: 0.8516 - val_loss: 0.2901 - val_accuracy: 0.8763\n",
            "Epoch 28/50\n",
            "134/134 [==============================] - 1s 5ms/step - loss: 0.3337 - accuracy: 0.8586 - val_loss: 0.2779 - val_accuracy: 0.8921\n",
            "Epoch 29/50\n",
            "134/134 [==============================] - 1s 5ms/step - loss: 0.3515 - accuracy: 0.8488 - val_loss: 0.2785 - val_accuracy: 0.9158\n",
            "Epoch 30/50\n",
            "134/134 [==============================] - 1s 5ms/step - loss: 0.3357 - accuracy: 0.8574 - val_loss: 0.2534 - val_accuracy: 0.9237\n",
            "Epoch 31/50\n",
            "134/134 [==============================] - 1s 5ms/step - loss: 0.3006 - accuracy: 0.8610 - val_loss: 0.2643 - val_accuracy: 0.9000\n",
            "Epoch 32/50\n",
            "134/134 [==============================] - 1s 5ms/step - loss: 0.3229 - accuracy: 0.8679 - val_loss: 0.2491 - val_accuracy: 0.8895\n",
            "Epoch 33/50\n",
            "134/134 [==============================] - 1s 5ms/step - loss: 0.3263 - accuracy: 0.8584 - val_loss: 0.2401 - val_accuracy: 0.9053\n",
            "Epoch 34/50\n",
            "134/134 [==============================] - 1s 5ms/step - loss: 0.3108 - accuracy: 0.8632 - val_loss: 0.1977 - val_accuracy: 0.9342\n",
            "Epoch 35/50\n",
            "134/134 [==============================] - 1s 5ms/step - loss: 0.3003 - accuracy: 0.8699 - val_loss: 0.2783 - val_accuracy: 0.8789\n",
            "Epoch 36/50\n",
            "134/134 [==============================] - 1s 5ms/step - loss: 0.3047 - accuracy: 0.8782 - val_loss: 0.2355 - val_accuracy: 0.9158\n",
            "Epoch 37/50\n",
            "134/134 [==============================] - 1s 5ms/step - loss: 0.2808 - accuracy: 0.8786 - val_loss: 0.2390 - val_accuracy: 0.9026\n",
            "Epoch 38/50\n",
            "134/134 [==============================] - 1s 5ms/step - loss: 0.2906 - accuracy: 0.8668 - val_loss: 0.2283 - val_accuracy: 0.9079\n",
            "Epoch 39/50\n",
            "134/134 [==============================] - 1s 5ms/step - loss: 0.3038 - accuracy: 0.8730 - val_loss: 0.2458 - val_accuracy: 0.8974\n",
            "Epoch 40/50\n",
            "134/134 [==============================] - 1s 5ms/step - loss: 0.3066 - accuracy: 0.8712 - val_loss: 0.1845 - val_accuracy: 0.9421\n",
            "Epoch 41/50\n",
            "134/134 [==============================] - 1s 5ms/step - loss: 0.2881 - accuracy: 0.8727 - val_loss: 0.1716 - val_accuracy: 0.9395\n",
            "Epoch 42/50\n",
            "134/134 [==============================] - 1s 5ms/step - loss: 0.2877 - accuracy: 0.8803 - val_loss: 0.2613 - val_accuracy: 0.9000\n",
            "Epoch 43/50\n",
            "134/134 [==============================] - 1s 5ms/step - loss: 0.2827 - accuracy: 0.8870 - val_loss: 0.2132 - val_accuracy: 0.9026\n",
            "Epoch 44/50\n",
            "134/134 [==============================] - 1s 5ms/step - loss: 0.2953 - accuracy: 0.8733 - val_loss: 0.2035 - val_accuracy: 0.9211\n",
            "Epoch 45/50\n",
            "134/134 [==============================] - 1s 5ms/step - loss: 0.2683 - accuracy: 0.8877 - val_loss: 0.2023 - val_accuracy: 0.9263\n",
            "Epoch 46/50\n",
            "134/134 [==============================] - 1s 5ms/step - loss: 0.2610 - accuracy: 0.8843 - val_loss: 0.2073 - val_accuracy: 0.9289\n",
            "Epoch 47/50\n",
            "134/134 [==============================] - 1s 5ms/step - loss: 0.2599 - accuracy: 0.8836 - val_loss: 0.2473 - val_accuracy: 0.8921\n",
            "Epoch 48/50\n",
            "134/134 [==============================] - 1s 5ms/step - loss: 0.3080 - accuracy: 0.8639 - val_loss: 0.2158 - val_accuracy: 0.9105\n",
            "Epoch 49/50\n",
            "134/134 [==============================] - 1s 5ms/step - loss: 0.2849 - accuracy: 0.8766 - val_loss: 0.2156 - val_accuracy: 0.9026\n",
            "Epoch 50/50\n",
            "134/134 [==============================] - 1s 5ms/step - loss: 0.2941 - accuracy: 0.8671 - val_loss: 0.2006 - val_accuracy: 0.9211\n"
          ],
          "name": "stdout"
        }
      ]
    },
    {
      "cell_type": "code",
      "metadata": {
        "colab": {
          "base_uri": "https://localhost:8080/",
          "height": 282
        },
        "id": "fixed-questionnaire",
        "outputId": "654c119a-86a6-4bdc-8d3e-090d344979b4"
      },
      "source": [
        "from matplotlib import pyplot as plt\n",
        "plt.plot(history.history[\"accuracy\"])\n",
        "plt.plot(history.history[\"val_accuracy\"])"
      ],
      "id": "fixed-questionnaire",
      "execution_count": 35,
      "outputs": [
        {
          "output_type": "execute_result",
          "data": {
            "text/plain": [
              "[<matplotlib.lines.Line2D at 0x7fd625e84f90>]"
            ]
          },
          "metadata": {
            "tags": []
          },
          "execution_count": 35
        },
        {
          "output_type": "display_data",
          "data": {
            "image/png": "[encoded data removed]",
            "text/plain": [
              "<Figure size 432x288 with 1 Axes>"
            ]
          },
          "metadata": {
            "tags": [],
            "needs_background": "light"
          }
        }
      ]
    },
    {
      "cell_type": "markdown",
      "metadata": {
        "id": "cognitive-amateur"
      },
      "source": [
        "## Visualizing Embeddings\n",
        "\n",
        "As usual, it's fun to take a look at the embedding learned by our model. Provided that we gave our embedding layer a name, the same approach as last time works just fine: "
      ],
      "id": "cognitive-amateur"
    },
    {
      "cell_type": "code",
      "metadata": {
        "id": "blond-holly"
      },
      "source": [
        "weights = model.get_layer('embedding').get_weights()[0] # get the weights from the embedding layer\n",
        "vocab = vectorize_layer.get_vocabulary()                # get the vocabulary from our data prep for later\n",
        "\n",
        "from sklearn.decomposition import PCA\n",
        "pca = PCA(n_components=2)\n",
        "weights = pca.fit_transform(weights)\n",
        "\n",
        "embedding_df = pd.DataFrame({\n",
        "    'word' : vocab, \n",
        "    'x0'   : weights[:,0],\n",
        "    'x1'   : weights[:,1]\n",
        "})"
      ],
      "id": "blond-holly",
      "execution_count": 36,
      "outputs": []
    },
    {
      "cell_type": "code",
      "metadata": {
        "colab": {
          "base_uri": "https://localhost:8080/",
          "height": 542
        },
        "id": "continuing-fluid",
        "outputId": "2e7b14de-fea6-473a-9351-5cdb07831322"
      },
      "source": [
        "import plotly.express as px \n",
        "fig = px.scatter(embedding_df, \n",
        "                 x = \"x0\", \n",
        "                 y = \"x1\", \n",
        "                 size = list(np.ones(len(embedding_df))),\n",
        "                 size_max = 2,\n",
        "                 hover_name = \"word\")\n",
        "\n",
        "fig.show()"
      ],
      "id": "continuing-fluid",
      "execution_count": 37,
      "outputs": [
        {
          "output_type": "display_data",
          "data": {
            "text/html": [
              "<html>\n",
              "<head><meta charset=\"utf-8\" /></head>\n",
              "<body>\n",
              "    <div>\n",
              "            <script src=\"https://cdnjs.cloudflare.com/ajax/libs/mathjax/2.7.5/MathJax.js?config=TeX-AMS-MML_SVG\"></script><script type=\"text/javascript\">if (window.MathJax) {MathJax.Hub.Config({SVG: {font: \"STIX-Web\"}});}</script>\n",
              "                <script type=\"text/javascript\">window.PlotlyConfig = {MathJaxConfig: 'local'};</script>\n",
              "        <script src=\"https://cdn.plot.ly/plotly-latest.min.js\"></script>    \n",
              "            <div id=\"6291688a-7798-475d-ab44-de020ad039ca\" class=\"plotly-graph-div\" style=\"height:525px; width:100%;\"></div>\n",
              "            <script type=\"text/javascript\">\n",
              "                \n",
              "                    window.PLOTLYENV=window.PLOTLYENV || {};\n",
              "                    \n",
              "                if (document.getElementById(\"6291688a-7798-475d-ab44-de020ad039ca\")) {\n",
              "                    Plotly.newPlot(\n",
              "                        '6291688a-7798-475d-ab44-de020ad039ca',\n",
              "                        [{\"hoverlabel\": {\"namelength\": 0}, \"hovertemplate\": \"<b>%{hovertext}</b><br><br>x0=%{x}<br>x1=%{y}<br>size=%{marker.size}\", \"hovertext\": [\"\", \"[UNK]\", \"like\", \"know\", \"time\", \"come\", \"yeah\", \"go\", \"cause\", \"feel\", \"life\", \"right\", \"leave\", \"baby\", \"away\", \"tell\", \"want\", \"heart\", \"gonna\", \"think\", \"long\", \"good\", \"break\", \"live\", \"look\", \"night\", \"wanna\", \"need\", \"hand\", \"world\", \"mind\", \"fuck\", \"hear\", \"little\", \"hold\", \"say\", \"better\", \"head\", \"turn\", \"home\", \"bitch\", \"fall\", \"black\", \"shit\", \"girl\", \"walk\", \"lose\", \"eye\", \"play\", \"stay\", \"change\", \"start\", \"money\", \"nigga\", \"take\", \"sing\", \"hard\", \"stand\", \"dream\", \"thing\", \"believe\", \"gotta\", \"things\", \"bout\", \"hell\", \"party\", \"real\", \"stop\", \"song\", \"get\", \"bring\", \"blue\", \"light\", \"kill\", \"face\", \"watch\", \"fight\", \"word\", \"drink\", \"wrong\", \"tonight\", \"days\", \"people\", \"line\", \"try\", \"niggas\", \"tear\", \"damn\", \"place\", \"lord\", \"soul\", \"talk\", \"sound\", \"wish\", \"lyric\", \"call\", \"devil\", \"cold\", \"inside\", \"commercial\", \"high\", \"nothin\", \"game\", \"sleep\", \"miss\", \"make\", \"shoot\", \"give\", \"pain\", \"burn\", \"beat\", \"somebody\", \"hurt\", \"fool\", \"work\", \"everybody\", \"learn\", \"grind\", \"mean\", \"love\", \"open\", \"gettin\", \"remember\", \"lonely\", \"kiss\", \"close\", \"smoke\", \"roll\", \"best\", \"true\", \"forget\", \"grow\", \"road\", \"blood\", \"truth\", \"throw\", \"catch\", \"body\", \"drop\", \"dead\", \"ride\", \"hide\", \"listen\", \"goin\", \"wall\", \"see\", \"door\", \"save\", \"sweet\", \"livin\", \"free\", \"wait\", \"blow\", \"death\", \"cry\", \"rain\", \"touch\", \"white\", \"ready\", \"pull\", \"comin\", \"guess\", \"stick\", \"today\", \"help\", \"dance\", \"write\", \"tryin\", \"till\", \"maybe\", \"die\", \"care\", \"pass\", \"kick\", \"deep\", \"reason\", \"woman\", \"matter\", \"friends\", \"crazy\", \"sure\", \"ring\", \"hang\", \"breathe\", \"years\", \"thank\", \"hate\", \"run\", \"forever\", \"shake\", \"feet\", \"alive\", \"smile\", \"scar\", \"water\", \"pick\", \"step\", \"morning\", \"apart\", \"straight\", \"blame\", \"lie\", \"dark\", \"young\", \"girls\", \"round\", \"lookin\", \"fear\", \"drive\", \"wind\", \"late\", \"understand\", \"music\", \"keep\", \"goodbye\", \"follow\", \"spend\", \"sell\", \"blind\", \"easy\", \"fast\", \"check\", \"strong\", \"raise\", \"fuckin\", \"arm\", \"country\", \"build\", \"past\", \"wear\", \"house\", \"hole\", \"somethin\", \"alright\", \"wonder\", \"slow\", \"fade\", \"doin\", \"tire\", \"mama\", \"talkin\", \"speak\", \"pray\", \"kind\", \"evil\", \"feelin\", \"begin\", \"bone\", \"stone\", \"shine\", \"rest\", \"brain\", \"pretty\", \"heaven\", \"couldn\", \"tight\", \"finger\", \"worry\", \"lead\", \"friend\", \"promise\", \"breath\", \"shame\", \"mouth\", \"cross\", \"piece\", \"floor\", \"whoa\", \"reach\", \"radio\", \"pay\", \"river\", \"fine\", \"land\", \"voice\", \"streets\", \"city\", \"finally\", \"drinkin\", \"wouldn\", \"tryna\", \"outta\", \"boys\", \"bust\", \"rise\", \"knees\", \"band\", \"train\", \"steal\", \"runnin\", \"picture\", \"lock\", \"chain\", \"street\", \"scream\", \"skin\", \"sign\", \"rhyme\", \"block\", \"star\", \"heavy\", \"push\", \"lips\", \"dear\", \"cool\", \"waste\", \"wasn\", \"sayin\", \"room\", \"brother\", \"bottle\", \"meet\", \"bear\", \"tomorrow\", \"trust\", \"plan\", \"moment\", \"waitin\", \"record\", \"half\", \"track\", \"songs\", \"flame\", \"darling\", \"power\", \"knock\", \"deal\", \"clear\", \"ways\", \"flow\", \"move\", \"moon\", \"loud\", \"kid\", \"point\", \"read\", \"felt\", \"teach\", \"babe\", \"trouble\", \"swear\", \"send\", \"choose\", \"tongue\", \"sittin\", \"woah\", \"niggaz\", \"jump\", \"happen\", \"warm\", \"paper\", \"tree\", \"spot\", \"rule\", \"end\", \"afraid\", \"sick\", \"number\", \"wild\", \"hearts\", \"couple\", \"gold\", \"doubt\", \"control\", \"shut\", \"second\", \"nights\", \"bury\", \"oooh\", \"okay\", \"dust\", \"dirty\", \"soon\", \"longer\", \"beer\", \"truck\", \"search\", \"different\", \"darkness\", \"shoe\", \"peace\", \"million\", \"bind\", \"luck\", \"walkin\", \"slip\", \"nice\", \"mother\", \"middle\", \"lay\", \"repeat\", \"cash\", \"thousand\", \"hook\", \"green\", \"bleed\", \"summer\", \"glass\", \"club\", \"beautiful\", \"motherfucker\", \"momma\", \"ball\", \"taste\", \"story\", \"outside\", \"thinkin\", \"ghost\", \"child\", \"ask\", \"style\", \"pride\", \"phone\", \"let\", \"hair\", \"drown\", \"daddy\", \"clean\", \"twist\", \"spit\", \"clock\", \"bite\", \"ones\", \"fever\", \"letter\", \"brand\", \"wing\", \"weed\", \"memories\", \"family\", \"count\", \"bang\", \"playin\", \"perfect\", \"minute\", \"makin\", \"hoe\", \"great\", \"gimme\", \"dont\", \"simple\", \"show\", \"mistake\", \"dress\", \"chill\", \"window\", \"pour\", \"memory\", \"kinda\", \"fell\", \"fail\", \"yesterday\", \"shin\", \"pack\", \"mess\", \"hood\", \"gun\", \"guitar\", \"father\", \"crowd\", \"smell\", \"school\", \"regret\", \"share\", \"dope\", \"book\", \"south\", \"someday\", \"pocket\", \"lonesome\", \"fill\", \"whiskey\", \"wake\", \"rock\", \"mountain\", \"crew\", \"wide\", \"wave\", \"crack\", \"safe\", \"quick\", \"question\", \"laugh\", \"grave\", \"future\", \"forgive\", \"fake\", \"week\", \"sight\", \"short\", \"freeze\", \"fact\", \"stack\", \"sit\", \"belong\", \"ahead\", \"spin\", \"silence\", \"paint\", \"clothe\", \"closer\", \"church\", \"steady\", \"hop\", \"gang\", \"boat\", \"answer\", \"wife\", \"suck\", \"space\", \"remain\", \"realize\", \"neck\", \"near\", \"year\", \"swing\", \"sorry\", \"hit\", \"drug\", \"dollar\", \"mirror\", \"lean\", \"heal\", \"quit\", \"funny\", \"crawl\", \"corner\", \"sand\", \"figure\", \"wine\", \"stronger\", \"soldier\", \"lick\", \"imagine\", \"grab\", \"blade\", \"treat\", \"survive\", \"slowly\", \"heat\", \"double\", \"diamonds\", \"bridge\", \"trap\", \"string\", \"seat\", \"problem\", \"loose\", \"everyday\", \"cover\", \"bless\", \"wire\", \"weak\", \"sweat\", \"state\", \"respect\", \"lover\", \"insane\", \"holy\", \"boss\", \"america\", \"wheel\", \"pussy\", \"mornin\", \"freedom\", \"earth\", \"cheap\", \"buy\", \"fly\", \"cost\", \"chest\", \"wreck\", \"whip\", \"strike\", \"shoulder\", \"queen\", \"lovin\", \"clap\", \"sink\", \"single\", \"noise\", \"color\", \"cloud\", \"women\", \"thoughts\", \"steel\", \"rid\", \"folks\", \"dirt\", \"weather\", \"sense\", \"race\", \"ladies\", \"hiphop\", \"anymore\", \"york\", \"workin\", \"small\", \"ridin\", \"rap\", \"climb\", \"bend\", \"takin\", \"pound\", \"jail\", \"hour\", \"flip\", \"fee\", \"crown\", \"wrap\", \"sail\", \"root\", \"ocean\", \"master\", \"hangin\", \"freak\", \"edge\", \"bullet\", \"thang\", \"shout\", \"redneck\", \"news\", \"lady\", \"judge\", \"homie\", \"goodnight\", \"favorite\", \"children\", \"beg\", \"battle\", \"army\", \"tough\", \"thug\", \"snake\", \"probably\", \"murder\", \"higher\", \"drift\", \"crash\", \"cigarette\", \"bank\", \"yiggy\", \"type\", \"tellin\", \"stuff\", \"store\", \"stare\", \"ship\", \"prayer\", \"field\", \"ease\", \"trippin\", \"suppose\", \"stage\", \"problems\", \"note\", \"coffee\", \"class\", \"brothers\", \"american\", \"travel\", \"shape\", \"return\", \"friday\", \"county\", \"tie\", \"thrill\", \"teeth\", \"smokin\", \"rockin\", \"load\", \"hustle\", \"hollow\", \"hmmm\", \"hello\", \"have\", \"hammer\", \"gangster\", \"coast\", \"bird\", \"thats\", \"surround\", \"sorrow\", \"motherfuckers\", \"fresh\", \"early\", \"drum\", \"dog\", \"dancin\", \"cop\", \"chase\", \"boot\", \"beast\", \"awake\", \"weight\", \"underneath\", \"trick\", \"tide\", \"switch\", \"super\", \"singin\", \"shed\", \"shade\", \"scene\", \"pretend\", \"name\", \"midnight\", \"later\", \"keepin\", \"horse\", \"fallin\", \"difference\", \"worst\", \"welcome\", \"trigger\", \"solo\", \"shots\", \"shall\", \"pop\", \"magic\", \"givin\", \"draw\", \"dame\", \"business\", \"swim\", \"strange\", \"snow\", \"path\", \"highway\", \"fire\", \"button\", \"bright\", \"blunt\", \"bigger\", \"bell\", \"warn\", \"slave\", \"sippin\", \"pump\", \"knife\", \"instead\", \"human\", \"hours\", \"girlfriend\", \"fold\", \"fair\", \"drag\", \"choke\", \"chair\", \"bambalam\", \"vibe\", \"sunday\", \"rappers\", \"quiet\", \"pressure\", \"plus\", \"motherfucking\", \"lift\", \"imma\", \"holdin\", \"haters\", \"guilty\", \"foot\", \"circle\", \"wash\", \"twice\", \"trade\", \"shop\", \"satan\", \"pimp\", \"movin\", \"mood\", \"lovers\", \"harder\", \"exactly\", \"danger\", \"chicken\", \"bullets\", \"boom\", \"zone\", \"suit\", \"spirit\", \"spell\", \"smooth\", \"nose\", \"lyin\", \"kingdom\", \"haunt\", \"ghetto\", \"fault\", \"fate\", \"echo\", \"damage\", \"cuss\", \"curse\", \"cryin\", \"crank\", \"burnin\", \"winter\", \"vein\", \"tick\", \"table\", \"surprise\", \"spring\", \"spread\", \"shatter\", \"shadow\", \"rope\", \"preach\", \"nation\", \"months\", \"lesson\", \"form\", \"flag\", \"fame\", \"everytime\", \"claim\", \"buzz\", \"bullshit\", \"angels\", \"yellow\", \"wicked\", \"team\", \"swallow\", \"seven\", \"saint\", \"poppin\", \"north\", \"needle\", \"force\", \"east\", \"dollars\", \"desire\", \"crime\", \"choice\", \"bringin\", \"beef\", \"weekend\", \"thunder\", \"special\", \"southern\", \"shouldn\", \"self\", \"refuse\", \"lifetime\", \"kickin\", \"homies\", \"hallelujah\", \"find\", \"drip\", \"coke\", \"cars\", \"buckle\", \"barely\", \"bar\", \"undo\", \"tune\", \"test\", \"strength\", \"squad\", \"soft\", \"shimmy\", \"scratch\", \"prove\", \"prison\", \"motion\", \"motherfuckin\", \"mississippi\", \"loneliness\", \"leavin\", \"heartache\", \"habit\", \"funky\", \"forgiveness\", \"disappear\", \"demons\", \"crush\", \"cook\", \"chop\", \"actin\", \"wipe\", \"whisper\", \"stress\", \"slide\", \"shawty\", \"rhythm\", \"proud\", \"park\", \"liquor\", \"expect\", \"excuse\", \"escape\", \"weep\", \"trash\", \"temper\", \"seed\", \"roof\", \"roam\", \"riot\", \"raver\", \"rapper\", \"pills\", \"lake\", \"hardest\", \"fish\", \"finish\", \"eagle\", \"dime\", \"cookin\", \"blah\", \"ash\", \"amaze\", \"ache\", \"win\", \"trail\", \"sinner\", \"set\", \"rough\", \"poor\", \"pistol\", \"ohhhh\", \"messin\", \"message\", \"join\", \"grand\", \"fence\", \"dumb\", \"dude\", \"dawg\", \"cock\", \"clip\", \"carry\", \"alabama\", \"windows\", \"ugly\", \"turnin\", \"ticket\", \"static\", \"speed\", \"silent\", \"person\", \"offer\", \"joke\", \"jeans\", \"havin\", \"hat\", \"grass\", \"garden\", \"explain\", \"dough\", \"darlin\", \"cut\", \"chick\", \"bunch\", \"blowin\", \"bass\", \"trump\", \"texas\", \"tangle\", \"suffer\", \"struggle\", \"stretch\", \"stranger\", \"souls\", \"solid\", \"shoulda\", \"shirt\", \"sheet\", \"screw\", \"satisfy\", \"label\", \"hurry\", \"guide\", \"grip\", \"bare\", \"admit\", \"whistle\", \"watchin\", \"underground\", \"toe\", \"tall\", \"stumble\", \"strip\", \"standin\", \"sky\", \"shotgun\", \"shock\", \"monkey\", \"metal\", \"jackpot\", \"island\", \"hungry\", \"focus\", \"flesh\", \"disguise\", \"date\", \"burden\", \"beneath\", \"agree\", \"wull\", \"woot\", \"vision\", \"tennessee\", \"telephone\", \"tail\", \"sugar\", \"screen\", \"screamin\", \"rush\", \"raggamuffin\", \"put\", \"melt\", \"knowin\", \"key\", \"gift\", \"float\", \"fix\", \"dyin\", \"doctor\", \"deeper\", \"creep\", \"cell\", \"callin\", \"brave\", \"attention\", \"attack\", \"youth\", \"worse\", \"witness\", \"wander\", \"view\", \"thugs\", \"smash\", \"saturday\", \"police\", \"pole\", \"plain\", \"misery\", \"miracle\", \"minutes\", \"mexico\", \"hotter\", \"holler\", \"hill\", \"frame\", \"explode\", \"drivin\", \"cowboy\", \"card\", \"calm\", \"bother\", \"beach\", \"base\", \"wound\", \"weary\", \"weapon\", \"vuke\", \"tooth\", \"thee\", \"tattoo\", \"surrender\", \"sunset\", \"strangers\", \"station\", \"spark\", \"silver\", \"shore\", \"sharp\", \"roads\", \"represent\", \"quarter\", \"punch\", \"precious\", \"preacher\", \"porch\", \"piss\", \"nail\", \"kitchen\", \"jungle\", \"golden\", \"gain\", \"faster\", \"exist\", \"eksen\", \"direction\", \"dangerous\", \"create\", \"cream\", \"cooler\", \"complain\", \"chevrolet\", \"cast\", \"breakdown\", \"bounce\", \"beers\", \"action\", \"sword\", \"swingin\", \"redemption\", \"plenty\", \"pity\", \"ought\", \"orleans\", \"nerve\", \"killin\", \"horn\", \"hmmmm\", \"downtown\", \"distance\", \"dash\", \"condition\", \"candle\", \"bull\", \"bill\", \"basement\", \"act\", \"wise\", \"weigh\", \"treasure\", \"trailer\", \"toss\", \"tequila\", \"teardrops\", \"split\", \"sister\", \"sin\", \"serve\", \"replace\", \"puttin\", \"plug\", \"paradise\", \"meatstick\", \"machine\", \"list\", \"dingaling\", \"desert\", \"deny\", \"dare\", \"cruel\", \"bustin\", \"brooklyn\", \"breeze\", \"bitter\", \"bible\", \"barrel\", \"ballin\", \"baddest\", \"aren\", \"anybody\", \"album\", \"tshirt\", \"tool\", \"throne\", \"thirsty\", \"sweetheart\", \"sudden\", \"strap\", \"stir\", \"sober\", \"slay\", \"slam\", \"secret\", \"season\", \"sanctuary\", \"rip\", \"release\", \"pant\", \"neon\", \"lightning\", \"knockin\", \"keeper\", \"heartbeat\", \"hatin\", \"handle\", \"guy\", \"funk\", \"food\", \"flash\", \"endless\", \"ears\", \"doors\", \"creek\", \"christmas\", \"bubble\", \"wonderful\", \"whooo\", \"waan\", \"unknown\", \"trip\", \"tender\", \"sweep\", \"stomp\", \"stain\", \"spill\", \"slap\", \"showin\", \"remind\", \"rebel\", \"poison\", \"pimpin\", \"original\", \"moonlight\", \"misunderstand\", \"mister\", \"mile\", \"microphone\", \"lowdown\", \"kissin\", \"jealous\", \"inch\", \"hurricane\", \"hunnid\", \"hittin\", \"heathen\", \"hatred\", \"happiness\", \"grill\", \"glow\", \"gear\", \"gather\", \"even\", \"enemies\", \"divine\", \"degrees\", \"daughter\", \"crib\", \"comfort\", \"charge\", \"certain\", \"bruise\", \"bomb\", \"wishin\", \"vain\", \"vacation\", \"upside\", \"throat\", \"stupid\", \"snatch\", \"smart\", \"shinin\", \"seal\", \"reflection\", \"rattle\", \"prepare\", \"post\", \"peep\", \"nature\", \"mountains\", \"mmhmmh\", \"missin\", \"marry\", \"loove\", \"limit\", \"lately\", \"kinds\", \"innocent\", \"hero\", \"hearted\", \"glue\", \"gentle\", \"frown\", \"enter\", \"deliver\", \"deck\", \"daylight\", \"darkest\", \"creepin\", \"collar\", \"click\", \"charm\", \"camera\", \"california\", \"bump\", \"beauty\", \"amen\", \"weasel\", \"twentyone\", \"triple\", \"squeeze\", \"smack\", \"slick\", \"score\", \"sack\", \"rockstar\", \"rappin\", \"rack\", \"puddle\", \"praise\", \"plate\", \"passion\", \"pardon\", \"older\", \"notice\", \"neighbor\", \"monday\", \"match\", \"lalalala\", \"jewel\", \"iron\", \"hotel\", \"history\", \"guarantee\", \"groove\", \"grin\", \"gently\", \"gate\", \"fry\", \"fountain\", \"foolish\", \"final\", \"demon\", \"decide\", \"claw\", \"cat\", \"breakin\", \"bloody\", \"benz\", \"back\", \"awhile\", \"yell\", \"woods\", \"trunk\", \"suitcase\", \"spray\", \"sigh\", \"shelf\", \"settle\", \"seek\", \"ruin\", \"protect\", \"press\", \"naked\", \"movie\", \"mighty\", \"level\", \"hardcore\", \"goody\", \"glock\", \"gats\", \"gamble\", \"freakit\", \"forward\", \"fore\", \"flower\", \"erase\", \"embrace\", \"dive\", \"desperate\", \"daily\", \"confuse\", \"compare\", \"choir\", \"cheat\", \"chasin\", \"center\", \"busy\", \"brick\", \"boob\", \"apple\", \"anytime\", \"ahhh\", \"zoom\", \"worlds\", \"violence\", \"tank\", \"surely\", \"spinnin\", \"slippin\", \"sideways\", \"shootin\", \"shift\", \"selfish\", \"salvation\", \"salt\", \"rent\", \"range\", \"rainy\", \"rage\", \"rag\", \"quickly\", \"punk\", \"proof\", \"project\", \"proceed\", \"pink\", \"pawn\", \"numb\", \"mission\", \"main\", \"magnet\", \"lovely\", \"listenin\", \"lighter\", \"jumpin\", \"jack\", \"hypnotize\", \"hangover\", \"guitars\", \"guard\", \"greed\", \"fours\", \"finna\", \"fan\", \"eat\", \"dresser\", \"drama\", \"cow\", \"countin\", \"concrete\", \"company\", \"coat\", \"clown\", \"chicks\", \"cheek\", \"champagne\", \"capture\", \"cage\", \"bread\", \"boyfriend\", \"birth\", \"backwards\", \"awful\", \"arrive\", \"aight\", \"wisdom\", \"will\", \"tiki\", \"stories\", \"snap\", \"sinners\", \"shakin\", \"savior\", \"roses\", \"recognize\", \"pose\", \"outlaw\", \"order\", \"nasty\", \"muscle\", \"montana\", \"medicine\", \"mask\", \"link\", \"leather\", \"juice\", \"joint\", \"invisible\", \"image\", \"ignore\", \"holla\", \"heartbreak\", \"harm\", \"hail\", \"greatest\", \"gangsta\", \"flyin\", \"flicker\", \"easier\", \"duck\", \"dreamin\", \"dig\", \"destroy\", \"deserve\", \"cure\", \"cotton\", \"constantly\", \"cocaine\", \"ceiling\", \"cake\", \"butt\", \"boyz\", \"bore\", \"blaze\", \"blast\", \"belly\", \"bag\", \"askin\", \"appear\", \"alarm\", \"advice\", \"yada\", \"wiener\", \"whore\", \"whine\", \"wed\", \"wearin\", \"victim\", \"unbroken\", \"uhhuh\", \"tour\", \"torture\", \"tonk\", \"thankful\", \"sway\", \"speakers\", \"sneak\", \"situation\", \"sip\", \"sexy\", \"scotch\", \"scatter\", \"rust\", \"rubber\", \"rob\", \"revelator\", \"reveal\", \"relax\", \"present\", \"player\", \"planet\", \"plane\", \"pickin\", \"oughta\", \"offend\", \"neighborhood\", \"moan\", \"lungs\", \"lessons\", \"legs\", \"honest\", \"heel\", \"glitter\", \"flex\", \"farm\", \"fallorun\", \"enemy\", \"dues\", \"dudes\", \"doorbell\", \"dial\", \"depart\", \"culture\", \"course\", \"complicate\", \"captain\", \"cadillac\", \"brew\", \"bolo\", \"betray\", \"believer\", \"asleep\", \"anger\", \"anchor\", \"airplane\", \"abuse\", \"younger\", \"witchcraft\", \"wack\", \"toll\", \"thirty\", \"supa\", \"sucker\", \"sport\", \"sons\", \"sipsippin\", \"simply\", \"seein\", \"scrap\", \"sake\", \"rival\", \"rider\", \"revolution\", \"rearrange\", \"puzzle\", \"purpose\", \"pullin\", \"particular\", \"part\", \"oohh\", \"oklahoma\", \"ohoh\", \"nickel\", \"mystery\", \"moonshine\", \"monsters\", \"milk\", \"mend\", \"march\", \"louder\", \"legend\", \"lame\", \"lack\", \"kush\", \"knowledge\", \"knot\", \"killer\", \"july\", \"horizon\", \"holiday\", \"heed\", \"haha\", \"grey\", \"greet\", \"fruit\", \"fist\", \"extra\", \"effect\", \"easily\", \"droppin\", \"dragon\", \"digital\", \"diggin\", \"cup\", \"court\", \"connect\", \"collect\", \"clue\", \"channel\", \"caution\", \"carve\", \"brighter\", \"booty\", \"beware\", \"beam\", \"appreciate\", \"alert\", \"alcohol\", \"aint\", \"addict\", \"able\", \"wrist\", \"wonderin\", \"whats\", \"wealth\", \"unwind\", \"uncle\", \"top\", \"toast\", \"tipsy\", \"tip\", \"tint\", \"thread\", \"success\", \"sleepin\", \"sixtyminute\", \"silly\", \"side\", \"shackle\", \"rocket\", \"rockers\", \"reality\", \"president\", \"pool\", \"pleasure\", \"playa\", \"pin\", \"palm\", \"page\", \"operate\", \"mudhole\", \"moments\", \"mexican\", \"mall\", \"maker\", \"maintain\", \"madness\", \"locomotive\", \"liar\", \"industry\", \"hype\", \"hustlin\", \"hundreds\", \"hottest\", \"honky\", \"highest\", \"heroes\", \"goodbyes\", \"gasoline\", \"frontin\", \"fortress\", \"expose\", \"dread\", \"dooley\", \"diss\", \"diesel\", \"defeat\", \"cruise\", \"crow\", \"crook\", \"coupe\", \"couch\", \"continue\", \"contact\", \"college\", \"code\", \"closet\", \"chrome\", \"cheese\", \"careful\", \"borrow\", \"booze\", \"bastard\", \"attitude\", \"weeks\", \"war\", \"uptown\", \"unspoken\", \"unlove\", \"undeniable\", \"survivor\", \"steppin\", \"snoop\", \"shelter\", \"searchin\", \"risk\", \"righteous\", \"reckon\", \"rail\", \"purple\", \"public\", \"plant\", \"pill\", \"phase\", \"peaceful\", \"passin\", \"odds\", \"nonononot\", \"nearly\", \"nappy\", \"monster\", \"mix\", \"mention\", \"mental\", \"lot\", \"layin\", \"involve\", \"inferno\", \"hustler\", \"howl\", \"host\", \"hips\", \"headlights\", \"goodness\", \"gods\", \"foreign\", \"flavor\", \"flat\", \"finest\", \"familiar\", \"express\", \"dudu\", \"doublewide\", \"disgrace\", \"diggity\", \"design\", \"dealer\", \"cousin\", \"conversation\", \"consume\", \"confess\", \"chillin\", \"cheer\", \"chance\", \"castin\", \"cali\", \"bumpin\", \"brush\", \"boomshboom\", \"blink\", \"belt\", \"be\", \"backyard\", \"average\", \"afford\", \"accept\", \"yall\", \"whatcha\", \"weren\", \"violent\", \"vine\", \"victory\", \"underwear\", \"tremble\", \"tower\", \"ticktock\", \"throwin\", \"target\", \"tame\", \"swell\", \"sweeter\", \"summertime\", \"strait\", \"stem\", \"stayin\", \"statues\", \"starin\", \"spoon\", \"spoil\", \"social\", \"snitch\", \"sleeve\", \"slaughter\", \"shower\", \"shove\", \"roast\", \"restless\", \"religion\", \"reign\", \"rear\", \"reap\", \"rascal\", \"quietly\", \"prayin\", \"prayers\", \"pledge\", \"pile\", \"peel\", \"paris\", \"pair\", \"outlive\", \"oooo\", \"oohooh\", \"nuttin\", \"nut\", \"nervous\", \"mummy\", \"meat\", \"mane\", \"louisiana\", \"loot\", \"lawn\", \"laughter\", \"kings\", \"journey\", \"jones\", \"indigo\", \"husband\", \"hesitate\", \"giddy\", \"fuss\", \"fuse\", \"folk\", \"flood\", \"floatin\", \"fiddle\", \"feed\", \"eternity\", \"dumdumdadadada\", \"dodge\", \"distant\", \"diffie\", \"dice\", \"denial\", \"deadly\", \"dawn\", \"confidence\", \"concern\", \"common\", \"colour\", \"changin\", \"calvary\", \"bush\", \"bucktown\", \"boogie\", \"board\", \"blur\", \"bein\", \"bathroom\", \"bartender\", \"bangin\", \"ashamed\", \"animal\", \"yacht\", \"xans\", \"wutang\", \"valley\", \"useless\", \"tunnel\", \"tuck\", \"traffic\", \"tippin\", \"tenderly\", \"sympathy\", \"stash\", \"stall\", \"stairs\", \"stab\", \"softly\", \"slug\", \"sleigh\", \"shovel\", \"sheep\", \"secrets\", \"santa\", \"saddle\", \"rodeo\", \"roar\", \"rippin\", \"ringer\", \"receive\", \"pumpin\", \"psycho\", \"prop\", \"produce\", \"prisoner\", \"parade\", \"operator\", \"oooooooo\", \"ooooh\", \"noon\", \"necessities\", \"medication\", \"mass\", \"mash\", \"lower\", \"loss\", \"lazy\", \"lace\", \"justice\", \"introduce\", \"huntin\", \"hound\", \"hopin\", \"hollywood\", \"haze\", \"gutter\", \"grandma\", \"grade\", \"gateway\", \"gallows\", \"flocka\", \"flaw\", \"fiends\", \"feral\", \"fellas\", \"feather\", \"favor\", \"fashion\", \"farmer\", \"facts\", \"excite\", \"earn\", \"drawers\", \"drain\", \"deere\", \"curb\", \"cube\", \"cub\", \"crave\", \"completely\", \"clique\", \"cling\", \"clich\\u00e9\", \"clapton\", \"chin\", \"chief\", \"catchin\", \"buyin\", \"buddies\", \"brag\", \"blank\", \"behold\", \"bail\", \"badonkadonk\", \"awaken\", \"artist\", \"arrow\", \"analog\", \"afternoon\", \"adios\", \"aaah\", \"yayo\", \"witch\", \"whoaoooooooo\", \"warhorse\", \"vouges\", \"voodoo\", \"truly\", \"torch\", \"title\", \"timber\", \"teacher\", \"tat\", \"tape\", \"tale\", \"swerve\", \"stream\", \"stock\", \"starve\", \"stake\", \"speakin\", \"spare\", \"soak\", \"slang\", \"skinny\", \"skills\", \"shrine\", \"shoobedoo\", \"sheriff\", \"shady\", \"sensation\", \"scheme\", \"salute\", \"sacrifice\", \"rugged\", \"role\", \"remedy\", \"recall\", \"rattlesnake\", \"rapture\"], \"legendgroup\": \"\", \"marker\": {\"color\": \"#636efa\", \"size\": [1.0, 1.0, 1.0, 1.0, 1.0, 1.0, 1.0, 1.0, 1.0, 1.0, 1.0, 1.0, 1.0, 1.0, 1.0, 1.0, 1.0, 1.0, 1.0, 1.0, 1.0, 1.0, 1.0, 1.0, 1.0, 1.0, 1.0, 1.0, 1.0, 1.0, 1.0, 1.0, 1.0, 1.0, 1.0, 1.0, 1.0, 1.0, 1.0, 1.0, 1.0, 1.0, 1.0, 1.0, 1.0, 1.0, 1.0, 1.0, 1.0, 1.0, 1.0, 1.0, 1.0, 1.0, 1.0, 1.0, 1.0, 1.0, 1.0, 1.0, 1.0, 1.0, 1.0, 1.0, 1.0, 1.0, 1.0, 1.0, 1.0, 1.0, 1.0, 1.0, 1.0, 1.0, 1.0, 1.0, 1.0, 1.0, 1.0, 1.0, 1.0, 1.0, 1.0, 1.0, 1.0, 1.0, 1.0, 1.0, 1.0, 1.0, 1.0, 1.0, 1.0, 1.0, 1.0, 1.0, 1.0, 1.0, 1.0, 1.0, 1.0, 1.0, 1.0, 1.0, 1.0, 1.0, 1.0, 1.0, 1.0, 1.0, 1.0, 1.0, 1.0, 1.0, 1.0, 1.0, 1.0, 1.0, 1.0, 1.0, 1.0, 1.0, 1.0, 1.0, 1.0, 1.0, 1.0, 1.0, 1.0, 1.0, 1.0, 1.0, 1.0, 1.0, 1.0, 1.0, 1.0, 1.0, 1.0, 1.0, 1.0, 1.0, 1.0, 1.0, 1.0, 1.0, 1.0, 1.0, 1.0, 1.0, 1.0, 1.0, 1.0, 1.0, 1.0, 1.0, 1.0, 1.0, 1.0, 1.0, 1.0, 1.0, 1.0, 1.0, 1.0, 1.0, 1.0, 1.0, 1.0, 1.0, 1.0, 1.0, 1.0, 1.0, 1.0, 1.0, 1.0, 1.0, 1.0, 1.0, 1.0, 1.0, 1.0, 1.0, 1.0, 1.0, 1.0, 1.0, 1.0, 1.0, 1.0, 1.0, 1.0, 1.0, 1.0, 1.0, 1.0, 1.0, 1.0, 1.0, 1.0, 1.0, 1.0, 1.0, 1.0, 1.0, 1.0, 1.0, 1.0, 1.0, 1.0, 1.0, 1.0, 1.0, 1.0, 1.0, 1.0, 1.0, 1.0, 1.0, 1.0, 1.0, 1.0, 1.0, 1.0, 1.0, 1.0, 1.0, 1.0, 1.0, 1.0, 1.0, 1.0, 1.0, 1.0, 1.0, 1.0, 1.0, 1.0, 1.0, 1.0, 1.0, 1.0, 1.0, 1.0, 1.0, 1.0, 1.0, 1.0, 1.0, 1.0, 1.0, 1.0, 1.0, 1.0, 1.0, 1.0, 1.0, 1.0, 1.0, 1.0, 1.0, 1.0, 1.0, 1.0, 1.0, 1.0, 1.0, 1.0, 1.0, 1.0, 1.0, 1.0, 1.0, 1.0, 1.0, 1.0, 1.0, 1.0, 1.0, 1.0, 1.0, 1.0, 1.0, 1.0, 1.0, 1.0, 1.0, 1.0, 1.0, 1.0, 1.0, 1.0, 1.0, 1.0, 1.0, 1.0, 1.0, 1.0, 1.0, 1.0, 1.0, 1.0, 1.0, 1.0, 1.0, 1.0, 1.0, 1.0, 1.0, 1.0, 1.0, 1.0, 1.0, 1.0, 1.0, 1.0, 1.0, 1.0, 1.0, 1.0, 1.0, 1.0, 1.0, 1.0, 1.0, 1.0, 1.0, 1.0, 1.0, 1.0, 1.0, 1.0, 1.0, 1.0, 1.0, 1.0, 1.0, 1.0, 1.0, 1.0, 1.0, 1.0, 1.0, 1.0, 1.0, 1.0, 1.0, 1.0, 1.0, 1.0, 1.0, 1.0, 1.0, 1.0, 1.0, 1.0, 1.0, 1.0, 1.0, 1.0, 1.0, 1.0, 1.0, 1.0, 1.0, 1.0, 1.0, 1.0, 1.0, 1.0, 1.0, 1.0, 1.0, 1.0, 1.0, 1.0, 1.0, 1.0, 1.0, 1.0, 1.0, 1.0, 1.0, 1.0, 1.0, 1.0, 1.0, 1.0, 1.0, 1.0, 1.0, 1.0, 1.0, 1.0, 1.0, 1.0, 1.0, 1.0, 1.0, 1.0, 1.0, 1.0, 1.0, 1.0, 1.0, 1.0, 1.0, 1.0, 1.0, 1.0, 1.0, 1.0, 1.0, 1.0, 1.0, 1.0, 1.0, 1.0, 1.0, 1.0, 1.0, 1.0, 1.0, 1.0, 1.0, 1.0, 1.0, 1.0, 1.0, 1.0, 1.0, 1.0, 1.0, 1.0, 1.0, 1.0, 1.0, 1.0, 1.0, 1.0, 1.0, 1.0, 1.0, 1.0, 1.0, 1.0, 1.0, 1.0, 1.0, 1.0, 1.0, 1.0, 1.0, 1.0, 1.0, 1.0, 1.0, 1.0, 1.0, 1.0, 1.0, 1.0, 1.0, 1.0, 1.0, 1.0, 1.0, 1.0, 1.0, 1.0, 1.0, 1.0, 1.0, 1.0, 1.0, 1.0, 1.0, 1.0, 1.0, 1.0, 1.0, 1.0, 1.0, 1.0, 1.0, 1.0, 1.0, 1.0, 1.0, 1.0, 1.0, 1.0, 1.0, 1.0, 1.0, 1.0, 1.0, 1.0, 1.0, 1.0, 1.0, 1.0, 1.0, 1.0, 1.0, 1.0, 1.0, 1.0, 1.0, 1.0, 1.0, 1.0, 1.0, 1.0, 1.0, 1.0, 1.0, 1.0, 1.0, 1.0, 1.0, 1.0, 1.0, 1.0, 1.0, 1.0, 1.0, 1.0, 1.0, 1.0, 1.0, 1.0, 1.0, 1.0, 1.0, 1.0, 1.0, 1.0, 1.0, 1.0, 1.0, 1.0, 1.0, 1.0, 1.0, 1.0, 1.0, 1.0, 1.0, 1.0, 1.0, 1.0, 1.0, 1.0, 1.0, 1.0, 1.0, 1.0, 1.0, 1.0, 1.0, 1.0, 1.0, 1.0, 1.0, 1.0, 1.0, 1.0, 1.0, 1.0, 1.0, 1.0, 1.0, 1.0, 1.0, 1.0, 1.0, 1.0, 1.0, 1.0, 1.0, 1.0, 1.0, 1.0, 1.0, 1.0, 1.0, 1.0, 1.0, 1.0, 1.0, 1.0, 1.0, 1.0, 1.0, 1.0, 1.0, 1.0, 1.0, 1.0, 1.0, 1.0, 1.0, 1.0, 1.0, 1.0, 1.0, 1.0, 1.0, 1.0, 1.0, 1.0, 1.0, 1.0, 1.0, 1.0, 1.0, 1.0, 1.0, 1.0, 1.0, 1.0, 1.0, 1.0, 1.0, 1.0, 1.0, 1.0, 1.0, 1.0, 1.0, 1.0, 1.0, 1.0, 1.0, 1.0, 1.0, 1.0, 1.0, 1.0, 1.0, 1.0, 1.0, 1.0, 1.0, 1.0, 1.0, 1.0, 1.0, 1.0, 1.0, 1.0, 1.0, 1.0, 1.0, 1.0, 1.0, 1.0, 1.0, 1.0, 1.0, 1.0, 1.0, 1.0, 1.0, 1.0, 1.0, 1.0, 1.0, 1.0, 1.0, 1.0, 1.0, 1.0, 1.0, 1.0, 1.0, 1.0, 1.0, 1.0, 1.0, 1.0, 1.0, 1.0, 1.0, 1.0, 1.0, 1.0, 1.0, 1.0, 1.0, 1.0, 1.0, 1.0, 1.0, 1.0, 1.0, 1.0, 1.0, 1.0, 1.0, 1.0, 1.0, 1.0, 1.0, 1.0, 1.0, 1.0, 1.0, 1.0, 1.0, 1.0, 1.0, 1.0, 1.0, 1.0, 1.0, 1.0, 1.0, 1.0, 1.0, 1.0, 1.0, 1.0, 1.0, 1.0, 1.0, 1.0, 1.0, 1.0, 1.0, 1.0, 1.0, 1.0, 1.0, 1.0, 1.0, 1.0, 1.0, 1.0, 1.0, 1.0, 1.0, 1.0, 1.0, 1.0, 1.0, 1.0, 1.0, 1.0, 1.0, 1.0, 1.0, 1.0, 1.0, 1.0, 1.0, 1.0, 1.0, 1.0, 1.0, 1.0, 1.0, 1.0, 1.0, 1.0, 1.0, 1.0, 1.0, 1.0, 1.0, 1.0, 1.0, 1.0, 1.0, 1.0, 1.0, 1.0, 1.0, 1.0, 1.0, 1.0, 1.0, 1.0, 1.0, 1.0, 1.0, 1.0, 1.0, 1.0, 1.0, 1.0, 1.0, 1.0, 1.0, 1.0, 1.0, 1.0, 1.0, 1.0, 1.0, 1.0, 1.0, 1.0, 1.0, 1.0, 1.0, 1.0, 1.0, 1.0, 1.0, 1.0, 1.0, 1.0, 1.0, 1.0, 1.0, 1.0, 1.0, 1.0, 1.0, 1.0, 1.0, 1.0, 1.0, 1.0, 1.0, 1.0, 1.0, 1.0, 1.0, 1.0, 1.0, 1.0, 1.0, 1.0, 1.0, 1.0, 1.0, 1.0, 1.0, 1.0, 1.0, 1.0, 1.0, 1.0, 1.0, 1.0, 1.0, 1.0, 1.0, 1.0, 1.0, 1.0, 1.0, 1.0, 1.0, 1.0, 1.0, 1.0, 1.0, 1.0, 1.0, 1.0, 1.0, 1.0, 1.0, 1.0, 1.0, 1.0, 1.0, 1.0, 1.0, 1.0, 1.0, 1.0, 1.0, 1.0, 1.0, 1.0, 1.0, 1.0, 1.0, 1.0, 1.0, 1.0, 1.0, 1.0, 1.0, 1.0, 1.0, 1.0, 1.0, 1.0, 1.0, 1.0, 1.0, 1.0, 1.0, 1.0, 1.0, 1.0, 1.0, 1.0, 1.0, 1.0, 1.0, 1.0, 1.0, 1.0, 1.0, 1.0, 1.0, 1.0, 1.0, 1.0, 1.0, 1.0, 1.0, 1.0, 1.0, 1.0, 1.0, 1.0, 1.0, 1.0, 1.0, 1.0, 1.0, 1.0, 1.0, 1.0, 1.0, 1.0, 1.0, 1.0, 1.0, 1.0, 1.0, 1.0, 1.0, 1.0, 1.0, 1.0, 1.0, 1.0, 1.0, 1.0, 1.0, 1.0, 1.0, 1.0, 1.0, 1.0, 1.0, 1.0, 1.0, 1.0, 1.0, 1.0, 1.0, 1.0, 1.0, 1.0, 1.0, 1.0, 1.0, 1.0, 1.0, 1.0, 1.0, 1.0, 1.0, 1.0, 1.0, 1.0, 1.0, 1.0, 1.0, 1.0, 1.0, 1.0, 1.0, 1.0, 1.0, 1.0, 1.0, 1.0, 1.0, 1.0, 1.0, 1.0, 1.0, 1.0, 1.0, 1.0, 1.0, 1.0, 1.0, 1.0, 1.0, 1.0, 1.0, 1.0, 1.0, 1.0, 1.0, 1.0, 1.0, 1.0, 1.0, 1.0, 1.0, 1.0, 1.0, 1.0, 1.0, 1.0, 1.0, 1.0, 1.0, 1.0, 1.0, 1.0, 1.0, 1.0, 1.0, 1.0, 1.0, 1.0, 1.0, 1.0, 1.0, 1.0, 1.0, 1.0, 1.0, 1.0, 1.0, 1.0, 1.0, 1.0, 1.0, 1.0, 1.0, 1.0, 1.0, 1.0, 1.0, 1.0, 1.0, 1.0, 1.0, 1.0, 1.0, 1.0, 1.0, 1.0, 1.0, 1.0, 1.0, 1.0, 1.0, 1.0, 1.0, 1.0, 1.0, 1.0, 1.0, 1.0, 1.0, 1.0, 1.0, 1.0, 1.0, 1.0, 1.0, 1.0, 1.0, 1.0, 1.0, 1.0, 1.0, 1.0, 1.0, 1.0, 1.0, 1.0, 1.0, 1.0, 1.0, 1.0, 1.0, 1.0, 1.0, 1.0, 1.0, 1.0, 1.0, 1.0, 1.0, 1.0, 1.0, 1.0, 1.0, 1.0, 1.0, 1.0, 1.0, 1.0, 1.0, 1.0, 1.0, 1.0, 1.0, 1.0, 1.0, 1.0, 1.0, 1.0, 1.0, 1.0, 1.0, 1.0, 1.0, 1.0, 1.0, 1.0, 1.0, 1.0, 1.0, 1.0, 1.0, 1.0, 1.0, 1.0, 1.0, 1.0, 1.0, 1.0, 1.0, 1.0, 1.0, 1.0, 1.0, 1.0, 1.0, 1.0, 1.0, 1.0, 1.0, 1.0, 1.0, 1.0, 1.0, 1.0, 1.0, 1.0, 1.0, 1.0, 1.0, 1.0, 1.0, 1.0, 1.0, 1.0, 1.0, 1.0, 1.0, 1.0, 1.0, 1.0, 1.0, 1.0, 1.0, 1.0, 1.0, 1.0, 1.0, 1.0, 1.0, 1.0, 1.0, 1.0, 1.0, 1.0, 1.0, 1.0, 1.0, 1.0, 1.0, 1.0, 1.0, 1.0, 1.0, 1.0, 1.0, 1.0, 1.0, 1.0, 1.0, 1.0, 1.0, 1.0, 1.0, 1.0, 1.0, 1.0, 1.0, 1.0, 1.0, 1.0, 1.0, 1.0, 1.0, 1.0, 1.0, 1.0, 1.0, 1.0, 1.0, 1.0, 1.0, 1.0, 1.0, 1.0, 1.0, 1.0, 1.0, 1.0, 1.0, 1.0, 1.0, 1.0, 1.0, 1.0, 1.0, 1.0, 1.0, 1.0, 1.0, 1.0, 1.0, 1.0, 1.0, 1.0, 1.0, 1.0, 1.0, 1.0, 1.0, 1.0, 1.0, 1.0, 1.0, 1.0, 1.0, 1.0, 1.0, 1.0, 1.0, 1.0, 1.0, 1.0, 1.0, 1.0, 1.0, 1.0, 1.0, 1.0, 1.0, 1.0, 1.0, 1.0, 1.0, 1.0, 1.0, 1.0, 1.0, 1.0, 1.0, 1.0, 1.0, 1.0, 1.0, 1.0, 1.0, 1.0, 1.0, 1.0, 1.0, 1.0, 1.0, 1.0, 1.0, 1.0, 1.0, 1.0, 1.0, 1.0, 1.0, 1.0, 1.0, 1.0, 1.0, 1.0, 1.0, 1.0, 1.0, 1.0, 1.0, 1.0, 1.0, 1.0, 1.0, 1.0, 1.0, 1.0, 1.0, 1.0, 1.0, 1.0, 1.0, 1.0, 1.0, 1.0, 1.0, 1.0, 1.0, 1.0, 1.0, 1.0, 1.0, 1.0, 1.0, 1.0, 1.0, 1.0, 1.0, 1.0, 1.0, 1.0, 1.0, 1.0, 1.0, 1.0, 1.0, 1.0, 1.0, 1.0, 1.0, 1.0, 1.0, 1.0, 1.0, 1.0, 1.0, 1.0, 1.0, 1.0, 1.0, 1.0, 1.0, 1.0, 1.0, 1.0, 1.0, 1.0, 1.0, 1.0, 1.0, 1.0, 1.0, 1.0, 1.0, 1.0, 1.0, 1.0, 1.0, 1.0, 1.0, 1.0, 1.0, 1.0, 1.0, 1.0, 1.0, 1.0, 1.0, 1.0, 1.0, 1.0, 1.0, 1.0, 1.0, 1.0, 1.0, 1.0, 1.0, 1.0, 1.0, 1.0, 1.0, 1.0, 1.0, 1.0, 1.0, 1.0, 1.0, 1.0, 1.0, 1.0, 1.0, 1.0, 1.0, 1.0, 1.0, 1.0, 1.0, 1.0, 1.0, 1.0, 1.0, 1.0, 1.0, 1.0, 1.0, 1.0, 1.0, 1.0, 1.0, 1.0, 1.0, 1.0, 1.0, 1.0, 1.0, 1.0, 1.0, 1.0, 1.0, 1.0, 1.0, 1.0, 1.0, 1.0, 1.0, 1.0, 1.0, 1.0, 1.0, 1.0, 1.0, 1.0, 1.0, 1.0, 1.0, 1.0, 1.0, 1.0, 1.0, 1.0, 1.0, 1.0, 1.0, 1.0, 1.0, 1.0, 1.0, 1.0, 1.0, 1.0, 1.0, 1.0, 1.0, 1.0, 1.0, 1.0, 1.0, 1.0, 1.0, 1.0, 1.0, 1.0, 1.0, 1.0, 1.0, 1.0, 1.0, 1.0, 1.0, 1.0, 1.0, 1.0, 1.0, 1.0, 1.0, 1.0, 1.0, 1.0, 1.0, 1.0, 1.0, 1.0, 1.0, 1.0, 1.0, 1.0, 1.0, 1.0, 1.0, 1.0, 1.0, 1.0, 1.0, 1.0, 1.0, 1.0, 1.0, 1.0, 1.0, 1.0, 1.0, 1.0, 1.0, 1.0, 1.0, 1.0, 1.0, 1.0, 1.0, 1.0, 1.0, 1.0, 1.0, 1.0, 1.0, 1.0, 1.0, 1.0, 1.0, 1.0, 1.0, 1.0, 1.0, 1.0, 1.0, 1.0, 1.0, 1.0, 1.0, 1.0, 1.0, 1.0, 1.0, 1.0, 1.0, 1.0, 1.0, 1.0, 1.0, 1.0, 1.0, 1.0, 1.0, 1.0, 1.0, 1.0, 1.0, 1.0, 1.0, 1.0, 1.0, 1.0, 1.0, 1.0, 1.0, 1.0, 1.0, 1.0, 1.0, 1.0, 1.0, 1.0, 1.0, 1.0, 1.0, 1.0, 1.0, 1.0, 1.0, 1.0, 1.0, 1.0, 1.0, 1.0, 1.0, 1.0, 1.0, 1.0, 1.0, 1.0, 1.0, 1.0, 1.0, 1.0, 1.0, 1.0, 1.0, 1.0, 1.0, 1.0, 1.0, 1.0, 1.0, 1.0, 1.0, 1.0, 1.0, 1.0, 1.0, 1.0, 1.0, 1.0, 1.0, 1.0, 1.0, 1.0, 1.0, 1.0, 1.0, 1.0, 1.0, 1.0, 1.0, 1.0, 1.0, 1.0, 1.0, 1.0, 1.0, 1.0, 1.0, 1.0, 1.0, 1.0, 1.0, 1.0, 1.0, 1.0, 1.0, 1.0, 1.0, 1.0, 1.0, 1.0, 1.0, 1.0, 1.0, 1.0, 1.0, 1.0, 1.0, 1.0, 1.0, 1.0, 1.0, 1.0, 1.0, 1.0, 1.0, 1.0, 1.0, 1.0, 1.0, 1.0, 1.0, 1.0, 1.0, 1.0, 1.0, 1.0, 1.0, 1.0, 1.0, 1.0, 1.0, 1.0, 1.0, 1.0, 1.0, 1.0, 1.0, 1.0, 1.0, 1.0, 1.0, 1.0, 1.0, 1.0, 1.0, 1.0, 1.0, 1.0, 1.0, 1.0, 1.0, 1.0, 1.0, 1.0, 1.0, 1.0, 1.0, 1.0, 1.0, 1.0, 1.0, 1.0, 1.0, 1.0, 1.0, 1.0, 1.0, 1.0, 1.0, 1.0, 1.0, 1.0, 1.0, 1.0, 1.0, 1.0, 1.0, 1.0, 1.0, 1.0, 1.0, 1.0, 1.0, 1.0, 1.0, 1.0, 1.0, 1.0, 1.0, 1.0, 1.0, 1.0, 1.0, 1.0, 1.0, 1.0, 1.0, 1.0, 1.0, 1.0, 1.0, 1.0, 1.0, 1.0, 1.0, 1.0, 1.0, 1.0, 1.0, 1.0, 1.0, 1.0, 1.0, 1.0, 1.0, 1.0, 1.0, 1.0, 1.0, 1.0, 1.0, 1.0, 1.0, 1.0, 1.0, 1.0, 1.0, 1.0, 1.0, 1.0, 1.0, 1.0, 1.0, 1.0, 1.0, 1.0, 1.0, 1.0, 1.0, 1.0, 1.0, 1.0, 1.0, 1.0, 1.0, 1.0, 1.0, 1.0, 1.0, 1.0, 1.0, 1.0, 1.0, 1.0, 1.0, 1.0, 1.0, 1.0, 1.0, 1.0, 1.0, 1.0, 1.0, 1.0, 1.0, 1.0, 1.0, 1.0, 1.0, 1.0, 1.0, 1.0, 1.0, 1.0, 1.0, 1.0, 1.0, 1.0, 1.0, 1.0, 1.0, 1.0, 1.0, 1.0, 1.0, 1.0, 1.0, 1.0, 1.0, 1.0, 1.0, 1.0, 1.0, 1.0, 1.0, 1.0, 1.0, 1.0, 1.0, 1.0, 1.0, 1.0, 1.0, 1.0, 1.0, 1.0, 1.0, 1.0, 1.0, 1.0, 1.0, 1.0, 1.0, 1.0, 1.0, 1.0, 1.0, 1.0, 1.0, 1.0, 1.0, 1.0, 1.0, 1.0, 1.0, 1.0, 1.0, 1.0, 1.0, 1.0, 1.0, 1.0, 1.0, 1.0, 1.0, 1.0, 1.0, 1.0, 1.0, 1.0, 1.0, 1.0, 1.0, 1.0, 1.0, 1.0, 1.0, 1.0, 1.0, 1.0, 1.0, 1.0, 1.0, 1.0, 1.0, 1.0, 1.0, 1.0, 1.0, 1.0, 1.0, 1.0, 1.0, 1.0, 1.0, 1.0, 1.0, 1.0, 1.0, 1.0, 1.0, 1.0, 1.0, 1.0, 1.0, 1.0, 1.0, 1.0, 1.0, 1.0, 1.0, 1.0, 1.0, 1.0, 1.0, 1.0, 1.0, 1.0, 1.0, 1.0, 1.0, 1.0, 1.0, 1.0, 1.0, 1.0, 1.0, 1.0, 1.0, 1.0, 1.0, 1.0, 1.0, 1.0, 1.0, 1.0, 1.0, 1.0, 1.0, 1.0, 1.0, 1.0, 1.0, 1.0, 1.0, 1.0, 1.0, 1.0, 1.0, 1.0, 1.0, 1.0, 1.0, 1.0, 1.0, 1.0, 1.0, 1.0, 1.0, 1.0, 1.0, 1.0, 1.0, 1.0, 1.0, 1.0, 1.0, 1.0, 1.0, 1.0, 1.0, 1.0, 1.0], \"sizemode\": \"area\", \"sizeref\": 0.25, \"symbol\": \"circle\"}, \"mode\": \"markers\", \"name\": \"\", \"showlegend\": false, \"type\": \"scattergl\", \"x\": [-0.02446896769106388, 0.013181997463107109, 0.00921216793358326, 0.01175735518336296, 0.05690824240446091, 0.053255595266819, -0.10073123127222061, -0.0584794320166111, 0.11191524565219879, -0.10591988265514374, 0.027013882994651794, 0.0679909735918045, -0.005866927094757557, -0.06207975000143051, 0.0490950308740139, -0.07367947697639465, -0.2522442936897278, -0.03124062716960907, -0.15705373883247375, 0.08152256160974503, -0.08877696096897125, -0.17623643577098846, 0.10104896128177643, -0.08450394123792648, -0.15082386136054993, -0.1625397801399231, -0.042110033333301544, 0.04123355448246002, 0.07054246217012405, -0.0660906657576561, -0.08571461588144302, -0.025506677106022835, -0.19343926012516022, 0.024483341723680496, -0.13543416559696198, -0.22298862040042877, -0.15493500232696533, 0.03293207660317421, -0.07506020367145538, 0.01664808951318264, -0.09707603603601456, -0.028930818662047386, -0.3289854824542999, 0.31211382150650024, -0.06027669459581375, 0.21105927228927612, 0.015637623146176338, 0.31183162331581116, 0.05306767672300339, -0.117963507771492, -0.3790741264820099, 0.05896345525979996, -0.2013687938451767, 0.12545287609100342, -0.19693759083747864, -0.0412692092359066, 0.0209765937179327, 0.13865239918231964, -0.20054034888744354, -0.06107565760612488, 0.11063159257173538, -0.04044409096240997, 0.16109699010849, -0.3718523383140564, 0.09276293963193893, 0.13484425842761993, 0.061682745814323425, 0.06441248208284378, 0.14679108560085297, -0.1562822014093399, 0.01083662174642086, -0.41955235600471497, 0.24316468834877014, -0.033612169325351715, 0.24493129551410675, -0.11171020567417145, 0.23058602213859558, 0.22533607482910156, 0.13834084570407867, -0.26290759444236755, 0.0027912501245737076, 0.08195854723453522, -0.16114281117916107, 0.10948654264211655, 0.061015088111162186, 0.08672146499156952, 0.0038212852086871862, -0.24120768904685974, 0.004984657745808363, -0.19338196516036987, -0.07633363455533981, 0.10484781861305237, -0.31398558616638184, -0.06566059589385986, 3.2673981189727783, 0.026845190674066544, -0.025883613154292107, -0.02727922610938549, 0.08589866757392883, 3.7902534008026123, 0.1858789473772049, -0.05784228444099426, 0.19510917365550995, -0.01541967410594225, 0.2950291037559509, -0.5479306578636169, -0.10919217765331268, 0.07550762593746185, -0.30914655327796936, -0.3472198247909546, -0.2525534927845001, -0.2117905616760254, 0.08604355901479721, -0.3740612864494324, 0.4217487573623657, -0.5061655044555664, -0.5475084185600281, -0.016973795369267464, 0.17976291477680206, 0.13658249378204346, 0.2966749966144562, -0.20866216719150543, 0.18904782831668854, -0.09240153431892395, 0.40798068046569824, 0.25064438581466675, 0.023738613352179527, -0.1809571236371994, 0.30435678362846375, 0.05815235525369644, 0.2412465214729309, 0.27325886487960815, -0.18848295509815216, -0.1493496298789978, -0.09968437254428864, -0.3386663496494293, 0.07770377397537231, 0.10231536626815796, 0.1648365557193756, -0.4623335003852844, 0.07401568442583084, -0.44575780630111694, 0.2967029809951782, -0.18750132620334625, -0.11519437283277512, -0.305495023727417, -0.2121696174144745, -0.0010313652455806732, -0.30536124110221863, -0.1800987273454666, -0.0864267498254776, 0.21122704446315765, -0.5529311895370483, 0.15761761367321014, -0.25570204854011536, 0.3888644278049469, 0.2094789743423462, -0.43741631507873535, 0.04059356078505516, -0.07577556371688843, -0.48351597785949707, -0.013980377465486526, 0.059307992458343506, 0.14249028265476227, -0.46526211500167847, -0.2167147397994995, -0.25777769088745117, -0.22378143668174744, 0.030798502266407013, 0.38632887601852417, -0.24925726652145386, -0.06860307604074478, -0.3340414762496948, 0.15524688363075256, -0.31596308946609497, -0.22066140174865723, -0.29756462574005127, -0.10695351660251617, 0.045081160962581635, -0.08848357945680618, -0.28325268626213074, 0.04654497280716896, 0.22284260392189026, 0.16307370364665985, -0.23210322856903076, 0.17251898348331451, 0.07353758066892624, -0.1499277651309967, 0.12832829356193542, -0.08563187718391418, 0.061375126242637634, 0.09860800951719284, 0.0266585573554039, 0.0913902297616005, -0.3695976734161377, -0.2784920334815979, -0.08292236179113388, 0.06428342312574387, 0.4050987958908081, 0.18475370109081268, 0.04382741451263428, 0.35626667737960815, 0.380536288022995, 0.16367799043655396, 0.08758575469255447, -0.05947404354810715, 0.26061850786209106, 0.07599351555109024, 0.025095973163843155, -0.1275032013654709, 0.23524363338947296, -0.32914990186691284, 0.1279708743095398, -0.051627133041620255, 0.13061241805553436, 0.2785346210002899, -0.2748943865299225, -0.05946236848831177, 0.08935052156448364, -0.17854246497154236, -0.03915650025010109, 0.38382288813591003, 0.2453329861164093, -0.22392497956752777, -0.030069399625062943, -0.0467483215034008, -0.1921895444393158, 0.05240751802921295, -0.2593163847923279, 0.23729553818702698, -0.26284512877464294, 0.06667477637529373, -0.2538023293018341, -0.2418232262134552, -0.2103556990623474, -0.19495102763175964, 0.15789976716041565, 0.025474723428487778, -0.29052412509918213, 0.0896206647157669, -0.47401145100593567, -0.3268982470035553, 0.17917117476463318, 0.3143392503261566, -0.3457948565483093, -0.2741696238517761, 0.1304771900177002, -0.32092663645744324, -0.5839775204658508, -0.29942238330841064, 0.36779138445854187, 0.16693809628486633, 0.21088232100009918, -0.09183385968208313, 0.16893620789051056, -0.4938454329967499, -0.2815794348716736, -0.24785122275352478, 0.26193103194236755, 0.015841972082853317, 0.28645625710487366, 0.3155454099178314, -0.2581803500652313, -0.20577530562877655, -0.06051992252469063, -0.07034901529550552, -0.5103653073310852, -0.19972752034664154, -0.8300501108169556, 0.2410222440958023, -0.35816559195518494, -0.3471432328224182, -0.3846873342990875, -0.22933551669120789, 0.1775081753730774, 0.5580484867095947, -0.03553733602166176, -0.11565326154232025, 0.0397343710064888, -0.012898718938231468, -0.024070901796221733, -0.3132207691669464, -0.11643333733081818, 0.2586131989955902, -0.019837969914078712, 0.12318175286054611, -0.3904050290584564, -0.20807762444019318, -0.6767916679382324, -0.15518499910831451, 0.5671862959861755, -0.29167425632476807, 0.196796253323555, 0.4408925473690033, 0.14285415410995483, -0.4460323750972748, -0.29700738191604614, 0.5476387143135071, 0.18783853948116302, 0.34665560722351074, -0.07741129398345947, -0.09435777366161346, -0.24010246992111206, 0.197708860039711, -0.6924684047698975, -0.5738744735717773, 0.35030752420425415, 0.39630264043807983, -0.7076209783554077, -0.4736389219760895, 0.5929004549980164, -0.0028527076356112957, -0.2521229684352875, 0.12796610593795776, 0.17302827537059784, -0.5791677236557007, 0.1993846297264099, -0.06357825547456741, -0.22460883855819702, -0.0008109005866572261, 0.03856055065989494, -0.4526499807834625, 0.1814313530921936, -0.615446150302887, -0.10101287811994553, -0.25618451833724976, 0.019550707191228867, -0.2751009464263916, 0.17065484821796417, 0.7307606935501099, -0.4262264668941498, 0.3266426622867584, -0.052606649696826935, -0.31753596663475037, 0.061459317803382874, 0.07712610065937042, 0.5674298405647278, -0.1502951979637146, -0.6328122615814209, -0.6076708436012268, 0.34491023421287537, -0.13079941272735596, -0.09477002918720245, -0.26110002398490906, -0.43203580379486084, -0.3901037275791168, 1.546547293663025, 0.5877987146377563, 0.23233123123645782, -0.5588870644569397, 0.057665757834911346, -0.1807900220155716, 0.1464708298444748, -0.28897741436958313, 0.4857107400894165, 0.14158019423484802, 0.13467980921268463, -0.09891495853662491, 0.1286015510559082, -0.18738844990730286, -0.3529922068119049, -0.0844525620341301, 0.2954069674015045, 0.278675377368927, -0.4079693853855133, 0.6457666754722595, 0.2919844388961792, 0.0950547456741333, 0.2288859784603119, -0.6427597999572754, 0.4517664909362793, 0.0976877212524414, -0.21166573464870453, 0.3047982156276703, 0.5134252905845642, 0.42612215876579285, -0.11239058524370193, 0.4042305648326874, -0.1961156725883484, -0.6091674566268921, 0.016576241701841354, 0.28692692518234253, 0.24304768443107605, -0.15218670666217804, -0.5617897510528564, -0.0327940434217453, 0.23553958535194397, 0.1068052276968956, 0.19459933042526245, -0.11596506834030151, -0.21602344512939453, 0.38682740926742554, -0.059545136988162994, -0.3493031859397888, -0.7918845415115356, 0.20309233665466309, 0.31937336921691895, 0.4283028542995453, 0.3443332612514496, 0.18320441246032715, -0.38851454854011536, -0.22629420459270477, -0.05305875092744827, 0.15155304968357086, 0.08689754456281662, 0.37811920046806335, 0.6595978736877441, 0.2677236795425415, 0.648265540599823, 0.2420288473367691, -0.035494960844516754, -0.19310875236988068, 0.7246327996253967, 0.371141642332077, -0.10574710369110107, -0.2954180836677551, 0.29560211300849915, -1.0754293203353882, -0.08700040727853775, -0.32164040207862854, 0.046422429382801056, -0.431266188621521, 0.11741838604211807, -0.581110954284668, -0.08551032096147537, -0.6683982610702515, 0.17142373323440552, 0.16416408121585846, 0.2711995244026184, 0.14051467180252075, 0.07756208628416061, 0.7238938212394714, -0.14917051792144775, 0.11626937240362167, 0.20592786371707916, -0.5253851413726807, 1.335455298423767, 0.04831068590283394, -0.2631351351737976, -0.3736141324043274, -0.09481451660394669, -0.47515198588371277, 0.6250404715538025, -0.7629699110984802, -0.11079373955726624, -0.13213422894477844, 0.20286323130130768, 0.3292146921157837, 0.11866213381290436, 0.1509179025888443, -0.2540821433067322, -0.713578462600708, -0.0015603621723130345, 0.39097800850868225, 0.38217511773109436, 1.1454143524169922, -0.158646360039711, -0.07227984815835953, -0.3649366796016693, 0.6869809627532959, -0.4308180510997772, 0.21573421359062195, 0.3213138282299042, 0.2961514890193939, -0.09703395515680313, 0.350057452917099, 0.29904329776763916, 0.2814420163631439, -0.15681689977645874, -0.14569620788097382, -0.3284147083759308, -0.12449892610311508, 0.4374615550041199, -0.341829776763916, -0.35538390278816223, -0.28604403138160706, -0.6440750360488892, -0.18296988308429718, -0.012088818475604057, -0.06582562625408173, -0.06222039461135864, -0.03716986998915672, -0.10969261825084686, 0.29764577746391296, -0.03204026073217392, 0.9122776389122009, -0.051967743784189224, -0.13970105350017548, -0.13818654417991638, -0.2584974467754364, 0.18980152904987335, 0.41238364577293396, 0.15978099405765533, -0.45348891615867615, -0.15369796752929688, 0.11930610984563828, -0.35179373621940613, 0.26025232672691345, 0.4638421833515167, 0.3624266982078552, -0.6012879014015198, -0.6530230641365051, -0.253395140171051, 0.29197660088539124, -0.45444455742836, 0.46809253096580505, 0.343372106552124, 0.017595719546079636, 0.5163162350654602, -0.7112336158752441, -0.22913037240505219, 0.30745062232017517, 0.25316837430000305, -0.3653293550014496, -0.1326931118965149, -0.2990856170654297, -0.24219971895217896, -0.05375591292977333, 0.053712598979473114, -0.26255542039871216, -0.23938527703285217, -0.07226261496543884, -0.46066826581954956, -0.06891890615224838, 0.458636611700058, -0.2833433151245117, -0.06981036812067032, -0.43539488315582275, 0.28753361105918884, -0.49059346318244934, 0.3855925500392914, 0.5051998496055603, -0.45690035820007324, 0.08719734847545624, -0.1901659071445465, -0.33190441131591797, 0.2667253315448761, -0.34517422318458557, -0.4859263300895691, 0.2975274920463562, -0.2783001661300659, -0.42002835869789124, -0.23124173283576965, 0.940271258354187, -0.5557014346122742, -0.31839197874069214, 0.22484567761421204, -0.11029728502035141, 0.48478567600250244, -0.14222921431064606, 0.29512253403663635, 0.026434900239109993, -0.19955599308013916, 0.14493513107299805, -0.076512411236763, 0.6942926049232483, 0.1833561360836029, -0.6606094241142273, -0.1237730085849762, 0.09174482524394989, 0.038523707538843155, -0.1747080683708191, 0.4764798879623413, -0.6220120191574097, 0.24400323629379272, -0.001628667814657092, -0.29942530393600464, -0.7464932799339294, -0.5125612616539001, 0.09676485508680344, -0.2523007094860077, -0.17826032638549805, 0.18916183710098267, -0.7947538495063782, 0.5313963294029236, 0.26140066981315613, -0.41629329323768616, 0.021428627893328667, -0.07234670966863632, -1.053053617477417, -0.0242526363581419, -0.3817629814147949, 0.10588959604501724, -0.2601604461669922, 0.6703044176101685, -0.4311567544937134, 0.2052840143442154, 0.35014671087265015, 0.4914710223674774, -0.4905228316783905, -0.1263025403022766, 0.01621352694928646, 0.47141340374946594, 1.0034221410751343, -0.5428224205970764, 0.31785687804222107, -0.07754496484994888, 0.2110280692577362, 0.4675907790660858, 0.19075210392475128, -0.6724439859390259, 0.02406865917146206, 0.45417025685310364, 0.8927440047264099, -0.5957319736480713, 0.15782423317432404, 1.0010745525360107, 0.22756777703762054, -0.01942497305572033, -0.09817260503768921, -0.31994935870170593, -0.20232540369033813, 0.0011773213045671582, 0.4274652898311615, 0.0025450889952480793, 0.20261813700199127, -0.4225105941295624, -0.456076443195343, -0.1073559895157814, -0.6040311455726624, -0.5002803206443787, 0.12063634395599365, -0.02823488786816597, 0.4280058741569519, 0.09447891265153885, -0.35514336824417114, -0.04902628809213638, -0.15902948379516602, -0.054391536861658096, -0.1452229768037796, -0.5156587362289429, 0.1125653088092804, 0.43952086567878723, -0.06712954491376877, 0.13212238252162933, -0.049353767186403275, 0.2338879555463791, -0.9045907258987427, 0.24932008981704712, 0.027741827070713043, -0.050807658582925797, 0.10197271406650543, -0.48490360379219055, -0.3361969292163849, 0.5036072731018066, -0.21297481656074524, -0.19085049629211426, -0.6433790326118469, 0.17195731401443481, 0.2026473730802536, 0.05949318781495094, 0.3419278562068939, 0.7050886154174805, 0.27325862646102905, 0.29804664850234985, -0.13773199915885925, -0.11058860272169113, -0.17088289558887482, 0.6471679210662842, -0.6734517216682434, -0.2556842863559723, -0.051920246332883835, 0.03651627525687218, 0.3585890531539917, 0.5732835531234741, -0.2911655604839325, -0.8771530985832214, -0.06583447009325027, -0.05382326990365982, 0.6134079694747925, -0.09332320094108582, -0.8074697852134705, 0.10164214670658112, -0.491008460521698, 0.0270976759493351, 0.23194865882396698, -0.4543862044811249, 0.3186713755130768, -0.011754429899156094, -0.46472421288490295, -0.1408926397562027, -0.18125370144844055, 0.5446159243583679, -0.5269421339035034, 1.6177022457122803, -0.13012881577014923, -0.11834774166345596, -0.07172635942697525, -0.09402777999639511, -0.2694299519062042, -0.2281496375799179, 0.20012976229190826, -0.1464618742465973, -0.4643060266971588, 0.0017317358870059252, 0.057891860604286194, -0.4886452555656433, -0.24399958550930023, -0.19484815001487732, 0.4335166811943054, -0.37934359908103943, -0.03776310011744499, -0.1379377394914627, -0.32737061381340027, -0.07454678416252136, 0.0266502033919096, -0.17927102744579315, -0.5738785862922668, -0.11205566674470901, -0.2000374048948288, -0.2554001212120056, 0.24219419062137604, 0.2545929253101349, 0.03104040026664734, 0.7079073786735535, -0.2766212821006775, 0.48051825165748596, 0.1158725917339325, 0.4065835475921631, -0.3104311227798462, -0.2866385877132416, -0.13252630829811096, 0.30748045444488525, -0.21429231762886047, -0.4202580451965332, -0.8912533521652222, -0.6028090119361877, -0.15301384031772614, 0.49791690707206726, 0.2660370171070099, -0.4042576551437378, 0.005605194251984358, 0.46843570470809937, 0.28217944502830505, 0.45014408230781555, 0.4180462658405304, -0.32267236709594727, -0.35341814160346985, 1.1823055744171143, -0.0748046338558197, 0.3690253794193268, -0.17415116727352142, 0.022049738094210625, 0.6009664535522461, -0.08492496609687805, 0.2458791583776474, -0.5360113978385925, 0.08186608552932739, -0.3145236074924469, -0.4613000154495239, -0.1698286533355713, -0.27857860922813416, 0.3424769639968872, -0.04387659579515457, 0.1784619837999344, -0.43360620737075806, 0.03054259717464447, -0.22923770546913147, -0.06502027809619904, 0.5961633920669556, -0.2906688153743744, -0.4464511573314667, -0.20190097391605377, 0.2431682050228119, 0.06295914202928543, 0.6329740881919861, 0.2740175426006317, 0.18265342712402344, 0.3288494646549225, 1.1799631118774414, -0.06109451502561569, 0.11971080303192139, -0.7600136399269104, -0.5090457797050476, -0.2684599459171295, -0.24213986098766327, -0.6390127539634705, 0.1700400412082672, -0.39708200097084045, 0.2125336080789566, 0.025912920013070107, 0.1191958487033844, -0.08303134143352509, -0.11738787591457367, -0.15817950665950775, -0.09455009549856186, 0.5016974806785583, 0.269320011138916, 0.5129124522209167, -0.7189522385597229, 0.39883193373680115, 0.23329328000545502, -0.046565163880586624, -0.16196756064891815, -0.17767667770385742, -0.19315554201602936, -0.24630291759967804, -0.18620944023132324, -0.16298475861549377, 0.1892644613981247, -0.2711925506591797, -0.020210931077599525, -0.20248353481292725, -0.4880577027797699, -0.5480402708053589, -0.18984021246433258, -0.1320481151342392, 0.6498926877975464, -0.4227827787399292, 0.1756518930196762, 0.02051185630261898, -0.00486731668934226, -0.8423238396644592, -0.06638255715370178, 0.7626570463180542, 0.4304153323173523, 0.8947649002075195, 0.749652087688446, -0.22984842956066132, -0.026462765410542488, -0.3692840337753296, -0.1251707822084427, 0.7366137504577637, 0.07669945806264877, 0.07700567692518234, -0.035170137882232666, 0.5727251172065735, 0.2477865070104599, -0.549565851688385, 0.521152138710022, 0.28815895318984985, -0.061157360672950745, 0.04405415803194046, 0.7255601286888123, -0.246033176779747, -0.19042551517486572, 0.1044192910194397, 0.15143199265003204, 0.5908551812171936, 0.3328496217727661, 0.3069290518760681, 0.2743811011314392, -0.299153208732605, -0.05147774890065193, 0.4242430329322815, -0.45621630549430847, 0.48008331656455994, -0.5639668107032776, 0.6449311971664429, -0.045821405947208405, 0.5274591445922852, 0.4011615216732025, -0.06845780462026596, 0.8131186962127686, 0.4178447425365448, -0.15747612714767456, -0.5014647245407104, 0.1086030825972557, -0.32001355290412903, 0.30045807361602783, 0.38154900074005127, -0.3165740370750427, -0.3441371023654938, -0.18398165702819824, 0.8475295901298523, -0.6411422491073608, -0.28942665457725525, -0.7697821855545044, -0.031225429847836494, -0.04534029960632324, 0.3266957402229309, -0.7146667242050171, -0.3177157938480377, -0.2948051393032074, 0.6251376271247864, 0.41276687383651733, -0.061331551522016525, -0.3471907675266266, 0.7016611099243164, 0.10502948611974716, -0.4924781322479248, -0.2645155191421509, 0.21956297755241394, 0.09680524468421936, -0.19963878393173218, 0.040054257959127426, 0.3619661331176758, 0.12640425562858582, 0.030581369996070862, 0.073073610663414, 0.14889048039913177, 0.19495052099227905, -0.0775086060166359, -0.7322667837142944, -0.7788815498352051, 0.685498833656311, 0.5778288245201111, -0.4123592972755432, -0.09391561895608902, -0.3591095507144928, 0.2767387926578522, -0.06383497267961502, -0.5024775266647339, -0.19874730706214905, -0.3511681854724884, 0.048329319804906845, 0.01809554360806942, 0.11468423902988434, 0.05604538321495056, 0.180233895778656, 0.3186918795108795, 0.6932230591773987, -0.21032221615314484, 0.03512338176369667, -0.08762221783399582, -0.028383884578943253, -0.6020442843437195, -0.36094069480895996, -0.20891009271144867, 0.2165268510580063, 0.511162281036377, -0.3695785105228424, -0.09503837674856186, -0.5207388401031494, -0.19260677695274353, 0.049329593777656555, -0.5590409636497498, -0.2911803126335144, -0.4485129117965698, 0.280560702085495, -0.2831558287143707, 0.09751848876476288, -0.387846440076828, 0.013153234496712685, 0.2629219889640808, -0.05638733133673668, 0.2965135872364044, 0.027956999838352203, 0.6256909966468811, -0.08972692489624023, -0.6862791180610657, -0.13677823543548584, -0.5631410479545593, 0.107392318546772, -0.05363614484667778, 0.7393890023231506, -0.8613314628601074, -0.2316649854183197, 0.2383984625339508, 0.4950733184814453, -0.3132241666316986, 0.027606384828686714, 0.21916085481643677, 0.25113213062286377, 0.6876570582389832, -0.0041211568750441074, -0.43416959047317505, -0.016969189047813416, 0.2538086771965027, -0.38306567072868347, -0.06374723464250565, 0.16724088788032532, -0.724321186542511, 0.0453188419342041, -0.33582162857055664, -0.010964990593492985, 0.029857907444238663, 0.3061838448047638, 0.0111597441136837, -0.15289117395877838, -0.23537862300872803, 0.17289212346076965, -0.4012531042098999, -0.17496193945407867, -0.3091527223587036, 0.06313177198171616, -0.7497982382774353, 0.5133804678916931, 0.037950314581394196, 0.5051488876342773, 0.16852979362010956, 0.5955783724784851, -0.237095445394516, -0.030903253704309464, 0.014500453136861324, -0.334639310836792, -0.6328450441360474, -0.2411407083272934, -0.06835293024778366, 0.060440387576818466, 0.47195398807525635, 0.12674471735954285, 0.1040319874882698, 0.14294174313545227, 0.12994107604026794, -0.31357041001319885, -0.5270804762840271, 0.9970555305480957, 0.24216744303703308, 0.3638609051704407, -0.14963939785957336, 0.20650716125965118, -0.6329408288002014, -0.21112492680549622, -0.8015365600585938, -0.49283912777900696, 0.06909394264221191, 0.7040038704872131, 0.6140873432159424, 0.23365315794944763, -0.9878621697425842, -0.24194125831127167, -0.17974309623241425, 0.207299143075943, 0.09839300811290741, -0.9555251002311707, -0.5494860410690308, -0.7249308824539185, 0.5280386209487915, 0.3851982653141022, -0.4408111572265625, 0.05902063101530075, 0.6117445230484009, 0.2509351968765259, -0.10093861818313599, 0.02558688446879387, -0.5752220153808594, -0.6924661993980408, -0.19661620259284973, -0.38014838099479675, -0.12603190541267395, 0.1433718055486679, -0.015488891862332821, 0.5698348879814148, 0.4214400053024292, -0.24866493046283722, -1.1861426830291748, -0.12195471674203873, -0.4397999942302704, 0.09885036200284958, 0.08331257849931717, 0.6715095639228821, -0.42618468403816223, 0.030562754720449448, -0.051625706255435944, -0.11519481986761093, -0.20561827719211578, 0.4297812283039093, -0.7499050498008728, 0.07611162960529327, -0.12946851551532745, 0.1882358342409134, -0.006861086934804916, -0.018568947911262512, -0.023393569514155388, 0.22257301211357117, -0.3589436113834381, 0.027612773701548576, 0.5687084197998047, -0.5336628556251526, -0.3170509934425354, 0.008329345844686031, -0.5456047058105469, 0.5054593086242676, 0.4065234363079071, -0.4154717028141022, 0.3390321731567383, -0.09449616819620132, 0.4238634407520294, 0.7380800843238831, 0.6178470849990845, -0.06097281351685524, 0.32853028178215027, 0.4419615566730499, -0.048219144344329834, -0.10117542743682861, -0.21596863865852356, -0.13566124439239502, -0.6983829736709595, 0.04967788606882095, 0.43986064195632935, -0.706464409828186, -0.3510359823703766, -0.34834927320480347, 0.13781851530075073, 0.14105960726737976, -0.35331088304519653, -0.12990792095661163, 0.6759105920791626, 0.6442034244537354, -0.0901021957397461, -0.5315481424331665, -0.2977387607097626, -0.21487392485141754, 0.2205849140882492, -0.011907491832971573, -0.5917348861694336, 0.031176874414086342, 0.2998162508010864, -0.32895269989967346, 0.378459095954895, -0.4065651595592499, -0.4395436644554138, 0.22990235686302185, 0.031829360872507095, 0.2472814917564392, -0.3861026167869568, 0.048627156764268875, -0.35948628187179565, 0.6127508282661438, -0.3608194589614868, -0.7408247590065002, 0.3674849569797516, -0.665319561958313, -0.7455179691314697, 0.005740637890994549, -0.5261064767837524, -0.9073048830032349, -0.4467843770980835, 0.496905118227005, 0.1425161510705948, 0.30937471985816956, 0.33653172850608826, -0.44656121730804443, -0.31204134225845337, 1.1159178018569946, 1.069919228553772, -0.5172951221466064, 0.07477514445781708, -0.3985619843006134, 0.012880632653832436, -0.3409213423728943, -0.9385812878608704, 0.005839831195771694, 0.21724146604537964, -0.44721174240112305, -0.5791016817092896, 0.05496462434530258, -0.577022910118103, 0.4830925762653351, 0.987447202205658, -0.5184550285339355, 0.01103076059371233, 0.8986123204231262, 0.626066267490387, 0.49540409445762634, -0.5839503407478333, 0.28777503967285156, -0.30020850896835327, 0.3604710102081299, 0.5834751129150391, -0.20421989262104034, -0.36612409353256226, -0.8901488780975342, -0.546184241771698, 0.16520234942436218, 0.24705275893211365, -0.567847728729248, 0.31866398453712463, -0.23550891876220703, -0.27578461170196533, 0.5008636713027954, -0.14707182347774506, -0.3844463527202606, 0.9499931931495667, 0.39358818531036377, -0.13508066534996033, 0.41134586930274963, -0.2468404471874237, -0.5164252519607544, -0.22663454711437225, 0.296692430973053, -0.22725343704223633, 0.23804762959480286, 0.6301229596138, 0.3849177956581116, 0.044902920722961426, -0.2599189281463623, 0.1908475011587143, -0.14108127355575562, -0.002458818955346942, -0.4887206554412842, 0.050234489142894745, 0.25486594438552856, 0.49288392066955566, -0.34293657541275024, -0.1274983286857605, -0.015771841630339622, -0.7028646469116211, -0.4123653769493103, -0.21407954394817352, -0.26790183782577515, 0.26566916704177856, 0.10452527552843094, -0.42096182703971863, 0.7605279684066772, -0.16647124290466309, 0.34358060359954834, -0.28171393275260925, 1.042301893234253, -0.0962371975183487, -0.5235164761543274, -0.7584002017974854, -0.025873763486742973, -0.17423970997333527, 0.6251997947692871, -0.4267948865890503, -0.5687295794487, -0.01761505752801895, 0.5555068254470825, -0.027648886665701866, 0.5011498332023621, -0.5570500493049622, -0.1468389332294464, 0.1544758826494217, -0.2691086530685425, -0.09582855552434921, -0.88437819480896, -0.35237786173820496, 0.4144996106624603, -0.012409636750817299, -0.19743935763835907, 0.18656642735004425, -0.42225921154022217, -0.16765189170837402, 0.10777581483125687, -0.4344024062156677, 0.5856115221977234, -0.14314548671245575, -0.6077175140380859, -0.034484319388866425, 0.1940070241689682, -0.20742762088775635, -0.06999335438013077, 0.20160678029060364, -0.22671571373939514, -0.04193497076630592, -0.473663866519928, 0.09654233604669571, 0.5871378779411316, 0.13984991610050201, 0.20418858528137207, 0.834879994392395, 0.0643991082906723, 0.3638764023780823, 0.13468855619430542, -0.9198715686798096, 0.6683748364448547, -0.43765658140182495, 0.018862450495362282, -0.054449088871479034, 0.23935696482658386, -0.45943230390548706, 0.10028298199176788, -0.03463150933384895, 0.11044567823410034, -0.05025221407413483, -0.2632279396057129, -0.6331915259361267, -0.04919307306408882, -0.3960925042629242, -0.2466886192560196, -0.03623378649353981, 0.8946354389190674, -0.38353124260902405, -0.10716517269611359, -0.08608497679233551, 0.5224101543426514, 0.3572196066379547, -0.66063392162323, 0.3809307813644409, 0.08135725557804108, -0.2513238489627838, -1.04154634475708, 0.3469938337802887, 0.20373408496379852, -0.253827303647995, -0.5448728799819946, -0.27075761556625366, 0.5106741786003113, 0.1810654103755951, -0.23305155336856842, 0.4769064784049988, 0.2997989058494568, -0.41084468364715576, -0.26653754711151123, -0.1816137433052063, 0.49874264001846313, -0.14569634199142456, 0.4487365186214447, 1.0193614959716797, 0.10732201486825943, 0.6841973662376404, 0.47030720114707947, 0.12418413162231445, 0.5203964114189148, -0.3103804886341095, 0.3680237829685211, 0.6605584025382996, 0.24878428876399994, 0.011371762491762638, -0.09705673903226852, -0.6603870391845703, 0.7022368311882019, -0.4564262628555298, 0.4514665901660919, -0.020118508487939835, -0.6137873530387878, -0.2532966434955597, 0.15672674775123596, -0.04782210290431976, 0.24359874427318573, -0.16799400746822357, -0.9871441125869751, 0.1185910776257515, -0.647958517074585, 0.1615809053182602, 0.23828572034835815, -0.5190821886062622, -0.10086759924888611, -0.13185849785804749, 0.7628721594810486, -0.35267385840415955, 0.699371337890625, -0.5396458506584167, 0.289499431848526, 0.314765065908432, 0.337242066860199, 0.25404685735702515, 0.06462743133306503, 0.20554620027542114, 0.20228037238121033, -0.6501780152320862, -0.3042928874492645, -0.584547221660614, -0.13764266669750214, -0.2241632491350174, 0.18683022260665894, 0.4337206780910492, -0.30811741948127747, 0.1804635226726532, 0.05667593330144882, 0.21547332406044006, 0.24639981985092163, -0.4478664994239807, -0.3667140603065491, 0.6148126721382141, -0.05528045445680618, 0.3768334686756134, 0.2858472168445587, 0.689839780330658, 0.2248801738023758, 0.650255560874939, -0.8150897026062012, 0.46222299337387085, 1.028597116470337, -0.7031399607658386, -0.3509681522846222, 0.2991102337837219, -0.5090280771255493, -0.11714216321706772, 0.4593190848827362, -0.20304393768310547, -0.23891356587409973, 0.4454852044582367, -0.6110014319419861, -0.2811758518218994, -0.17158252000808716, -0.5109179019927979, 0.16210520267486572, 0.19804790616035461, 0.45680370926856995, -0.12755487859249115, -0.0902601107954979, -0.618768036365509, -0.1272781789302826, -0.2737903594970703, -0.45870670676231384, 0.7358567714691162, -0.3832142949104309, -0.26780298352241516, 0.4605884850025177, 0.9416907429695129, 0.1188850998878479, -0.27383098006248474, -0.2616780698299408, -0.12189439684152603, 0.43173497915267944, -0.478794664144516, 0.36232566833496094, 0.08667674660682678, -0.7168651819229126, 0.231228306889534, 0.053257036954164505, -0.6840751767158508, -0.9253043532371521, 0.20830917358398438, 0.2060271054506302, 0.47600215673446655, -0.6502115726470947, 0.06732036173343658, -0.04405203461647034, 0.024634310975670815, 0.1731334924697876, -0.6942748427391052, 1.095318078994751, -0.22037044167518616, 0.5026711821556091, -0.07152813673019409, -0.09793632477521896, -0.12623345851898193, -0.2836447060108185, -0.07747063785791397, 0.3262050449848175, 0.013874524272978306, 0.0018572928383946419, 0.22796238958835602, 0.05255374312400818, -0.3908626139163971, -0.3214991092681885, -0.2896132171154022, 0.30744725465774536, -0.6880437135696411, 0.8339068293571472, -0.28882336616516113, -0.1448478251695633, -0.1482471227645874, 0.19762833416461945, 0.734924852848053, 0.04863885045051575, -0.2187948077917099, -0.20621256530284882, 0.4405953586101532, -0.20097555220127106, -0.6759163737297058, -0.5461638569831848, 1.1499601602554321, -0.32480761408805847, 0.12225939333438873, 0.6874015927314758, -0.2450740784406662, 0.060330264270305634, -0.05400315299630165, 0.8996215462684631, 0.5249903202056885, 0.08176219463348389, 0.08374179899692535, 0.1376982182264328, 0.1529879868030548, -0.2584035396575928, -0.13131533563137054, -0.41758888959884644, 0.05257641524076462, -0.00419215252622962, 0.8696469664573669, 0.0184042789041996, 0.04404572397470474, -0.5381300449371338, 0.13416288793087006, 0.16349674761295319, -0.2730211913585663, 0.00529188709333539, 0.2675672769546509, 0.35653090476989746, 0.6581836342811584, -0.4030880630016327, -0.13301265239715576, 0.08458660542964935, -0.22283099591732025, 0.35130342841148376, 0.7811421155929565, -0.049320999532938004, -0.03227328136563301, 0.7035022377967834, 0.28427618741989136, 0.2519327998161316, -0.8168517351150513, 0.5719154477119446, -0.12335174530744553, -0.10008391737937927, -0.26768675446510315, -0.3752404451370239, 0.620400607585907, -0.4183961749076843, 0.357986718416214, -0.36561664938926697, 0.20052063465118408, -0.40573859214782715, -0.03012692742049694, 0.20837761461734772, -0.1880781352519989, -0.008592357859015465, -0.44070735573768616, -0.1253279745578766, 0.19011414051055908, -0.07689064741134644, 0.13966119289398193, -0.5747308731079102, -0.3775072991847992, 0.008497575297951698, -0.28928300738334656, -0.04651807248592377, -0.05382299795746803, -0.5298774838447571, -0.0663418099284172, -0.6092988848686218, 1.0975327491760254, -0.19111041724681854, 0.2514357566833496, -0.3110080063343048, 0.644119143486023, -0.026288926601409912, 0.26822948455810547, 0.5085250735282898, -0.9564936757087708, -0.4185797870159149, 0.2254224270582199, 0.3569290041923523, -0.5710772275924683, 0.6234862804412842, -0.29605793952941895, -0.33963608741760254, 0.9219509959220886, -0.4764076769351959, 0.4181721806526184, 0.4176194369792938, -0.7294237017631531, 0.7148285508155823, -0.32894277572631836, 0.7810727953910828, -0.5875777006149292, 0.5146947503089905, 0.08909975737333298, -0.021109480410814285, -0.5772998332977295, 0.02554781176149845, -0.4070100784301758, -0.4332626760005951, -0.12167496979236603, 0.2573472261428833, -0.16560667753219604, 0.1590200662612915, -0.22108319401741028, -0.2005290687084198, 0.23568692803382874, 0.3636172413825989, -0.41831135749816895, 0.4553554356098175, 0.4932616353034973, 0.028725409880280495, 0.28721824288368225, 0.22967121005058289, 0.05206775665283203, 0.7078137397766113, -0.10904081910848618, 0.5692284107208252, 0.15097269415855408, -0.29566067457199097, 0.09761472791433334, -0.14213484525680542, 0.22545458376407623, -0.03884691372513771, -0.9309492111206055, -0.22238683700561523, 0.5049149990081787, 0.21997779607772827, 0.35246413946151733, -0.4119326174259186, -0.6516698002815247, -0.16882485151290894, 0.3978792726993561, -0.3752081096172333, 0.2453303039073944, -0.27816352248191833, 0.7121491432189941, -0.771036684513092, 0.3495084047317505, -0.3012966811656952, -0.5417054295539856, -0.14187553524971008, 0.9681114554405212, -0.4843212068080902, -0.20629985630512238, 0.4439662992954254, -0.6569668650627136, -0.2643846571445465, -0.16493046283721924, -0.20704808831214905, 0.7278814315795898, -0.5348548293113708, 0.13401095569133759, -0.43570664525032043, -0.3655601441860199, 0.20143403112888336, 0.033603131771087646, 0.18974082171916962, 0.04384008049964905, 0.19253970682621002, 0.25113001465797424, 0.4083990156650543, -0.7718878984451294, 0.058874133974313736, 0.9960894584655762, 0.5430858135223389, 0.15743671357631683, 0.11332857608795166, -0.5176670551300049, -0.13884815573692322, -0.06507781147956848, -0.26443636417388916, -0.5363613367080688, -0.12856018543243408, -0.08961006253957748, 0.738804280757904, 0.04625805467367172, -0.09734182059764862, -0.29193201661109924, 0.607964277267456, 0.10117975622415543, -0.04173721373081207, 0.3535616099834442, -0.35857319831848145, -0.47980815172195435, -0.38717713952064514, -0.2674946188926697, 0.06903935223817825, 0.11525894701480865, 0.1526566445827484, 0.9222176671028137, 0.24518568813800812, 0.37531837821006775, 0.03038511611521244, -0.17137078940868378, -0.42014846205711365, -0.42929160594940186, 0.8661638498306274, 0.09076347202062607, 0.2861434519290924, -0.5322921872138977, 0.2710293233394623, 0.4563516080379486, 0.5872244834899902, -0.359295517206192, -0.26491954922676086, 1.0703322887420654, -0.16174305975437164, 0.5865123867988586, 0.5047754645347595, -0.28578808903694153, 0.01237704697996378, 0.026188524439930916, -0.09970968961715698, 0.2321837693452835, -0.28408652544021606, 0.017747920006513596, 0.3911798596382141, 0.7381170392036438, 0.4389915466308594, 0.09584367275238037, 0.3832886219024658, 0.7959915399551392, 0.21073688566684723, -0.0569966584444046, 0.32580360770225525, 0.621350884437561, -0.337093323469162, 0.16381019353866577, 0.09731558710336685, 1.2484835386276245, -0.14129053056240082, 0.3508155643939972, -0.7876574993133545, 0.1902223825454712, 0.4351280927658081, -0.2038624882698059, 1.0459898710250854, 0.09587583690881729, 0.1328170746564865, -0.22724178433418274, 0.5756517648696899, 0.22247527539730072, -0.007482035085558891, -0.35654962062835693, 0.4258463382720947, 0.7980568408966064, 0.10799409449100494, 0.8811832070350647, 0.3758627474308014, -0.6450425982475281, -0.010083802975714207, -0.31586524844169617, -0.03573925048112869, 0.12521658837795258, 0.025980012491345406, 0.10177327692508698, 0.14968332648277283, -0.33561086654663086, 0.39211446046829224, -0.22650940716266632, 0.06605832278728485, -0.10982098430395126, 0.45010682940483093, -0.18344704806804657, -0.1820477843284607, 0.8292140960693359, 0.044425033032894135, 0.0433955080807209, -0.35521697998046875, 0.24140627682209015, -0.4452030658721924, -0.2226608246564865, -0.12649962306022644, 0.2666788697242737, 0.4942198395729065, -0.443276971578598, 0.29161354899406433, -0.41041767597198486, -0.8710961937904358, 0.11918999254703522, 0.43612369894981384, -0.21834081411361694, 0.02916436269879341, 0.25809234380722046, 0.020708337426185608, 0.1221034899353981, 0.2498026043176651, 0.30667832493782043, -0.4820464253425598, -0.9098353385925293, 0.4253981411457062, 0.19248510897159576, 0.5529012680053711, 0.01943541131913662, 0.9256018400192261, -0.20583327114582062, 0.057286959141492844, 0.8933545351028442, -0.15015053749084473, -0.04436136782169342, -0.1783749759197235, -0.28502488136291504, 0.08502287417650223, -0.36302363872528076, -0.4186666011810303, 0.24998502433300018, -0.31190571188926697, 0.1404840052127838, -0.17927803099155426, 0.42099013924598694, -0.01385132409632206, -0.5308400988578796, 0.7675881385803223, 1.0099265575408936, -0.03509147837758064, 0.6817379593849182, 1.0012127161026, 0.2728119194507599, -0.38109710812568665, 0.7514706254005432, 0.7076355218887329, -0.06797835975885391, -0.1849961131811142, -0.5577406883239746, -0.21996907889842987, 0.23115628957748413, -0.22740323841571808, 0.012296302244067192, 0.19779644906520844, 0.25484150648117065, 0.1667909026145935, 0.7923756241798401, 1.0308524370193481, -0.2017928957939148, 0.27994054555892944, -0.4184221029281616, -0.08619609475135803, -0.19232739508152008, -0.4692661762237549, -0.11876586824655533, -0.41582417488098145, 0.608629047870636, 0.267550528049469, -0.22484062612056732, 0.707042932510376, -0.2768324315547943, 0.22470103204250336, -0.8373711705207825, -0.5424894690513611, -0.14463220536708832, 0.6442022323608398, 0.292294979095459, -0.21073858439922333, -0.14347490668296814, -0.23479536175727844, -0.38744494318962097, -0.28566625714302063, -0.12825457751750946, -0.004580098204314709, 0.21774327754974365, -0.32377493381500244, -0.5126849412918091, 0.5150934457778931, 0.0979374572634697, 0.11240743845701218, -0.04528084397315979, -0.2662101984024048, -0.0888403132557869, 0.16661705076694489, 0.04147745296359062, 0.038569457828998566, 0.2006583958864212, -0.08143961429595947, 0.13312850892543793, 0.7524794936180115, 0.3116820752620697, 0.10596545040607452, -0.22220110893249512, -0.4990316927433014, 0.000700076634529978, -0.07355711609125137, -0.47083643078804016, 0.26353466510772705, 0.21476039290428162, 0.25338754057884216, -0.33660420775413513, -0.4252278208732605, 0.3987870216369629, 0.1893140822649002, -0.5765482187271118, -0.5847648978233337, 0.03608798235654831, 0.4209427833557129, -0.8634293675422668, 0.3472633957862854, 0.9021313190460205, -0.03195013105869293, -0.45353052020072937, 0.34036901593208313, 0.4636646807193756, -0.11656308174133301, 0.1758006513118744, -0.12915964424610138, -0.4179821014404297, 0.870195746421814, -0.332881897687912, 0.08447516709566116, -0.16614539921283722, -0.6709415316581726, -0.7376723885536194, -0.4667450189590454, 0.254834920167923, 0.296379953622818, -0.44547924399375916, -0.5116016864776611, 0.43431079387664795, 0.24844300746917725, 0.7750925421714783, -0.1727052479982376, 0.4647063612937927, 0.5884250402450562, -0.00017712083354126662, -0.2545927166938782, 0.19254091382026672, 0.34349215030670166, 0.2997305393218994, -0.2708410918712616, -0.6713548898696899, -0.4969500005245209, -0.6893762946128845, -0.5677147507667542, 0.1963476836681366, 0.31995898485183716, 0.26092416048049927, 0.6095472574234009, 0.5823703408241272, 0.26167622208595276, -0.09497272968292236, -0.5206834077835083, 0.24367058277130127, -0.4601798951625824, 0.4657416045665741, 0.268879771232605, 0.2840670049190521, 0.21598096191883087, -0.14012975990772247, -0.4180087149143219, 0.22421975433826447, -0.02172774076461792, -0.6346355080604553, 0.015876516699790955, 1.1803356409072876, -0.47479963302612305, 1.017945408821106, 0.9940310716629028, 0.07230263948440552, -0.321603924036026, -0.6345504522323608, -0.48314011096954346, -0.38380947709083557, -0.6727539896965027, -0.3620469868183136, 0.12886261940002441, -0.4799289405345917, -0.6709485054016113, -0.024794189259409904, 0.18439459800720215, 0.5714830756187439, 0.0652778223156929, -0.5696121454238892, 0.01268607098609209, 0.07128030061721802, -0.144521564245224, -0.12490829825401306, -0.32596537470817566, 0.9895606637001038, -0.7278847098350525, 0.29259589314460754, -0.05861927568912506, -0.02253563702106476, -0.5303379893302917, 0.5380556583404541, -0.1308746486902237, -0.36061230301856995, -0.5406494140625, 0.300818532705307, 0.27713918685913086, -0.10203099995851517, -0.2940191328525543, 0.8053414225578308, -0.13995672762393951, 0.6867687106132507, 0.3045230507850647, 0.6820064187049866, -0.43460968136787415, -0.01666673831641674, 0.29080748558044434, 0.17952467501163483, -0.18613161146640778, 0.454950749874115, -0.1960710734128952, -0.1748272180557251, -0.25072285532951355, 0.5977428555488586, -0.39580005407333374, -0.3817349672317505, -0.4142756760120392, -0.29071614146232605, 0.01021324098110199, 0.21556305885314941, 0.9256273508071899, 0.31250786781311035, 0.36229681968688965, 0.1500113159418106, -0.11243637651205063, -0.4761674404144287, 0.6652365326881409, -0.2342355102300644, -0.3023519217967987, 0.3222242295742035, -0.037125952541828156, -0.07547327876091003, -0.09722261875867844, -0.6300760507583618, -0.017338674515485764, -0.6994947791099548, 0.2561449706554413, -1.1768113374710083, 0.3594975769519806, 0.6327599287033081, 1.129966139793396, 0.23377682268619537, 0.5796141624450684, 0.042627718299627304, 1.2483874559402466, -1.0908727645874023, 0.10654614865779877, -0.5326751470565796, 0.23333367705345154, 0.21996408700942993, -0.84303218126297, -0.4393708109855652, -0.2574957609176636, 0.007991723716259003, 0.9240339398384094, -0.10573036968708038, -0.3257024884223938, 0.1839420199394226, -0.35455459356307983, -0.33656561374664307, -0.2853553891181946, -0.4269869327545166, -0.46391376852989197, 0.8601275682449341, -0.1902277022600174, 0.7934753894805908, 0.6883221864700317, -0.21111086010932922, -0.5366067886352539, 0.22301387786865234, 0.473445326089859], \"xaxis\": \"x\", \"y\": [-0.044617317616939545, -0.09336752444505692, 0.03385291248559952, -0.1609370857477188, 0.04809032380580902, -0.002837635576725006, 0.02574491873383522, 0.07873697578907013, -0.018307572230696678, -0.09649206697940826, -0.06610932946205139, -0.03937128558754921, -0.15635575354099274, -0.0006394493393599987, -0.08380598574876785, -0.012304914183914661, -0.04908804967999458, 0.3833952844142914, 0.19503068923950195, -0.016570085659623146, -0.06930529326200485, 0.13375967741012573, -0.06946615874767303, -0.08476532995700836, -0.23424915969371796, 0.08259867131710052, -0.06956145167350769, 0.05080368369817734, 0.010861339047551155, -0.0291193425655365, -0.1821146309375763, -0.22470571100711823, 0.13445284962654114, 0.04692360758781433, 0.08184133470058441, 0.021046504378318787, -0.05337362363934517, -0.14624498784542084, -0.05023647099733353, -0.12152847647666931, -0.05792202427983284, -0.07102792710065842, -0.014075561426579952, -0.12568585574626923, 0.06552717834711075, -0.07507309317588806, 0.390714555978775, -0.09668790549039841, 0.1300741583108902, -0.029085787013173103, 0.0634085014462471, -0.0076944767497479916, -0.027959564700722694, -0.18953001499176025, -0.20982101559638977, -0.16854402422904968, -0.008239462971687317, 0.11569907516241074, 0.3849944472312927, 0.09526669234037399, 0.05760454386472702, -0.1063004583120346, -0.27643558382987976, 0.2405615597963333, 0.07532568275928497, 0.026261964812874794, 0.07517152279615402, 0.05337116867303848, -0.08192535489797592, 0.18464042246341705, -0.2577642500400543, 0.03560575097799301, 0.12349352240562439, -0.058308836072683334, -0.016587313264608383, -0.004885371774435043, -0.008775081485509872, -0.06306107342243195, 0.045701298862695694, 0.0037410748191177845, 0.06261125206947327, 0.04585393890738487, -0.1684022694826126, -0.07635670155286789, -0.12991955876350403, -0.3696572780609131, -0.19772104918956757, 0.028794821351766586, 0.02771206945180893, -0.2627979815006256, 0.06716907024383545, 0.16228049993515015, 0.05254048854112625, 0.07606825232505798, -1.3062537908554077, -0.3128443956375122, 0.08562900125980377, -0.18631206452846527, -0.35379651188850403, -1.2400155067443848, 0.028643382713198662, 0.24576759338378906, -0.08234735578298569, -0.23476272821426392, 0.059248752892017365, -0.0049553243443369865, -0.09877746552228928, 0.14482632279396057, -0.16915486752986908, -0.21807096898555756, -0.05985124036669731, -0.04258790239691734, -0.06243177503347397, 0.0227461326867342, -0.25234439969062805, 0.0887351930141449, 0.2981213629245758, 0.024740273132920265, -0.24820303916931152, 0.1419832557439804, -0.20755572617053986, 0.3268958330154419, -0.003536925185471773, 0.033247437328100204, 0.15835177898406982, 0.1228431835770607, 0.23504671454429626, 0.04054480791091919, -0.10935009270906448, -0.05058140680193901, -0.23816633224487305, 0.15374387800693512, 0.15326903760433197, 0.07046356797218323, 0.27896884083747864, 0.050972968339920044, 0.25596946477890015, -0.012730262242257595, -0.3933638036251068, 0.11114662140607834, -0.2945379316806793, 0.059678349643945694, 0.29587408900260925, 0.38390424847602844, -0.15174473822116852, 0.18523581326007843, -0.14409708976745605, -0.3302118480205536, 0.26496273279190063, 0.14110049605369568, -0.2907316982746124, -0.03157508373260498, -0.08625854551792145, -0.15125855803489685, 0.19685907661914825, 0.2926812469959259, -0.1733381748199463, 0.056591734290122986, 0.26620936393737793, 0.11241812258958817, 0.27166616916656494, 0.4780145585536957, 0.10725107789039612, -0.06183164566755295, -0.0388990081846714, 0.30048060417175293, -0.1347048580646515, 0.20947463810443878, -0.17770496010780334, 0.09828489273786545, 0.054999370127916336, 0.06109185889363289, -0.05614513158798218, 0.08990386128425598, 0.04680691286921501, -0.11612138152122498, 0.11924934387207031, 0.24077622592449188, -0.016088280826807022, 0.6933356523513794, 0.15606003999710083, -0.02155963145196438, 0.06651303172111511, -0.07140257954597473, 0.034654002636671066, 0.2647175192832947, -0.23427706956863403, 0.07833407074213028, 0.11270350217819214, -0.34928321838378906, -0.3060482442378998, -0.17907153069972992, 0.32900702953338623, 0.07349813729524612, 0.3845006227493286, 0.31685593724250793, -0.31528592109680176, 0.04015636816620827, -0.3324701488018036, -0.21378986537456512, 0.4338926076889038, -0.29339665174484253, 0.26391297578811646, -0.05886688828468323, -0.092819444835186, -0.09074080735445023, -0.07832565903663635, -0.3991786539554596, 0.6499245166778564, 0.3110516667366028, -0.12739568948745728, -0.2913881540298462, -0.1812809705734253, 0.03004968725144863, 0.34582242369651794, -0.17342452704906464, 0.43770265579223633, -0.35180792212486267, -0.5362203121185303, -0.016571469604969025, 0.20669159293174744, -0.11390362679958344, 0.17877517640590668, -0.4426473379135132, 0.0028400595765560865, 0.36310896277427673, 0.4542107582092285, -0.3165510892868042, 0.06173349544405937, 0.5028319954872131, -0.05309588834643364, 0.14646676182746887, -0.0517142117023468, -0.19356028735637665, -0.06454677879810333, 0.17532901465892792, -0.3146631121635437, 0.24042129516601562, 0.180516317486763, -0.0810096338391304, -0.3866358697414398, -0.2704710066318512, -0.09153692424297333, 0.06020636111497879, -0.13174466788768768, 0.014370477758347988, -0.18629050254821777, 0.30296364426612854, 0.6794265508651733, 0.24544046819210052, -0.1361435353755951, -0.29076293110847473, -0.029092801734805107, 0.14427712559700012, 0.22049997746944427, 0.39238104224205017, -0.1967547982931137, 0.1347680687904358, -0.1814727634191513, 0.0782017856836319, 0.6899497509002686, 0.10598099231719971, -0.18834668397903442, 0.04125780239701271, 0.3543367087841034, 0.3157619833946228, -0.02432965487241745, -0.30651673674583435, 0.3796536922454834, -0.011900567449629307, -0.26926732063293457, 0.14883868396282196, 0.37352558970451355, 0.024323759600520134, -0.0950985848903656, 0.018059108406305313, -0.263775497674942, 0.08365937322378159, 0.7855727672576904, 0.27436894178390503, 0.15669600665569305, -0.04026951640844345, 0.3711361587047577, -0.013908561319112778, -0.2682425081729889, -0.0965370461344719, -0.029671134427189827, 0.36695706844329834, 0.3620116114616394, 0.6343227624893188, 0.20973624289035797, -0.0795278400182724, 0.17132695019245148, -0.5287143588066101, -0.15244992077350616, 0.25458982586860657, 0.18174192309379578, -0.3981884717941284, -0.33540573716163635, 0.03638084605336189, -0.4057769477367401, -0.06969746947288513, -0.02131933718919754, 0.018535975366830826, -0.06767012178897858, -0.36915650963783264, 0.0907299742102623, 0.237802654504776, 0.10677933692932129, 0.21438436210155487, -0.002700074575841427, -0.41825076937675476, -0.004185965750366449, 0.21738360822200775, -0.2963486909866333, 0.09693453460931778, 0.06914680451154709, 0.10412971675395966, 0.3082960247993469, 0.18741047382354736, -0.10139966011047363, 0.6304580569267273, 0.2618086040019989, -0.5422930121421814, -0.013098358176648617, 0.22597326338291168, 0.18469232320785522, -0.38901108503341675, 0.05704008787870407, -0.4561282992362976, -0.24832035601139069, 0.07348114252090454, 0.39517757296562195, 0.37565428018569946, 0.15536564588546753, 0.09568984806537628, 0.2019050270318985, 0.010681738145649433, -0.2146175056695938, 0.032900936901569366, 0.5747340321540833, 0.08550117164850235, 0.14992834627628326, 0.415653795003891, 0.613164484500885, 0.04272652044892311, -0.4904078543186188, -0.14708732068538666, -0.3211587071418762, 0.43683117628097534, 0.1250452846288681, -0.22453172504901886, -0.11617639660835266, -0.26308512687683105, -0.24325302243232727, -0.38488924503326416, -0.35065025091171265, 0.14949466288089752, 0.08352276682853699, 0.1548408567905426, 0.12770472466945648, 0.05304013192653656, 0.13923218846321106, -0.05919840559363365, 0.202464759349823, 0.38632720708847046, -0.2066519409418106, 0.017946835607290268, -0.22266122698783875, 0.09640108048915863, -0.2558445930480957, 0.010302308946847916, -0.41689935326576233, -0.20874975621700287, 0.8400239944458008, 0.6182219982147217, -0.007435704115778208, -0.13708944618701935, -0.08021615445613861, -0.33381131291389465, -0.10217694193124771, 0.26127713918685913, -0.2320202887058258, 0.061256859451532364, 0.26690059900283813, 0.17275650799274445, -0.6187261939048767, -0.38426849246025085, 0.1831715852022171, 0.5231861472129822, 0.3944254517555237, 0.32848620414733887, 0.12975472211837769, -0.499423086643219, -0.1457098424434662, 0.13749971985816956, 0.1406206339597702, 0.11786910146474838, -0.23561473190784454, -0.16051924228668213, 0.37491416931152344, 0.38540634512901306, -0.5149546265602112, -0.19643771648406982, -0.15115755796432495, -0.01659618876874447, 0.418901264667511, -0.1458752602338791, -0.03920922055840492, -0.10089898109436035, 0.12135147303342819, 0.42862775921821594, 0.03919363394379616, 0.02444336749613285, 0.2984884977340698, -0.06096082553267479, 0.5696706771850586, -0.019941894337534904, 0.026624804362654686, -0.24161015450954437, 0.509526252746582, -0.5050101280212402, -0.2537887394428253, -0.4001946449279785, -0.12769393622875214, -0.38191142678260803, -0.15643884241580963, 0.06477190554141998, -0.0630917027592659, 0.2877363860607147, 0.2563651502132416, -0.0808379277586937, 0.7136403918266296, -0.07436524331569672, -0.03302538022398949, 0.13392794132232666, -0.6149411797523499, 0.24964433908462524, 0.23926551640033722, -0.08875807374715805, 0.1382119506597519, -0.4487431049346924, -0.04979143291711807, 0.37400728464126587, -0.23896420001983643, 0.036431096494197845, 0.5370293259620667, 0.7380185723304749, 0.35772421956062317, 0.35083654522895813, -0.2657594084739685, -0.04309836030006409, 0.25169143080711365, 0.3434925079345703, 0.22122079133987427, -0.30656635761260986, -0.23536719381809235, 0.31484898924827576, -0.25737684965133667, 0.17512978613376617, -0.3122076690196991, -0.5125951766967773, -0.14116793870925903, 0.5713397264480591, -0.5294964909553528, -0.23277577757835388, 0.5430902242660522, -0.16117505729198456, 0.14155425131320953, 0.4987390339374542, -0.003949518781155348, 0.7509617209434509, -0.17530016601085663, 0.13564085960388184, -0.3056876063346863, -0.7041704654693604, 0.1287747174501419, -0.5295143127441406, -0.14635778963565826, 0.1873176395893097, -0.5665957927703857, 0.5099809765815735, 0.23820309340953827, 0.2187938243150711, -0.2812322974205017, 0.1502484381198883, 0.039541665464639664, 0.29535195231437683, -0.35393187403678894, -0.08825375139713287, -0.21586228907108307, -0.04161398857831955, -0.1754584014415741, 0.08608080446720123, -0.09253108501434326, 0.030174462124705315, -0.23280879855155945, -0.564228355884552, 0.30975010991096497, 0.2675478160381317, 0.19549907743930817, 0.2332940250635147, -0.09131335467100143, 0.22097735106945038, 0.1560503989458084, 0.7844159603118896, -0.3351598381996155, 0.5819284319877625, -0.3586001992225647, 0.07446280866861343, -0.20287472009658813, 0.24428261816501617, -0.31333333253860474, 0.13867364823818207, -0.34740298986434937, 0.020433371886610985, -0.08771074563264847, 0.3290610909461975, 0.010267714969813824, -0.1241992861032486, 0.20057399570941925, 0.3455512821674347, 0.10008000582456589, 0.7646942734718323, 0.31917279958724976, 0.08306242525577545, -0.39563584327697754, 0.23943303525447845, 0.05957740545272827, -0.07225807756185532, 0.15499158203601837, 0.014410696923732758, -0.7637990117073059, -0.016783852130174637, -0.10790534317493439, -0.19097234308719635, -0.5295425653457642, 0.14415623247623444, 0.44378164410591125, 0.17678020894527435, 0.05260060355067253, -0.0372491218149662, 0.1612551063299179, -0.6250410079956055, -0.04054652154445648, 0.5665971040725708, -0.1604088991880417, 0.1721644103527069, -0.16170808672904968, -0.06588480621576309, 0.43731948733329773, 0.10968143492937088, -0.32218191027641296, -0.5449963808059692, 0.26259589195251465, -0.7012261152267456, 0.027218567207455635, 0.008820357732474804, 0.0327465645968914, 0.34515440464019775, -0.12226757407188416, -0.18058370053768158, -0.6215689182281494, 0.9009116888046265, 0.11446467787027359, 0.5281354188919067, -0.09911084920167923, 0.15137717127799988, 0.14740322530269623, -0.4172739088535309, 0.03823632746934891, -0.12253408133983612, -0.04051656648516655, 0.11102087050676346, 0.17276886105537415, 0.22662295401096344, -0.01070555578917265, -0.5118159055709839, 0.6232008934020996, 0.529914379119873, 0.3891167938709259, 0.12265683710575104, 0.11013564467430115, -0.651824414730072, -0.17326605319976807, 0.4118424952030182, -0.5809276103973389, 0.8470625877380371, 0.32335636019706726, -0.654063880443573, -0.1441815048456192, -0.07610774040222168, -0.0570940263569355, -0.5192549228668213, 0.5614200830459595, -0.392421692609787, 0.08470892906188965, 0.48780953884124756, -0.0587862990796566, -0.10376397520303726, 0.2874187231063843, 0.6315636038780212, -0.1287504881620407, -0.08645513653755188, 0.1456068605184555, -0.04003360867500305, 0.005083898082375526, -0.45613664388656616, 0.03078063763678074, 0.6283201575279236, -0.0579574778676033, 0.06161489337682724, 0.009036622010171413, -0.43109753727912903, 1.3773729801177979, 0.09795362502336502, 0.31501951813697815, 0.5283815264701843, -0.20973345637321472, 0.10606760531663895, 0.9391886591911316, 0.10125864297151566, 0.30989235639572144, -0.21647027134895325, -0.10696841776371002, 0.03164836764335632, -0.047192949801683426, 0.07671299576759338, -0.15304508805274963, 0.0033679096959531307, -0.24507591128349304, 0.6767138242721558, -0.536586582660675, -0.2120598405599594, 0.11470884829759598, -0.6018118858337402, 0.03786323219537735, -0.2156662940979004, 0.06009800732135773, -0.16804039478302002, 0.38950490951538086, -0.116932712495327, -0.43790361285209656, 0.42382362484931946, 0.34855011105537415, -0.3719635307788849, -0.11148849129676819, 0.5707544684410095, 0.39310362935066223, -0.103178970515728, -0.28140759468078613, 0.22841835021972656, -0.1540008783340454, 0.22930587828159332, -0.2760262191295624, 0.1802353858947754, 0.5678308010101318, -0.09403887391090393, -0.019859226420521736, 0.06238171085715294, -0.3053297698497772, 0.15062110126018524, 0.09814668446779251, 1.1213525533676147, 1.069870948791504, -0.17463688552379608, -0.7702361941337585, -0.3438187837600708, 0.18817463517189026, -0.630183756351471, 0.32364144921302795, -0.12518560886383057, -0.24235978722572327, -0.42988911271095276, -0.04771534726023674, 0.032216720283031464, -0.5087542533874512, -0.24492831528186798, -0.6238307356834412, 0.34286877512931824, -0.3883424699306488, 0.3879741132259369, -0.5511194467544556, 0.20254652202129364, -0.3146834373474121, -0.13967470824718475, -0.6255189180374146, 0.08409623056650162, 0.3148193657398224, -0.42526212334632874, 0.2865670919418335, 0.4356952905654907, -0.19094406068325043, -0.2288915067911148, -0.11842166632413864, 0.005411277059465647, 0.20528212189674377, -0.4031357765197754, 0.13528014719486237, -0.3522545099258423, 0.8130139112472534, 0.07155248522758484, -0.11425989121198654, -0.39883506298065186, -0.10578127205371857, -0.04177645221352577, 0.38991767168045044, -0.3121874928474426, -0.07018458843231201, -0.059690315276384354, 0.425157368183136, 0.071259506046772, -0.19885039329528809, 0.2525362968444824, 0.44713065028190613, 0.13589656352996826, -0.1385161429643631, 0.16403721272945404, -0.05108913779258728, 0.3172317147254944, 0.26315760612487793, -0.07931756228208542, -0.07786648720502853, -0.050878435373306274, -0.28378334641456604, -0.4020330309867859, 0.5173491835594177, -0.18506625294685364, -0.04712105542421341, 0.4818560481071472, -0.06495365500450134, -0.0976702943444252, -0.033244553953409195, -0.01900842785835266, 0.19917352497577667, 0.02657913602888584, -0.09859471023082733, 0.41919535398483276, 0.01007024571299553, -0.07606847584247589, 0.24866606295108795, -0.21277770400047302, 0.08068396896123886, 0.12206892669200897, 0.2838039696216583, -0.042302366346120834, 0.3328929543495178, -0.31796514987945557, 0.4339144229888916, -0.21180960536003113, -0.24475443363189697, 0.44283077120780945, -0.17544223368167877, 0.12480111420154572, -0.8691874742507935, -0.5087906122207642, 0.06421991437673569, -0.2293081432580948, -0.32743898034095764, 0.563629686832428, -0.008221855387091637, 0.2690141201019287, -0.13824383914470673, 0.008172241970896721, 0.6793131828308105, 0.3435284197330475, 0.0776263177394867, 0.23948566615581512, -0.42755255103111267, -0.46388867497444153, -0.098098985850811, 0.010338671505451202, -0.23773734271526337, -0.2170834243297577, 0.17471854388713837, -0.32612115144729614, 0.04761461168527603, 0.07111594080924988, -0.33788543939590454, 0.11383020877838135, -0.032865121960639954, 0.05139651149511337, -0.18865162134170532, -0.32960715889930725, -0.33640170097351074, 0.9161818027496338, -0.06789496541023254, -0.1202089786529541, -0.2214285135269165, 0.24920006096363068, -0.21651358902454376, 0.21982982754707336, 0.23320133984088898, 0.2937551438808441, -0.01729748211801052, -0.06323503702878952, 0.6256186366081238, 0.36957430839538574, -0.21904174983501434, -0.37570780515670776, 0.03111971542239189, 0.013943145051598549, 0.11159893125295639, -0.2375110685825348, -0.8402751088142395, 0.4657554626464844, -0.3711913526058197, -0.3122086822986603, 0.2678275406360626, 0.00733983563259244, 0.4699355363845825, 0.3314189314842224, -0.2299937754869461, -0.014504615217447281, 0.014708415605127811, -0.04279527813196182, -0.4465024173259735, 0.5263713002204895, -0.28935134410858154, -0.04545772075653076, -0.14345121383666992, -0.24363505840301514, 0.2638397812843323, -0.3301936984062195, -0.10795559734106064, -0.11056874692440033, -0.4474952518939972, -0.005865657702088356, -0.19693225622177124, -0.40616536140441895, -0.3524550199508667, -0.18554943799972534, -0.35698065161705017, -0.07306326925754547, -0.15482968091964722, 0.0933557078242302, -0.2997622489929199, 0.89018714427948, 0.39659562706947327, 0.380802184343338, 0.4893800914287567, -0.24471934139728546, -0.25511664152145386, -0.380363792181015, -0.17371736466884613, 0.36013755202293396, -0.2611779570579529, -0.09512565284967422, 0.07508274167776108, -0.29509615898132324, -0.06619592756032944, 0.059904810041189194, 0.02129879780113697, 0.15396106243133545, 0.4195183217525482, -0.1679183542728424, -0.24306617677211761, -0.23186255991458893, 0.30611032247543335, -0.39801761507987976, -0.3741323947906494, -0.1905260980129242, -0.18521222472190857, -0.29370296001434326, -0.34227871894836426, -0.06419209390878677, 0.3821415901184082, 0.056733474135398865, 0.13161499798297882, 0.5129475593566895, -0.0853056013584137, 0.21283364295959473, -0.21343398094177246, 0.5186134576797485, 0.6248549222946167, 0.5661755800247192, -0.036453861743211746, 0.6184291839599609, -0.14341047406196594, 0.46291038393974304, 0.2990010678768158, 0.4627222716808319, 0.13928525149822235, -0.15910907089710236, -0.35631152987480164, -0.09706836938858032, -0.2764337360858917, 0.3498852252960205, 0.7899798154830933, -0.4608704447746277, 0.0900397077202797, -0.4467022120952606, -0.43486183881759644, 0.6851855516433716, -0.3709660768508911, 0.11694429814815521, 0.18376612663269043, -0.6619637608528137, -0.48097503185272217, -0.08245673775672913, -0.12356813997030258, 0.5586738586425781, 0.22484339773654938, 0.4549787640571594, 0.5884291529655457, 0.1107061430811882, 0.4964480698108673, -0.22832579910755157, 0.20693758130073547, 0.12995284795761108, -0.07013111561536789, 0.4690462350845337, 0.1916842758655548, 0.21660183370113373, -0.09459337592124939, 0.7092173099517822, -0.6746183633804321, 0.08370792120695114, -0.09111444652080536, -0.5924720764160156, 0.4394148290157318, -0.008141479454934597, 0.5156921744346619, -0.39690500497817993, 0.1573699712753296, 0.8701182007789612, -0.12111508846282959, 0.05115154758095741, -0.2388039529323578, -0.37907853722572327, -0.4691239297389984, 0.3741369843482971, 0.3575856387615204, -0.025044908747076988, 0.2382732629776001, 0.35020172595977783, 0.2737392783164978, -0.2704983651638031, -0.25051912665367126, -0.009179213084280491, -0.10419619083404541, 0.11512245982885361, -0.37026000022888184, 0.22401073575019836, 0.20255480706691742, -0.030448483303189278, -0.0007259301492013037, 0.36286234855651855, -0.4497738778591156, -0.23871728777885437, 0.41523346304893494, -0.11348497867584229, -0.8034287095069885, 0.6757780909538269, -0.4982553720474243, 0.1323116570711136, 0.11955513805150986, 0.617991030216217, 0.6376104950904846, -0.5150554180145264, 0.29708659648895264, 0.07470088452100754, 0.21264472603797913, -0.07128358632326126, 0.29537397623062134, -0.5462095737457275, 0.03660706430673599, -0.27387282252311707, -0.2091459035873413, 0.5295771360397339, -0.20107869803905487, 0.22528940439224243, -0.05524209514260292, -0.050729453563690186, 0.5021104216575623, -0.26857927441596985, -0.3003074526786804, -0.241571307182312, -0.29844626784324646, 0.40326136350631714, 0.2651249170303345, 0.10418447852134705, 0.45955291390419006, -0.016639333218336105, -0.17827381193637848, 0.1038990169763565, -0.22481508553028107, 0.008468056097626686, -0.147027388215065, -0.23542578518390656, 0.275339812040329, -0.22158782184123993, -0.11576356738805771, -0.5197248458862305, 0.12921474874019623, 0.26231661438941956, 0.3040221631526947, -0.045139510184526443, -0.11680639535188675, -0.09896272420883179, 0.10136605054140091, 0.027972152456641197, 0.996049165725708, 0.11673746258020401, 0.36180999875068665, -0.13328859210014343, -0.05900806188583374, -0.23021240532398224, -0.7022752165794373, 0.26912227272987366, 0.18963757157325745, -0.4028967320919037, -0.2733021080493927, 0.19927732646465302, 0.15127350389957428, 0.34027308225631714, -0.14113295078277588, 0.0938921570777893, -0.09376770257949829, -0.15645435452461243, -0.41459178924560547, -0.16906553506851196, 0.03451792895793915, -0.09942102432250977, -0.05154542997479439, 0.14099988341331482, 0.23639197647571564, 0.2339785099029541, 0.15050597488880157, -0.5675005316734314, -0.23576286435127258, -0.4882334768772125, 0.15656790137290955, 0.6250605583190918, -0.02915971353650093, 0.20363964140415192, -0.2669548988342285, -0.7892094254493713, 0.22188065946102142, 0.5416074991226196, 0.46376362442970276, 0.3268544375896454, 0.46726563572883606, 0.282815545797348, -0.3462166488170624, 0.2487046867609024, -0.13543730974197388, 1.1753334999084473, 0.3739347457885742, -0.52190762758255, -0.32915452122688293, 1.0287842750549316, 0.08513304591178894, -0.6706406474113464, 0.25537776947021484, -0.4456234872341156, -0.06573037803173065, 0.36653175950050354, 0.450080007314682, 0.33792123198509216, -0.19368207454681396, 0.34906822443008423, -0.24519580602645874, -0.03181213513016701, -0.2547801434993744, -0.16206228733062744, 0.6052490472793579, -0.3545632064342499, 0.13406796753406525, -0.6865581274032593, -0.2793724238872528, -0.020661169663071632, 0.2042396068572998, 0.18948693573474884, 0.43372824788093567, 0.3100182116031647, -0.14343495666980743, 0.22733700275421143, -0.40500208735466003, 0.20206689834594727, -0.6667613983154297, 0.1305261105298996, -0.10830079019069672, -0.14016850292682648, 0.6119318008422852, -0.0895056277513504, 0.3574754595756531, 0.18214061856269836, 0.4520389139652252, 0.3421472907066345, 0.1303093433380127, 0.12793958187103271, -0.08519607782363892, -0.1429266333580017, 0.19547590613365173, -0.5587105751037598, 0.002572757424786687, -0.22948406636714935, 0.7260092496871948, 0.07042299956083298, 0.02321907877922058, 0.24681603908538818, -0.2985819876194, 0.18098093569278717, 0.1719396859407425, -0.5606308579444885, -0.05566437169909477, -0.10439598560333252, -0.04504408687353134, 0.2748609483242035, 0.41304102540016174, -0.08892644196748734, 0.9707036018371582, 0.5869137048721313, -0.07902714610099792, -0.6407759189605713, 0.13542979955673218, -0.3354829251766205, -0.18081355094909668, 1.1744776964187622, 0.25167879462242126, 1.0746328830718994, 0.01549517922103405, 0.152653768658638, 0.044084884226322174, 0.5189724564552307, -0.48622602224349976, 0.2531537711620331, 0.3143198490142822, -0.14452515542507172, -0.17723052203655243, -0.07656742632389069, -0.30129316449165344, 0.11020531505346298, -0.09160272032022476, 0.12244714796543121, -0.03839069604873657, -0.03133731707930565, -0.21460549533367157, -0.36769261956214905, -0.4090993404388428, 0.24484124779701233, -0.9353243112564087, 0.3971766531467438, 0.11009039729833603, 0.15085460245609283, -0.5452954173088074, 0.8984032869338989, 0.16261374950408936, 0.0580904521048069, 0.8188754320144653, 0.24288761615753174, -0.1296962946653366, -0.4832439720630646, 0.29570770263671875, 0.4408712685108185, -0.2632952928543091, -0.20552831888198853, -0.40213727951049805, 0.14475801587104797, -0.16259686648845673, -0.2915225327014923, -0.13229186832904816, -0.3415539860725403, 0.22728802263736725, -0.2780848443508148, -0.25765690207481384, 1.697204351425171, 0.024628158658742905, -0.6716354489326477, -0.7569183111190796, -0.06194906309247017, 0.26780200004577637, 0.03373656049370766, 0.031350381672382355, -0.4477715790271759, -0.060089271515607834, -0.2417818307876587, -0.05734369531273842, -0.40873420238494873, 0.16610866785049438, 0.3108549118041992, -0.02817348949611187, -0.11442674696445465, 0.07963933795690536, -0.22113509476184845, -0.30759161710739136, 0.2983233630657196, -0.578506350517273, 0.15920180082321167, -0.4151524007320404, 0.21833263337612152, 0.8994165658950806, -0.5232877731323242, -0.2415260225534439, 0.1281151920557022, 0.12858104705810547, 1.0836886167526245, 0.0816487967967987, -0.4966927766799927, -0.02623603492975235, 0.3222275376319885, -0.2916140854358673, 0.1188884899020195, -0.11931875348091125, -0.4051816463470459, -0.3000057339668274, 0.5503172278404236, -0.02813912369310856, 0.49105778336524963, -0.059201836585998535, -0.2508867084980011, -0.0386938601732254, 0.0714971274137497, -0.6055808067321777, 0.2120622992515564, 0.1984827220439911, -0.15980836749076843, 0.5815596580505371, -0.7520382404327393, -0.403597891330719, -0.46725985407829285, 0.558546781539917, -0.1311841756105423, -0.051531754434108734, -0.31517288088798523, 0.3428877294063568, -0.15231719613075256, 0.4052567481994629, -0.03577407822012901, -0.2775672376155853, 0.8010154962539673, 0.09424225240945816, 0.35138940811157227, -0.10028184205293655, -0.21345673501491547, -0.18107163906097412, 0.03860609978437424, -0.25028201937675476, 0.8658961653709412, -0.2824932634830475, 0.5265721082687378, 0.7308344841003418, -0.21719563007354736, 0.04547932371497154, -0.569748044013977, -0.5470351576805115, 0.30458909273147583, -0.2834571301937103, 0.19754408299922943, -0.011452529579401016, -0.08964267373085022, -0.39025914669036865, 0.5590648055076599, 0.06992866098880768, 0.05298977345228195, -0.08866562694311142, -0.3458155691623688, 0.5013571381568909, 0.06148841232061386, -0.2107342928647995, -0.35261228680610657, -0.37043827772140503, -0.14386746287345886, -0.09626039862632751, -0.23329634964466095, 0.10015622526407242, 0.03514347970485687, 0.024360328912734985, -0.7838534116744995, -0.12884807586669922, -0.055773861706256866, 0.22536522150039673, 0.01885167509317398, 0.8381556868553162, -0.11417724937200546, -0.024194303900003433, -0.28063639998435974, -0.20910024642944336, -0.01993762142956257, -0.6237632632255554, -0.15039750933647156, -0.37316426634788513, -0.1113705262541771, -0.22855839133262634, 0.1407962143421173, -0.0877620056271553, -0.299996018409729, 0.7208333015441895, 0.13748405873775482, 0.5751903653144836, 0.002665339270606637, 0.35405659675598145, 0.2803811728954315, 0.22224439680576324, 0.11390955001115799, -0.16334965825080872, -0.17122149467468262, 0.10834429413080215, 0.44733843207359314, -0.4063686728477478, -0.5267953872680664, 0.31084346771240234, 0.33041486144065857, -0.43880003690719604, 0.013804556801915169, 0.08488628268241882, 0.4596678912639618, 0.1108592301607132, 0.1337970793247223, -0.21032856404781342, -0.17965207993984222, -0.4151054918766022, -0.22799564898014069, 0.4139207601547241, -0.22136875987052917, -0.15999285876750946, 0.3291572034358978, -0.10212921351194382, -0.5438570976257324, 0.1940801739692688, 0.04729360342025757, 0.5166690945625305, 0.14340627193450928, -0.4126587212085724, 0.4219273328781128, -0.12163244932889938, -0.1565902680158615, 0.2067682445049286, -0.00013986913836561143, -0.5243307948112488, -0.27327194809913635, -0.21009208261966705, 0.12547150254249573, -0.5815429091453552, -0.25624099373817444, -0.3644278645515442, -0.31867462396621704, -0.38174039125442505, -0.07625793665647507, -0.1283382922410965, -0.2061075121164322, 0.3773835003376007, 0.5590862035751343, 0.3130180239677429, 0.04977348819375038, -0.1548302173614502, 0.15330471098423004, -0.2816319465637207, -0.33972662687301636, -0.16066759824752808, 0.16773268580436707, -0.034925516694784164, -0.009595034644007683, 0.4847017526626587, -0.07905839383602142, -0.11095333844423294, -0.13209033012390137, 0.24255777895450592, 0.26012030243873596, -0.27021315693855286, -0.44716835021972656, -0.2553015947341919, -0.7325580716133118, -0.5648301839828491, -0.2962322533130646, 0.11333857476711273, 0.26349255442619324, -0.17568649351596832, 0.40587249398231506, -0.14010661840438843, 0.32021665573120117, -0.18134714663028717, -0.038873109966516495, 0.2930245101451874, -0.44641992449760437, -0.08566157519817352, -0.44226449728012085, -0.18501515686511993, -0.21870748698711395, -0.12805326282978058, 0.31523746252059937, -0.4456396996974945, 0.15859071910381317, 0.24281840026378632, 0.2735889256000519, -0.2289501428604126, -0.1762799471616745, -0.22406814992427826, -0.025651853531599045, -0.24723325669765472, 0.008771012537181377, 0.029677197337150574, -0.30513423681259155, 0.5114787220954895, 0.326476126909256, 0.5099614262580872, 0.3541538119316101, -0.39463484287261963, -0.19907419383525848, -0.12853936851024628, 0.1456022411584854, 0.03818872198462486, -0.29760923981666565, 0.040417224168777466, -0.37239646911621094, 0.2876034080982208, 0.05534641444683075, 0.31388598680496216, 0.5007897615432739, 0.29195916652679443, -0.11471740901470184, -0.661685049533844, -0.028802482411265373, -0.4669913351535797, -0.43650081753730774, 0.11779230087995529, -0.33388781547546387, -0.39593935012817383, -0.4143124520778656, -0.3303934335708618, 0.0514981709420681, -0.2278781235218048, -0.634550929069519, -0.47344255447387695, -0.6285109519958496, 0.5750141739845276, 0.09161877632141113, -0.7098931074142456, 0.46967440843582153, 0.15991584956645966, 0.32180097699165344, 0.5856925249099731, -0.674748420715332, -0.2546691298484802, 0.12366560846567154, -0.3463553190231323, -0.6585115790367126, -0.4441341161727905, 0.3121146559715271, -0.37495267391204834, -0.5041316151618958, -0.6002187132835388, 0.23669514060020447, 0.2819530963897705, 0.25486186146736145, 0.056244030594825745, -0.40234464406967163, -0.4032318592071533, -0.10852780938148499, 0.053913556039333344, 0.07178924977779388, -0.002955454168841243, 0.1309392750263214, -0.21881023049354553, -0.3669877350330353, 0.2500093877315521, -0.11496274918317795, -0.6496096849441528, 0.11294523626565933, -0.0925641879439354, -0.7984923720359802, 0.10508125275373459, -0.46570006012916565, 0.2844066619873047, 0.5000672340393066, 0.3639083206653595, -0.43136927485466003, -0.19476744532585144, 0.25696417689323425, -0.24463152885437012, -0.005778254941105843, 0.2621542513370514, -0.020800625905394554, -0.23439286649227142, -0.05994151905179024, -0.009712688624858856, -0.0006561281043104827, -0.1851813644170761, 0.17530785501003265, 0.29377782344818115, -0.3261767327785492, -0.34105291962623596, -0.04713744297623634, 0.5161620378494263, 0.352634072303772, -0.7479242086410522, -0.3374118506908417, 0.2788240909576416, -0.2668163776397705, -0.1494596302509308, 0.7524951100349426, -0.05555115267634392, 0.2908209562301636, 0.008487962186336517, -0.7007465362548828, 0.03357357904314995, -0.0380462147295475, 0.2108035385608673, -0.2332942634820938, -0.35122573375701904, -0.03449341654777527, 0.09110237658023834, 0.24477188289165497, 0.17428947985172272, -0.5210358500480652, -0.2788267135620117, 0.2613171935081482, -0.5455586910247803, -0.274203360080719, 0.467420369386673, 0.6531209945678711, 0.41523927450180054, -0.27330613136291504, -0.4823983907699585, 0.108118936419487, 0.03727659583091736, 0.32877060770988464, 0.42188629508018494, 0.28311389684677124, 0.43201884627342224, -0.22243241965770721, -0.32446151971817017, 0.7590470314025879, -0.22946317493915558, 0.0389668270945549, 0.0326572023332119, -0.5322112441062927, -0.4001246392726898, 0.1988944709300995, 0.06259215623140335, -0.48923492431640625, -0.4266953766345978, 0.37520694732666016, -0.4512430429458618, 0.13904482126235962, 0.19500048458576202, 0.09215790033340454, -0.023554779589176178, -0.45701879262924194, 0.5432596802711487, 0.12952762842178345, 0.10331270843744278, -0.05765245854854584, -0.22205635905265808, 0.0487278513610363, -0.3759104609489441, -0.46319466829299927, -0.45078518986701965, -0.11470214277505875, -0.18742938339710236, -0.09850792586803436, 0.2187771052122116, 0.02343806065618992, 0.1289459615945816, -0.15552762150764465, 0.5223473310470581, 0.06306220591068268, 0.32827362418174744, -0.35201865434646606, 0.3898218274116516, -0.6303347945213318, -0.3188444674015045, -0.09420917928218842, 0.034166350960731506, -0.010977288708090782, 0.1415756493806839, -0.2903945744037628, -0.6035788655281067, 0.060170888900756836, -0.2607228755950928, -0.3516562283039093, -0.06978326290845871, 0.2712976634502411, 0.35766860842704773, -0.28554606437683105, 0.7484444379806519, 0.044292766600847244, -0.07597749680280685, 0.28923583030700684, -0.02841249108314514, -0.8685701489448547, -0.3974919617176056, 0.2304840087890625, 0.011791219003498554, -0.4922376275062561, 0.23591434955596924, 0.026090705767273903, -0.002616322599351406, -0.07134179770946503, 0.3225077688694, -0.5359587669372559, -0.8559480905532837, -0.05977381765842438, -0.3678271770477295, 0.2889215350151062, -0.5393825173377991, -0.66754150390625, 0.4343961477279663, 0.06263938546180725, -0.38003650307655334, 0.3820149004459381, 0.4589507579803467, -0.04946359246969223, 0.03947588428854942, -0.21861529350280762, -0.13601236045360565, -0.061625171452760696, 0.2717205584049225, 0.2432612031698227, -0.05004638805985451, 0.13061970472335815, -0.2984147071838379, 0.032252974808216095, 0.07929306477308273, -0.357124924659729, 0.2078721523284912, -0.33077678084373474, 0.21313346922397614, -0.35955512523651123, -0.25726985931396484, -0.07071445882320404, -0.1757812649011612, -0.1191975548863411, 0.45748648047447205, 0.8214761018753052, -0.027193931862711906, -0.34916234016418457, -0.5537918210029602, 0.6189959645271301, 0.2121308147907257, 0.18583424389362335, -0.12481557577848434, -0.36677348613739014, -0.06003222614526749, -0.2516196668148041, 0.20647917687892914, 0.26082584261894226, 0.29480743408203125, -0.15016739070415497, 0.6134918332099915, -0.3412506878376007, 0.12314341217279434, 0.09058450162410736, -0.4069466292858124, -0.5389466285705566, 0.3928268849849701, -0.11053646355867386, 0.06587843596935272, 0.161513552069664, 0.4337337017059326, -0.16461636126041412, -0.4227451682090759, 0.2976142168045044, 0.01241898350417614, -0.11952953040599823, 0.6853110790252686, -0.0879196971654892, 0.28519773483276367, -0.6173521876335144, -0.5267914533615112, -0.4535275399684906, -0.09580998867750168, 1.0260264873504639, 0.29123204946517944, -0.04695497825741768, 0.39222386479377747, 0.3049006760120392, -0.4997236728668213, -0.28720852732658386, -0.39820972084999084, -0.13796640932559967, 0.3383178114891052, -0.31542661786079407, 0.37012505531311035, -0.3754790723323822, 0.039931416511535645, 0.21729950606822968, 0.2861725389957428, -0.3203544318675995, -0.14083218574523926, 0.0036969881039112806, 0.19832861423492432, 0.42688825726509094, 0.22445008158683777, 0.384901225566864, 0.011766369454562664, 0.18911224603652954, 0.027156900614500046, 0.3388356566429138, 0.27028727531433105, 0.15211336314678192, 0.802967369556427, 0.29868876934051514, 0.5968653559684753, -0.7247579097747803, 0.42228221893310547, 0.583720326423645, 0.257582426071167, 0.030658092349767685, -0.10853424668312073, 0.11289205402135849, -0.31518620252609253, -0.03988295793533325, -0.23109394311904907, 0.20839790999889374, 0.6080853939056396, 0.2081604152917862, -0.3523123264312744, -0.4802442789077759, 0.4876818060874939, -0.0150807686150074, 0.5607944130897522, -0.0359264612197876, 0.00862880703061819, -0.2014777511358261, -0.19952723383903503, -0.24080054461956024, -0.32403260469436646, -0.1330043226480484, 0.06245279312133789, 0.5762864947319031, -0.16695524752140045, -0.07198739051818848, 0.36689743399620056, -0.3260071575641632, -0.20584622025489807, -0.09379341453313828, 0.025968920439481735, 0.13099847733974457, 0.2637048661708832, 0.36281171441078186, 0.026424402371048927, -0.4598619341850281, 0.06027528643608093, -0.2909270226955414, 0.7528862953186035, -0.3848347067832947, -0.4582083821296692, -0.6937134861946106, -0.1195773109793663, 0.3064485192298889, -0.15682967007160187, -0.07686002552509308, -0.0857989564538002, 0.03110635280609131, 0.12713290750980377, -0.43534770607948303, 0.15405899286270142, 0.6089006662368774, 0.3917180299758911, 0.4358677566051483, -0.1399657130241394, -0.32895612716674805, 0.20030322670936584, -0.2209763079881668, 0.37011972069740295, -0.27492961287498474, 0.0930972471833229, 0.28999000787734985, -0.3146117627620697, 0.2706342339515686, -0.03425797447562218, -0.4422987997531891, -0.06797824054956436, -0.3307980000972748, 0.5501251220703125, 0.3035935163497925, -0.2959223985671997, -0.41994932293891907, 0.7052117586135864, 0.0973832830786705, 0.7160638570785522, 0.35554730892181396, -0.40608319640159607, -0.022334540262818336, -0.02354796975851059, 0.035982854664325714, -0.7549187541007996, -0.29977840185165405, 0.5819567441940308, 0.6363003849983215, 0.34599992632865906, 0.6300758719444275, -0.38880211114883423, 0.12488030642271042, -0.17657256126403809, -0.026321224868297577, -0.24209752678871155, -0.3280669152736664, 0.2915665805339813, -0.07528089731931686, -0.05880603566765785, 0.7311998009681702, -0.2630741596221924, 0.024906206876039505, -0.5865610837936401, 0.8095344305038452, 0.23665660619735718, -0.10897714644670486, -0.3091476559638977, -0.48455023765563965, 0.06169404834508896, -0.42610013484954834, 0.6263458132743835, 0.8636704683303833, -0.11962427198886871, 0.2906038761138916, -0.3220498859882355, -0.42387139797210693, -0.20317316055297852, 0.11567646265029907, 0.10977111756801605, 0.049562472850084305, -0.5160886645317078, 0.016580885276198387, 0.045594505965709686, -0.04573897644877434, 0.4802432060241699, 0.15923647582530975, 0.219479039311409, 0.30248939990997314, -0.194623202085495, -0.38447368144989014, -0.4891168177127838, -0.2835994064807892, -0.16526108980178833, -0.31314361095428467, -0.17909307777881622, -0.14744430780410767, -0.49780911207199097, -0.34036076068878174, 0.056934159249067307, 0.39171695709228516, 0.4110582172870636, -0.8685010075569153, 0.11703664809465408, -0.15545424818992615, 0.2356443554162979, -0.2925076484680176, 0.14322900772094727, 0.07100025564432144, -0.17635934054851532, 0.22792503237724304, 0.15802301466464996, -0.05624070763587952, -0.6483955979347229, 0.6712113618850708, -0.36003822088241577, -0.028154753148555756, 0.4710635542869568, -0.22243081033229828, -0.008121652528643608, -0.39795875549316406, 0.03550998121500015, -0.16173751652240753, 0.3677228093147278, -0.19813956320285797, 1.1578046083450317, 0.08835194259881973, 0.0795539990067482, -0.6872308850288391, 0.7383828163146973, -0.23090097308158875, -0.11225215345621109, -0.6563399434089661, -0.0454850010573864, -0.15968608856201172, -0.17351533472537994, -0.14845417439937592, -0.046326182782649994, 0.5060562491416931, 0.22410894930362701, -0.4692051410675049, 0.24424134194850922, -0.40434736013412476, -0.1656709462404251, 0.025979576632380486, -0.4312571585178375, -0.5488455891609192, 0.46900615096092224, 0.019417613744735718, -0.28488776087760925, -0.36161133646965027, 0.5243041515350342, 0.4495566189289093, 0.6900933980941772, -0.4524751603603363, -0.36040017008781433, -0.08380337059497833, -0.39160865545272827, -0.006672577932476997, -0.06397786736488342, -0.17566034197807312, -0.4022931158542633, 0.8091210722923279, -0.6406975984573364, -0.2651127278804779, -0.6798343062400818, -0.19582006335258484, -0.28043365478515625, -0.14808343350887299, -0.3962749242782593, -0.40123435854911804, -0.4280228614807129, -0.890903651714325, 0.38305383920669556, -0.12208918482065201, -0.41600608825683594, -0.12401776760816574, 0.5556029081344604, 0.34415560960769653, 1.017104983329773, 0.6191360354423523, -0.4055587649345398, -0.5632281303405762, -0.04498250409960747, 0.08880195021629333, 0.293944776058197, -0.22251178324222565, -0.26547688245773315, -0.6742032766342163, -0.13940735161304474, -0.2963290810585022, -0.41121527552604675, -0.24074867367744446, -0.328317254781723, -0.7855703234672546, 1.023601770401001, -0.05140925943851471, -0.7646161317825317, 0.0030269348062574863, 0.0576125793159008, -0.1632368117570877, 0.6613962650299072, 0.20757326483726501, -0.168193519115448, 0.4158394932746887, -0.5111773014068604, -0.2303539514541626, 0.10698561370372772, 0.07794501632452011, 0.08339236676692963, -0.061353135854005814, 0.011445870622992516, 0.00401275372132659, -0.03635545074939728, -0.23040010035037994, 0.9205324649810791, -0.30040860176086426, 0.15405289828777313, 0.4080755114555359, 0.4511050879955292, 0.3250456154346466, 0.4357226490974426, 0.08931077271699905, -0.5060129165649414, -0.13039597868919373, 0.3179325759410858, 0.46879541873931885, -0.22015154361724854, 0.12872318923473358, -0.20704017579555511, 0.19556160271167755, -0.15166787803173065, -0.13580620288848877, -0.7088692784309387, -0.3363257944583893, -0.0710228681564331, -0.22299714386463165, 0.39306068420410156, -0.2143949270248413, -0.03795139864087105, -0.2629503905773163, -0.3262659013271332, 0.3674289584159851, -0.4104383587837219, -0.17723701894283295, -0.49592262506484985, -0.8455567359924316, -0.12491414695978165, 0.20692145824432373, 0.5558075904846191, -0.3617824614048004, -0.5563545823097229, -0.003363284282386303, -0.45564764738082886, -0.10698964446783066, 0.7349863052368164, 0.2062460035085678, -0.2067200392484665, -0.40042757987976074, -0.3464195728302002, -0.3270644247531891, 0.039882730692625046, 0.03123239241540432, 0.05946740135550499, 0.20269916951656342, 0.3617432713508606, -0.14247728884220123], \"yaxis\": \"y\"}],\n",
              "                        {\"legend\": {\"itemsizing\": \"constant\", \"tracegroupgap\": 0}, \"margin\": {\"t\": 60}, \"template\": {\"data\": {\"bar\": [{\"error_x\": {\"color\": \"#2a3f5f\"}, \"error_y\": {\"color\": \"#2a3f5f\"}, \"marker\": {\"line\": {\"color\": \"white\", \"width\": 0.5}}, \"type\": \"bar\"}], \"barpolar\": [{\"marker\": {\"line\": {\"color\": \"white\", \"width\": 0.5}}, \"type\": \"barpolar\"}], \"carpet\": [{\"aaxis\": {\"endlinecolor\": \"#2a3f5f\", \"gridcolor\": \"#C8D4E3\", \"linecolor\": \"#C8D4E3\", \"minorgridcolor\": \"#C8D4E3\", \"startlinecolor\": \"#2a3f5f\"}, \"baxis\": {\"endlinecolor\": \"#2a3f5f\", \"gridcolor\": \"#C8D4E3\", \"linecolor\": \"#C8D4E3\", \"minorgridcolor\": \"#C8D4E3\", \"startlinecolor\": \"#2a3f5f\"}, \"type\": \"carpet\"}], \"choropleth\": [{\"colorbar\": {\"outlinewidth\": 0, \"ticks\": \"\"}, \"type\": \"choropleth\"}], \"contour\": [{\"colorbar\": {\"outlinewidth\": 0, \"ticks\": \"\"}, \"colorscale\": [[0.0, \"#0d0887\"], [0.1111111111111111, \"#46039f\"], [0.2222222222222222, \"#7201a8\"], [0.3333333333333333, \"#9c179e\"], [0.4444444444444444, \"#bd3786\"], [0.5555555555555556, \"#d8576b\"], [0.6666666666666666, \"#ed7953\"], [0.7777777777777778, \"#fb9f3a\"], [0.8888888888888888, \"#fdca26\"], [1.0, \"#f0f921\"]], \"type\": \"contour\"}], \"contourcarpet\": [{\"colorbar\": {\"outlinewidth\": 0, \"ticks\": \"\"}, \"type\": \"contourcarpet\"}], \"heatmap\": [{\"colorbar\": {\"outlinewidth\": 0, \"ticks\": \"\"}, \"colorscale\": [[0.0, \"#0d0887\"], [0.1111111111111111, \"#46039f\"], [0.2222222222222222, \"#7201a8\"], [0.3333333333333333, \"#9c179e\"], [0.4444444444444444, \"#bd3786\"], [0.5555555555555556, \"#d8576b\"], [0.6666666666666666, \"#ed7953\"], [0.7777777777777778, \"#fb9f3a\"], [0.8888888888888888, \"#fdca26\"], [1.0, \"#f0f921\"]], \"type\": \"heatmap\"}], \"heatmapgl\": [{\"colorbar\": {\"outlinewidth\": 0, \"ticks\": \"\"}, \"colorscale\": [[0.0, \"#0d0887\"], [0.1111111111111111, \"#46039f\"], [0.2222222222222222, \"#7201a8\"], [0.3333333333333333, \"#9c179e\"], [0.4444444444444444, \"#bd3786\"], [0.5555555555555556, \"#d8576b\"], [0.6666666666666666, \"#ed7953\"], [0.7777777777777778, \"#fb9f3a\"], [0.8888888888888888, \"#fdca26\"], [1.0, \"#f0f921\"]], \"type\": \"heatmapgl\"}], \"histogram\": [{\"marker\": {\"colorbar\": {\"outlinewidth\": 0, \"ticks\": \"\"}}, \"type\": \"histogram\"}], \"histogram2d\": [{\"colorbar\": {\"outlinewidth\": 0, \"ticks\": \"\"}, \"colorscale\": [[0.0, \"#0d0887\"], [0.1111111111111111, \"#46039f\"], [0.2222222222222222, \"#7201a8\"], [0.3333333333333333, \"#9c179e\"], [0.4444444444444444, \"#bd3786\"], [0.5555555555555556, \"#d8576b\"], [0.6666666666666666, \"#ed7953\"], [0.7777777777777778, \"#fb9f3a\"], [0.8888888888888888, \"#fdca26\"], [1.0, \"#f0f921\"]], \"type\": \"histogram2d\"}], \"histogram2dcontour\": [{\"colorbar\": {\"outlinewidth\": 0, \"ticks\": \"\"}, \"colorscale\": [[0.0, \"#0d0887\"], [0.1111111111111111, \"#46039f\"], [0.2222222222222222, \"#7201a8\"], [0.3333333333333333, \"#9c179e\"], [0.4444444444444444, \"#bd3786\"], [0.5555555555555556, \"#d8576b\"], [0.6666666666666666, \"#ed7953\"], [0.7777777777777778, \"#fb9f3a\"], [0.8888888888888888, \"#fdca26\"], [1.0, \"#f0f921\"]], \"type\": \"histogram2dcontour\"}], \"mesh3d\": [{\"colorbar\": {\"outlinewidth\": 0, \"ticks\": \"\"}, \"type\": \"mesh3d\"}], \"parcoords\": [{\"line\": {\"colorbar\": {\"outlinewidth\": 0, \"ticks\": \"\"}}, \"type\": \"parcoords\"}], \"pie\": [{\"automargin\": true, \"type\": \"pie\"}], \"scatter\": [{\"marker\": {\"colorbar\": {\"outlinewidth\": 0, \"ticks\": \"\"}}, \"type\": \"scatter\"}], \"scatter3d\": [{\"line\": {\"colorbar\": {\"outlinewidth\": 0, \"ticks\": \"\"}}, \"marker\": {\"colorbar\": {\"outlinewidth\": 0, \"ticks\": \"\"}}, \"type\": \"scatter3d\"}], \"scattercarpet\": [{\"marker\": {\"colorbar\": {\"outlinewidth\": 0, \"ticks\": \"\"}}, \"type\": \"scattercarpet\"}], \"scattergeo\": [{\"marker\": {\"colorbar\": {\"outlinewidth\": 0, \"ticks\": \"\"}}, \"type\": \"scattergeo\"}], \"scattergl\": [{\"marker\": {\"colorbar\": {\"outlinewidth\": 0, \"ticks\": \"\"}}, \"type\": \"scattergl\"}], \"scattermapbox\": [{\"marker\": {\"colorbar\": {\"outlinewidth\": 0, \"ticks\": \"\"}}, \"type\": \"scattermapbox\"}], \"scatterpolar\": [{\"marker\": {\"colorbar\": {\"outlinewidth\": 0, \"ticks\": \"\"}}, \"type\": \"scatterpolar\"}], \"scatterpolargl\": [{\"marker\": {\"colorbar\": {\"outlinewidth\": 0, \"ticks\": \"\"}}, \"type\": \"scatterpolargl\"}], \"scatterternary\": [{\"marker\": {\"colorbar\": {\"outlinewidth\": 0, \"ticks\": \"\"}}, \"type\": \"scatterternary\"}], \"surface\": [{\"colorbar\": {\"outlinewidth\": 0, \"ticks\": \"\"}, \"colorscale\": [[0.0, \"#0d0887\"], [0.1111111111111111, \"#46039f\"], [0.2222222222222222, \"#7201a8\"], [0.3333333333333333, \"#9c179e\"], [0.4444444444444444, \"#bd3786\"], [0.5555555555555556, \"#d8576b\"], [0.6666666666666666, \"#ed7953\"], [0.7777777777777778, \"#fb9f3a\"], [0.8888888888888888, \"#fdca26\"], [1.0, \"#f0f921\"]], \"type\": \"surface\"}], \"table\": [{\"cells\": {\"fill\": {\"color\": \"#EBF0F8\"}, \"line\": {\"color\": \"white\"}}, \"header\": {\"fill\": {\"color\": \"#C8D4E3\"}, \"line\": {\"color\": \"white\"}}, \"type\": \"table\"}]}, \"layout\": {\"annotationdefaults\": {\"arrowcolor\": \"#2a3f5f\", \"arrowhead\": 0, \"arrowwidth\": 1}, \"coloraxis\": {\"colorbar\": {\"outlinewidth\": 0, \"ticks\": \"\"}}, \"colorscale\": {\"diverging\": [[0, \"#8e0152\"], [0.1, \"#c51b7d\"], [0.2, \"#de77ae\"], [0.3, \"#f1b6da\"], [0.4, \"#fde0ef\"], [0.5, \"#f7f7f7\"], [0.6, \"#e6f5d0\"], [0.7, \"#b8e186\"], [0.8, \"#7fbc41\"], [0.9, \"#4d9221\"], [1, \"#276419\"]], \"sequential\": [[0.0, \"#0d0887\"], [0.1111111111111111, \"#46039f\"], [0.2222222222222222, \"#7201a8\"], [0.3333333333333333, \"#9c179e\"], [0.4444444444444444, \"#bd3786\"], [0.5555555555555556, \"#d8576b\"], [0.6666666666666666, \"#ed7953\"], [0.7777777777777778, \"#fb9f3a\"], [0.8888888888888888, \"#fdca26\"], [1.0, \"#f0f921\"]], \"sequentialminus\": [[0.0, \"#0d0887\"], [0.1111111111111111, \"#46039f\"], [0.2222222222222222, \"#7201a8\"], [0.3333333333333333, \"#9c179e\"], [0.4444444444444444, \"#bd3786\"], [0.5555555555555556, \"#d8576b\"], [0.6666666666666666, \"#ed7953\"], [0.7777777777777778, \"#fb9f3a\"], [0.8888888888888888, \"#fdca26\"], [1.0, \"#f0f921\"]]}, \"colorway\": [\"#636efa\", \"#EF553B\", \"#00cc96\", \"#ab63fa\", \"#FFA15A\", \"#19d3f3\", \"#FF6692\", \"#B6E880\", \"#FF97FF\", \"#FECB52\"], \"font\": {\"color\": \"#2a3f5f\"}, \"geo\": {\"bgcolor\": \"white\", \"lakecolor\": \"white\", \"landcolor\": \"white\", \"showlakes\": true, \"showland\": true, \"subunitcolor\": \"#C8D4E3\"}, \"hoverlabel\": {\"align\": \"left\"}, \"hovermode\": \"closest\", \"mapbox\": {\"style\": \"light\"}, \"paper_bgcolor\": \"white\", \"plot_bgcolor\": \"white\", \"polar\": {\"angularaxis\": {\"gridcolor\": \"#EBF0F8\", \"linecolor\": \"#EBF0F8\", \"ticks\": \"\"}, \"bgcolor\": \"white\", \"radialaxis\": {\"gridcolor\": \"#EBF0F8\", \"linecolor\": \"#EBF0F8\", \"ticks\": \"\"}}, \"scene\": {\"xaxis\": {\"backgroundcolor\": \"white\", \"gridcolor\": \"#DFE8F3\", \"gridwidth\": 2, \"linecolor\": \"#EBF0F8\", \"showbackground\": true, \"ticks\": \"\", \"zerolinecolor\": \"#EBF0F8\"}, \"yaxis\": {\"backgroundcolor\": \"white\", \"gridcolor\": \"#DFE8F3\", \"gridwidth\": 2, \"linecolor\": \"#EBF0F8\", \"showbackground\": true, \"ticks\": \"\", \"zerolinecolor\": \"#EBF0F8\"}, \"zaxis\": {\"backgroundcolor\": \"white\", \"gridcolor\": \"#DFE8F3\", \"gridwidth\": 2, \"linecolor\": \"#EBF0F8\", \"showbackground\": true, \"ticks\": \"\", \"zerolinecolor\": \"#EBF0F8\"}}, \"shapedefaults\": {\"line\": {\"color\": \"#2a3f5f\"}}, \"ternary\": {\"aaxis\": {\"gridcolor\": \"#DFE8F3\", \"linecolor\": \"#A2B1C6\", \"ticks\": \"\"}, \"baxis\": {\"gridcolor\": \"#DFE8F3\", \"linecolor\": \"#A2B1C6\", \"ticks\": \"\"}, \"bgcolor\": \"white\", \"caxis\": {\"gridcolor\": \"#DFE8F3\", \"linecolor\": \"#A2B1C6\", \"ticks\": \"\"}}, \"title\": {\"x\": 0.05}, \"xaxis\": {\"automargin\": true, \"gridcolor\": \"#EBF0F8\", \"linecolor\": \"#EBF0F8\", \"ticks\": \"\", \"title\": {\"standoff\": 15}, \"zerolinecolor\": \"#EBF0F8\", \"zerolinewidth\": 2}, \"yaxis\": {\"automargin\": true, \"gridcolor\": \"#EBF0F8\", \"linecolor\": \"#EBF0F8\", \"ticks\": \"\", \"title\": {\"standoff\": 15}, \"zerolinecolor\": \"#EBF0F8\", \"zerolinewidth\": 2}}}, \"xaxis\": {\"anchor\": \"y\", \"domain\": [0.0, 1.0], \"title\": {\"text\": \"x0\"}}, \"yaxis\": {\"anchor\": \"x\", \"domain\": [0.0, 1.0], \"title\": {\"text\": \"x1\"}}},\n",
              "                        {\"responsive\": true}\n",
              "                    ).then(function(){\n",
              "                            \n",
              "var gd = document.getElementById('6291688a-7798-475d-ab44-de020ad039ca');\n",
              "var x = new MutationObserver(function (mutations, observer) {{\n",
              "        var display = window.getComputedStyle(gd).display;\n",
              "        if (!display || display === 'none') {{\n",
              "            console.log([gd, 'removed!']);\n",
              "            Plotly.purge(gd);\n",
              "            observer.disconnect();\n",
              "        }}\n",
              "}});\n",
              "\n",
              "// Listen for the removal of the full notebook cells\n",
              "var notebookContainer = gd.closest('#notebook-container');\n",
              "if (notebookContainer) {{\n",
              "    x.observe(notebookContainer, {childList: true});\n",
              "}}\n",
              "\n",
              "// Listen for the clearing of the current output cell\n",
              "var outputEl = gd.closest('.output');\n",
              "if (outputEl) {{\n",
              "    x.observe(outputEl, {childList: true});\n",
              "}}\n",
              "\n",
              "                        })\n",
              "                };\n",
              "                \n",
              "            </script>\n",
              "        </div>\n",
              "</body>\n",
              "</html>"
            ]
          },
          "metadata": {
            "tags": []
          }
        }
      ]
    },
    {
      "cell_type": "code",
      "metadata": {
        "id": "q8b88b2OoXSc"
      },
      "source": [
        ""
      ],
      "id": "q8b88b2OoXSc",
      "execution_count": null,
      "outputs": []
    }
  ]
}