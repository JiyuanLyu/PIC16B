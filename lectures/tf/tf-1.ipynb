{
 "cells": [
  {
   "cell_type": "markdown",
   "id": "quick-register",
   "metadata": {},
   "source": [
    "# Advanced Machine Learning with TensorFlow\n",
    "\n",
    "In this lecture, we'll begin a relatively long arc in which we will learn to use the TensorFlow package for advanced machine learning, with an emphasis on neural networks.  \n",
    "\n",
    "## A Few Notes on Google and Ethics\n",
    "\n",
    "[TensorFlow](https://www.tensorflow.org/) is a Google product. By teaching you TensorFlow, I take a small step toward extending the influence of Google in the field of machine learning and in the STEM community more broadly. By using TensorFlow in and out of this class, you will do the same. It's important that we both go into this with open eyes about some of the ethical questions surrounding Google's recent work in machine learning. I'd like to stress that I am not an expert on ethics in artificial intelligence. There are likely MANY other important ethical concerns about Google's work  (and the work of other giants in tech and artificial intelligence, like Facebook and Amazon) which are not on my radar. \n",
    "\n",
    "### 1. Language Models and Dr. Timnit Gebru\n",
    "\n",
    "In December 2020, Google [fired](https://www.washingtonpost.com/technology/2020/12/03/timnit-gebru-google-fired/) prominent AI ethicist Dr. Timnit Gebru, an Ethiopian-American woman, over a sequence of events surrounding [one of her papers](https://faculty.washington.edu/ebender/papers/Stochastic_Parrots.pdf). In this paper, Gebru and coauthors raise ethical concerns about language models---like the ones that Google uses for predictive text applications. These concerns include:\n",
    "\n",
    "- The role of these models in homogenizing online culture. \n",
    "- The environmental cost of training these (in some cases, comparable to the carbon footprint of a transatlantic flight). \n",
    "- The frequent instances of language models learning to reproduce biased or hateful text. \n",
    "\n",
    "Dr. Gebru and her collaborators ultimately recommend a more thoughtful, \"small\", and ethically-informed approach to constructing language models. Naturally, this recommendation would require extensive reorganization of one of Google's major research areas. Possibly because they felt threatened by this and related recommendations, Google managers invented an additional, internal review layer for this paper, even after it had already been accepted at a prominent computer science conference. Dr. Gebru's protest of this made-up red tape was one of the events that led to her firing. \n",
    "\n",
    "Dr. Gebru's colleague Margaret Mitchell was [also recently fired](https://www.zdnet.com/article/google-fires-top-ethical-ai-expert-margaret-mitchell/) in the fall-out from this incident. \n",
    "\n",
    "### 2. Google Translate Is Sexist\n",
    "\n",
    "It is well-documented that machine learning algorithms trained on natural text can inherit biases present in those texts. One of the most direct ways in which we can observe such bias is in Google Translate. Some languages, such as Hungarian, do not possess gendered pronouns. When Google Translate attempts to render these pronouns into a gendered language like English, assumptions are made, as pointed out in [this Tweet by Dora Vargha](https://twitter.com/DoraVargha/status/1373211762108076034?ref_src=twsrc%5Etfw%7Ctwcamp%5Etweetembed%7Ctwterm%5E1373211762108076034%7Ctwgr%5E%7Ctwcon%5Es1_&ref_url=https%3A%2F%2Fd-7356743851859968838.ampproject.net%2F2103240330002%2Fframe.html).  Let's demonstrate with the following English sentences. \n",
    "\n",
    "> **he** cooks.\n",
    "> **she** is a political leader.\n",
    "> **she** is an engineer.\n",
    "> **he** is a cleaner.\n",
    "> **he** is beautiful. \n",
    "> **she** is strong. \n",
    "\n",
    "Translate these into Hungarian and back via Google Translate, and here's what you'll get: \n",
    "\n",
    "> **she** cooks.\n",
    "> **he** is a political leader.\n",
    "> **he** is an engineer.\n",
    "> **she** is cleaning.\n",
    "> **she** is beautiful.\n",
    "> **he** is strong.\n",
    "\n",
    "Considering that English *has* a gender neutral pronoun (*they*), this would be an easy item to fix, which Google has thus far declined to do. \n",
    "\n",
    "### 3. Historical Racial and Gender Biases\n",
    "\n",
    "Google Search has a striking history of bias against Black people, especially Black women. This bias was made widely public by UCLA professor Safiya Noble in her book *Algorithms of Oppression*. In one of Dr. Nobel's most famous examples, top results for the phrase \"black girls\" in 2011 consisted of links to porn sites, which did not hold true of searches for \"white girls\" or \"black men.\" As late as 2016, an image search for \"gorillas\" would surface pictures of Black individuals. You can find a brief synopsis of some of Dr. Noble's findings [here](https://time.com/5209144/google-search-engine-algorithm-bias-racism/) (content warning: highly sexually explicit language).  Google has since taken steps to improve these specific examples. "
   ]
  },
  {
   "cell_type": "markdown",
   "id": "honey-conditions",
   "metadata": {},
   "source": [
    "Keeping these items in mind, let's now begin our study of machine learning via Tensorflow. \n",
    "\n",
    "## Tensors\n",
    "\n",
    "So, uh, what's a tensor? As you may remember from Riemannian geometry, a prerequisite for this class, \n",
    "\n",
    "> An $s$-contravariant and $t$-covariant *tensor* $\\sigma$ on a vector space $V$ is a multilinear map $\\sigma: \\left(V^*\\right)^s \\times V^t \\rightarrow \\mathbb{R}$, where $V^*$ denotes the space of linear functions on $V$...  \n",
    "\n",
    "<br> <br>\n",
    "\n",
    "Just kidding! A tensor is pretty much just a Numpy array. \n",
    "\n",
    "<figure class=\"image\" style=\"width:40%\">\n",
    "  <img src=\"https://raw.githubusercontent.com/PhilChodrow/PIC16B/master/_images/tensor.jpeg\" alt=\"\">\n",
    "  <figcaption><i></i></figcaption>\n",
    "</figure>\n",
    "\n",
    "Here's another one in case that one didn't sink in: \n",
    "\n",
    "<figure class=\"image\" style=\"width:40%\">\n",
    "  <img src=\"https://raw.githubusercontent.com/PhilChodrow/PIC16B/master/_images/tensor-2.jpeg\" alt=\"\">\n",
    "  <figcaption><i></i></figcaption>\n",
    "</figure>\n",
    "\n",
    "Most of the time, we'll work with 2-dimensional tensors (matrices), with the occasional 3-dimensional tensor thrown in for spice. "
   ]
  },
  {
   "cell_type": "markdown",
   "id": "appointed-fifth",
   "metadata": {},
   "source": [
    "## Structure of Neural Networks\n",
    "\n",
    "Before we start working with TensorFlow, I'd like to build up our understanding of what a neural network actually does to data. We'll see that neural networks are built up of very simple mathematical transformations, which are then stacked on top of each other to produce complex models. \n",
    "\n",
    "Suppose I have a data point $x$, with 5 features (columns): "
   ]
  },
  {
   "cell_type": "code",
   "execution_count": 1,
   "id": "organized-traveler",
   "metadata": {},
   "outputs": [
    {
     "data": {
      "text/plain": [
       "array([0.64626687, 0.09278027, 0.47297848, 0.12108714, 0.95321614])"
      ]
     },
     "execution_count": 1,
     "metadata": {},
     "output_type": "execute_result"
    }
   ],
   "source": [
    "import numpy as np\n",
    "x = np.random.rand(5)\n",
    "x"
   ]
  },
  {
   "cell_type": "markdown",
   "id": "mathematical-replacement",
   "metadata": {},
   "source": [
    "A single *unit* of a neural network has two stages: \n",
    "\n",
    "1. The unit takes the entries of $x$, multiplies them by some *weights*, and adds them together, forming the linear combination $y = \\sum_i w_i x_i$. This number $y$ is often called the *activation*. \n",
    "2. Second, the unit hits $y$ with a non-linear function, producing a new output $z$: $z = g(y)$. \n",
    "\n",
    "A common nonlinear function is the sigmoid (same function as used in logistic regression): "
   ]
  },
  {
   "cell_type": "code",
   "execution_count": 2,
   "id": "average-birth",
   "metadata": {},
   "outputs": [
    {
     "data": {
      "text/plain": [
       "[<matplotlib.lines.Line2D at 0x7f8f47e3d6d8>]"
      ]
     },
     "execution_count": 2,
     "metadata": {},
     "output_type": "execute_result"
    }
   ],
   "source": [
    "from matplotlib import pyplot as plt\n",
    "sigmoid = lambda x: 1 / (1 + np.exp(-x))\n",
    "X = np.linspace(-10, 10)\n",
    "plt.plot(X, sigmoid(X))"
   ]
  },
  {
   "cell_type": "markdown",
   "id": "banned-excuse",
   "metadata": {},
   "source": [
    "So, given a weight vector $w$, we can easily compute the layer output  for $x$, remembering that `w @ x` will calculate the inner product for us. "
   ]
  },
  {
   "cell_type": "code",
   "execution_count": 3,
   "id": "published-factor",
   "metadata": {},
   "outputs": [
    {
     "data": {
      "text/plain": [
       "0.7671796868007574"
      ]
     },
     "execution_count": 3,
     "metadata": {},
     "output_type": "execute_result"
    }
   ],
   "source": [
    "w = np.random.rand(5)\n",
    "z = sigmoid(w @ x)\n",
    "z"
   ]
  },
  {
   "cell_type": "markdown",
   "id": "sustainable-opportunity",
   "metadata": {},
   "source": [
    "In practice, we perform this computation using many data points and many units simultaneously. In this case, we can represent the data points as an $m \\times n$ matrix $\\mathbf{X}$, where $m$ is the number of data points and $n$ is the number of columns. We can represent the matrix of weights as an $p \\times n$ matrix $\\mathbf{W}$, where $p$ is the number of units in the layer. We can then compute all the activations simultaneously by computing the matrix product $\\mathbf{Y} = \\mathbf{W} \\mathbf{X}^T$. \n",
    "\n",
    "Here's a nice picture from the [website of Jeremy Jordan](https://www.jeremyjordan.me/intro-to-neural-networks/) to visualize what's going on. In this diagram, `a` is the activation (what I've been calling $y$). \n",
    "\n",
    "![](https://www.jeremyjordan.me/content/images/2018/01/Screen-Shot-2017-11-07-at-12.53.07-PM.png)\n",
    "\n",
    "We can then hit $\\mathbf{Y}$ with the sigmoid function (entrywise) to form the output $\\mathbf{Z}$. "
   ]
  },
  {
   "cell_type": "code",
   "execution_count": 4,
   "id": "offensive-number",
   "metadata": {},
   "outputs": [],
   "source": [
    "m = 100\n",
    "n = 5\n",
    "p = 10\n",
    "X = np.random.rand(m, n)\n",
    "W = 1/p * np.random.rand(p, n)\n",
    "\n",
    "new_X = sigmoid(W @ X.T)"
   ]
  },
  {
   "cell_type": "markdown",
   "id": "august-recruitment",
   "metadata": {},
   "source": [
    "Here's the thing: we now have a *new* matrix, that I'll call $\\mathbf{X}_1$, of size $p \\times m$. We can now plug that into a NEW layer, getting a new matrix $\\mathbf{X}_2$. We can plug THAT into a new layer, etc. By composing all these operations, we get a single, multistage function. **This is a deep neural network.** At the end of the pipeline, we should make sure we have an output that corresponds to the task we want to perform. For example, if we want to do binary classification (classification between two categories), we our weights to look something like this: "
   ]
  },
  {
   "cell_type": "code",
   "execution_count": 5,
   "id": "accepting-college",
   "metadata": {},
   "outputs": [
    {
     "data": {
      "text/plain": [
       "(2, 10)"
      ]
     },
     "execution_count": 5,
     "metadata": {},
     "output_type": "execute_result"
    }
   ],
   "source": [
    "W = 1/2 * np.random.rand(2, m)\n",
    "output = sigmoid(W @ new_X.T)\n",
    "output.shape"
   ]
  },
  {
   "cell_type": "markdown",
   "id": "alien-italy",
   "metadata": {},
   "source": [
    "The dimension of size 2 holds numbers describing the model's confidence in each of the two categories. At the moment, of course, we haven't done anything like fitting our model to data, so these predictions aren't meaningful (yet).\n",
    "\n",
    "Note that, while we don't have any control over the data $\\mathbf{X}$, we are free to choose the weights $\\mathbf{W}$ however we please. Traiing a neural network corresponds to the task of choosing these weights in such a way as to appropriately match the data. \n",
    "\n",
    "In summary, at the core of neural networks are the operations of (a) matrix multiplication and (b) simple, nonlinear functions. These are stacked on top of each other (composed) to produce sophisticated models. Naturally, we are not going to do all our bookkeeping of weights and dimensions and whatnot by hand. Managing this bookkeeping is precisely what TensorFlow is for. "
   ]
  },
  {
   "cell_type": "markdown",
   "id": "hazardous-continuity",
   "metadata": {},
   "source": [
    "## TensorFlow Basics"
   ]
  },
  {
   "cell_type": "code",
   "execution_count": 6,
   "id": "indie-shuttle",
   "metadata": {},
   "outputs": [],
   "source": [
    "import tensorflow as tf\n",
    "import numpy as np"
   ]
  },
  {
   "cell_type": "markdown",
   "id": "polar-soldier",
   "metadata": {},
   "source": [
    "We can create a simple, \"constant\" tensor using `tf.constant`: "
   ]
  },
  {
   "cell_type": "code",
   "execution_count": 7,
   "id": "cognitive-praise",
   "metadata": {},
   "outputs": [
    {
     "data": {
      "text/plain": [
       "<tf.Tensor: shape=(3,), dtype=int32, numpy=array([1, 2, 3], dtype=int32)>"
      ]
     },
     "execution_count": 7,
     "metadata": {},
     "output_type": "execute_result"
    }
   ],
   "source": [
    "s = tf.constant([1, 2, 3])\n",
    "s"
   ]
  },
  {
   "cell_type": "markdown",
   "id": "quick-comment",
   "metadata": {},
   "source": [
    "As you can see from the output, this object has a `shape`, a `dtype`, and even an internal `numpy` representation -- it really is a lot like a `numpy` array! Like `numpy` arrays, we can do various mathematical operations: "
   ]
  },
  {
   "cell_type": "code",
   "execution_count": 8,
   "id": "palestinian-complement",
   "metadata": {},
   "outputs": [
    {
     "data": {
      "text/plain": [
       "<tf.Tensor: shape=(3,), dtype=int32, numpy=array([2, 4, 6], dtype=int32)>"
      ]
     },
     "execution_count": 8,
     "metadata": {},
     "output_type": "execute_result"
    }
   ],
   "source": [
    "2*s"
   ]
  },
  {
   "cell_type": "code",
   "execution_count": 9,
   "id": "sexual-command",
   "metadata": {},
   "outputs": [
    {
     "data": {
      "text/plain": [
       "<tf.Tensor: shape=(3,), dtype=int32, numpy=array([3, 4, 3], dtype=int32)>"
      ]
     },
     "execution_count": 9,
     "metadata": {},
     "output_type": "execute_result"
    }
   ],
   "source": [
    "t = tf.constant([3, 2, 1])\n",
    "s*t"
   ]
  },
  {
   "cell_type": "markdown",
   "id": "finnish-israel",
   "metadata": {},
   "source": [
    "There *is* a reason that we use `tf.Tensor` rather than Numpy array objects. One of the primary reasons is that the tensor data type is set up to support *automatic differentiation*, which is important when it comes time to train our models. That said, it's sometimes useful to convert back to literal Numpy arrays, which can usually be done like this: "
   ]
  },
  {
   "cell_type": "code",
   "execution_count": 10,
   "id": "changed-asset",
   "metadata": {},
   "outputs": [
    {
     "data": {
      "text/plain": [
       "array([1, 2, 3], dtype=int32)"
      ]
     },
     "execution_count": 10,
     "metadata": {},
     "output_type": "execute_result"
    }
   ],
   "source": [
    "s.numpy()"
   ]
  },
  {
   "cell_type": "markdown",
   "id": "minute-retirement",
   "metadata": {},
   "source": [
    "Really, they could have called the whole thing ArrayFlow or RectanglesOfNumbersFlow, but those don't really say \"I am a very smart person\" in quite the same way. \n",
    "\n",
    "### Dtypes\n",
    "\n",
    "Because computation on 64-bit floating point numbers can be quite expensive at scale, most operations in TensorFlow prefer that you supply floating point numbers with data type `float32`. For example: "
   ]
  },
  {
   "cell_type": "code",
   "execution_count": 11,
   "id": "regulation-outside",
   "metadata": {},
   "outputs": [
    {
     "data": {
      "text/plain": [
       "<tf.Tensor: shape=(3,), dtype=float32, numpy=array([1.2, 3.3, 5.6], dtype=float32)>"
      ]
     },
     "execution_count": 11,
     "metadata": {},
     "output_type": "execute_result"
    }
   ],
   "source": [
    "tf.constant([1.2, 3.3, 5.6], dtype = np.float32)"
   ]
  },
  {
   "cell_type": "markdown",
   "id": "happy-processing",
   "metadata": {},
   "source": [
    "Supplying `float64` data types will usually lead to annoying warning messages, and possibly slower performance. \n",
    "\n",
    "While it's good to know what tensors are and how they work, we usually won't need to construct them explicitly. Rather, we'll be able to feed Numpy arrays to our models, which will handle all the tensor operations internally. "
   ]
  },
  {
   "cell_type": "markdown",
   "id": "apart-valuation",
   "metadata": {},
   "source": [
    "## Layers\n",
    "\n",
    "*Layers* are the building blocks of models. You can think of a layer as a function that takes in one tensor and spits out another tensor, possibly of a different shape. Many layers have requirements on the kinds of tensors they admit; for example, they might only work on 2d tensors.\n",
    "\n",
    "In this course, we'll always work with layers via the high-level Keras API, which allows us to easily create and combine layers. "
   ]
  },
  {
   "cell_type": "code",
   "execution_count": 12,
   "id": "absolute-mexico",
   "metadata": {},
   "outputs": [],
   "source": [
    "from tensorflow.keras import layers"
   ]
  },
  {
   "cell_type": "code",
   "execution_count": 13,
   "id": "vietnamese-maine",
   "metadata": {},
   "outputs": [
    {
     "name": "stdout",
     "output_type": "stream",
     "text": [
      "[[0.73569325 0.55110477 0.15321822]\n",
      " [0.94168967 0.96401703 0.39174181]\n",
      " [0.28847229 0.8178969  0.10954655]\n",
      " [0.65349734 0.79180116 0.57200098]\n",
      " [0.18212438 0.66264465 0.20665502]\n",
      " [0.30235537 0.75519248 0.98289549]\n",
      " [0.70074585 0.57172484 0.96054548]\n",
      " [0.86338376 0.05727918 0.06618666]\n",
      " [0.18942686 0.83077581 0.66792747]\n",
      " [0.33501277 0.54623226 0.28323225]]\n"
     ]
    }
   ],
   "source": [
    "data = np.random.rand(10, 3)\n",
    "print(data)"
   ]
  },
  {
   "cell_type": "code",
   "execution_count": 14,
   "id": "organic-burlington",
   "metadata": {},
   "outputs": [],
   "source": [
    "data = tf.constant(data, dtype=np.float32)"
   ]
  },
  {
   "cell_type": "markdown",
   "id": "norman-intranet",
   "metadata": {},
   "source": [
    "Now we can create a layer. Note that we first have to *make* the layer before we *call* the layer on any data. The `Dense` layer is the simplest and among the most generally useful kinds of layers, and corresponds fairly directly to the computations that we described \"by hand\" above. "
   ]
  },
  {
   "cell_type": "code",
   "execution_count": 15,
   "id": "objective-shannon",
   "metadata": {},
   "outputs": [
    {
     "data": {
      "text/plain": [
       "<tf.Tensor: shape=(10, 2), dtype=float32, numpy=\n",
       "array([[-0.03309804,  0.21431787],\n",
       "       [-0.05550133,  0.18894245],\n",
       "       [-0.19293822, -0.2393011 ],\n",
       "       [ 0.03154673,  0.1542253 ],\n",
       "       [-0.11935677, -0.19113192],\n",
       "       [ 0.15098198,  0.07322747],\n",
       "       [ 0.25297236,  0.42801753],\n",
       "       [ 0.11343853,  0.54821396],\n",
       "       [-0.00398491, -0.13929322],\n",
       "       [-0.03371661, -0.00294223]], dtype=float32)>"
      ]
     },
     "execution_count": 15,
     "metadata": {},
     "output_type": "execute_result"
    }
   ],
   "source": [
    "first_layer = layers.Dense(units = 2)\n",
    "first_layer(data)"
   ]
  },
  {
   "cell_type": "markdown",
   "id": "assumed-nation",
   "metadata": {},
   "source": [
    "The `units` argument controls the shape of the output. The `Dense` layer interprets an `m` $\\times$ `n` tensor as a set of data points with `m` rows and `n` columns (or features). It outputs a new tensor with `m` rows and `units` columns. So, you can think of `units` as controlling the number of *hidden features* learned by this layer. \n",
    "\n",
    "What's the deal with the actual outputs? Well, as we saw above, this layer has parameters (*weights*) which control how these numbers are calculated. Because we haven't done any model training, these weights are pretty much random, so the output is random as well. We'll look at training the model in the next section. "
   ]
  },
  {
   "cell_type": "markdown",
   "id": "human-patent",
   "metadata": {},
   "source": [
    "## Models\n",
    "\n",
    "A model consists of: \n",
    "\n",
    "- A sequence of layers. The final layer is an *output* layer, and plays a major role in determining what \"kind\" of model we have (e.g. regression vs. classification). \n",
    "- Specs for how the model should be fit to data. The most important choice to make here is the *loss function*, which governs how, mathematically, the model will be judged on its performance.\n",
    "\n",
    "Let's download some real data, create a model, and evaluate its performance. "
   ]
  },
  {
   "cell_type": "code",
   "execution_count": 16,
   "id": "second-checklist",
   "metadata": {},
   "outputs": [],
   "source": [
    "import pandas as pd\n",
    "from sklearn.preprocessing import LabelEncoder\n",
    "from sklearn.model_selection import train_test_split\n",
    "\n",
    "# #BestData\n",
    "url = \"https://philchodrow.github.io/PIC16A/datasets/palmer_penguins.csv\"\n",
    "penguins = pd.read_csv(url)\n",
    "\n",
    "# only use these columns\n",
    "df = penguins[[\"Culmen Length (mm)\", \"Culmen Depth (mm)\", \"Flipper Length (mm)\",  \"Species\"]]\n",
    "df = df.dropna()\n",
    "\n",
    "# categorically encode the \"Species\" column\n",
    "le = LabelEncoder()\n",
    "y = le.fit_transform(df[\"Species\"])\n",
    "\n",
    "# predictor data\n",
    "X = df[[\"Culmen Length (mm)\", \"Culmen Depth (mm)\", \"Flipper Length (mm)\"]]\n",
    "\n",
    "# convert to numpy array\n",
    "X = np.array(X, dtype = np.float32)\n",
    "\n",
    "# train-test split\n",
    "X_train, X_test, y_train, y_test = train_test_split(X, y, test_size = 0.3)"
   ]
  },
  {
   "cell_type": "code",
   "execution_count": 17,
   "id": "continued-relief",
   "metadata": {},
   "outputs": [
    {
     "data": {
      "text/plain": [
       "array([[ 50.5,  18.4, 200. ],\n",
       "       [ 37.5,  18.5, 199. ],\n",
       "       [ 40.2,  17. , 176. ],\n",
       "       [ 42.9,  13.1, 215. ],\n",
       "       [ 45.8,  14.6, 210. ]], dtype=float32)"
      ]
     },
     "execution_count": 17,
     "metadata": {},
     "output_type": "execute_result"
    }
   ],
   "source": [
    "X_train[:5] # first five rows of predictor data"
   ]
  },
  {
   "cell_type": "code",
   "execution_count": 18,
   "id": "statutory-nancy",
   "metadata": {},
   "outputs": [
    {
     "data": {
      "text/plain": [
       "array([1, 0, 0, 2, 2])"
      ]
     },
     "execution_count": 18,
     "metadata": {},
     "output_type": "execute_result"
    }
   ],
   "source": [
    "y_train[:5] # first five rows of target data"
   ]
  },
  {
   "cell_type": "markdown",
   "id": "hungarian-newport",
   "metadata": {},
   "source": [
    "The simplest way to make a model is by using the `tf.keras.models.Sequential` API, which allows you to construct a model by simply passing a list of layers. Let's do two \"hidden\" layers of 500 units each, and then an output layer of 3 units (corresponding to 3 penguin species). If you've used the [multilayer perceptron algorithm](https://scikit-learn.org/stable/modules/generated/sklearn.neural_network.MLPClassifier.html) from `scikit-learn` before, the model below is essentially a multilayer perceptron with parameter `hidden_layer_sizes = (500, 500)`. \n",
    "\n",
    "Specifying the `input_shape` in the first layer is not actually necessary unless you want to see the `summary` below. Otherwise, the shape will be inferred the first time you fit the model. "
   ]
  },
  {
   "cell_type": "code",
   "execution_count": 31,
   "id": "complimentary-married",
   "metadata": {},
   "outputs": [],
   "source": [
    "model = tf.keras.models.Sequential([\n",
    "    layers.Dense(500, input_shape = (3,)),\n",
    "    layers.Dense(500),\n",
    "    layers.Dense(3)\n",
    "])"
   ]
  },
  {
   "cell_type": "markdown",
   "id": "developed-trustee",
   "metadata": {},
   "source": [
    "This `input_shape` specifies that each data point has three features. Note that `(3,)` is a tuple with one element; `(3)` wouldn't work here because Python interprets that as just the number `3`.  \n",
    "\n",
    "The reason we've chosen the final layer to output 3 numbers is that there are 3 species in the data. \n",
    "\n",
    "The `model.summary()` is a nice way to get an overview of what's been baked into the model. "
   ]
  },
  {
   "cell_type": "code",
   "execution_count": 32,
   "id": "innocent-trout",
   "metadata": {},
   "outputs": [
    {
     "name": "stdout",
     "output_type": "stream",
     "text": [
      "Model: \"sequential_2\"\n",
      "_________________________________________________________________\n",
      "Layer (type)                 Output Shape              Param #   \n",
      "=================================================================\n",
      "dense_5 (Dense)              (None, 500)               2000      \n",
      "_________________________________________________________________\n",
      "dense_6 (Dense)              (None, 500)               250500    \n",
      "_________________________________________________________________\n",
      "dense_7 (Dense)              (None, 3)                 1503      \n",
      "=================================================================\n",
      "Total params: 254,003\n",
      "Trainable params: 254,003\n",
      "Non-trainable params: 0\n",
      "_________________________________________________________________\n"
     ]
    }
   ],
   "source": [
    "model.summary()"
   ]
  },
  {
   "cell_type": "markdown",
   "id": "sufficient-encounter",
   "metadata": {},
   "source": [
    "Wow -- 250K parameters in this model! Large numbers of parameters allow your model to learn more complex relationships in your data, but also take longer to train and can lead to overfitting. Checking your model summary is usually a good idea, as it can help you get a feeling for the training time required for your model. "
   ]
  },
  {
   "cell_type": "markdown",
   "id": "aboriginal-denmark",
   "metadata": {},
   "source": [
    "Let's make some \"predictions\":"
   ]
  },
  {
   "cell_type": "code",
   "execution_count": 33,
   "id": "casual-extent",
   "metadata": {},
   "outputs": [
    {
     "data": {
      "text/plain": [
       "<tf.Tensor: shape=(5, 3), dtype=float32, numpy=\n",
       "array([[-17.29447 ,  24.550508, -25.926403],\n",
       "       [-16.738018,  26.030136, -25.997837],\n",
       "       [-15.050255,  22.133217, -22.861147],\n",
       "       [-18.287338,  27.861923, -28.243557],\n",
       "       [-17.974316,  26.713505, -27.47275 ]], dtype=float32)>"
      ]
     },
     "execution_count": 33,
     "metadata": {},
     "output_type": "execute_result"
    }
   ],
   "source": [
    "model(X_train[:5])"
   ]
  },
  {
   "cell_type": "markdown",
   "id": "documented-escape",
   "metadata": {},
   "source": [
    "These are predictions for the first 5 rows of the data set. Each row is a specific penguin, and each column is one of the three species. The number in the column is related to the model's guess about the species. To convert these into probabilities, we use the `Softmax` layer: "
   ]
  },
  {
   "cell_type": "code",
   "execution_count": 34,
   "id": "champion-panama",
   "metadata": {},
   "outputs": [
    {
     "data": {
      "text/plain": [
       "<tf.Tensor: shape=(5, 3), dtype=float32, numpy=\n",
       "array([[6.7136207e-19, 1.0000000e+00, 1.1971677e-22],\n",
       "       [2.6670224e-19, 1.0000000e+00, 2.5382731e-23],\n",
       "       [7.1026995e-17, 1.0000000e+00, 2.8787032e-20],\n",
       "       [9.0704829e-21, 1.0000000e+00, 4.3022886e-25],\n",
       "       [3.9113455e-20, 1.0000000e+00, 2.9322962e-24]], dtype=float32)>"
      ]
     },
     "execution_count": 34,
     "metadata": {},
     "output_type": "execute_result"
    }
   ],
   "source": [
    "softmax = tf.keras.layers.Softmax()\n",
    "softmax(model(X_train[:5]))"
   ]
  },
  {
   "cell_type": "markdown",
   "id": "numeric-rating",
   "metadata": {},
   "source": [
    "The model hasn't been trained yet, so these \"predictions\" don't really mean anything. "
   ]
  },
  {
   "cell_type": "markdown",
   "id": "regulated-disease",
   "metadata": {},
   "source": [
    "### Model Training\n",
    "\n",
    "Training has two stages. First we *compile* the model, by specifying the loss function and optimization algorithm. Then, we perform the actual training. The choice of loss function is highly dependent on your problem domain. For classification problems, categorical cross-entropy is a good one.  Finally, the `metrics` argument is helpful for controlling which model performance measures are shown when training or evaluating the model. "
   ]
  },
  {
   "cell_type": "code",
   "execution_count": 51,
   "id": "gentle-ribbon",
   "metadata": {},
   "outputs": [],
   "source": [
    "loss_fn = tf.keras.losses.SparseCategoricalCrossentropy(from_logits=True)\n",
    "model.compile(optimizer = \"adam\",\n",
    "              loss = loss_fn,\n",
    "              metrics = [\"accuracy\"])"
   ]
  },
  {
   "cell_type": "markdown",
   "id": "characteristic-peeing",
   "metadata": {},
   "source": [
    "Finally ready for training! "
   ]
  },
  {
   "cell_type": "code",
   "execution_count": 52,
   "id": "proved-repeat",
   "metadata": {},
   "outputs": [
    {
     "name": "stdout",
     "output_type": "stream",
     "text": [
      "Epoch 1/10\n",
      "8/8 [==============================] - 0s 3ms/step - loss: 0.2516 - accuracy: 0.9328\n",
      "Epoch 2/10\n",
      "8/8 [==============================] - 0s 4ms/step - loss: 0.1622 - accuracy: 0.9480\n",
      "Epoch 3/10\n",
      "8/8 [==============================] - 0s 3ms/step - loss: 0.0866 - accuracy: 0.9729\n",
      "Epoch 4/10\n",
      "8/8 [==============================] - 0s 3ms/step - loss: 0.0399 - accuracy: 0.9874\n",
      "Epoch 5/10\n",
      "8/8 [==============================] - 0s 5ms/step - loss: 0.0398 - accuracy: 0.9894\n",
      "Epoch 6/10\n",
      "8/8 [==============================] - 0s 4ms/step - loss: 0.0211 - accuracy: 0.9976\n",
      "Epoch 7/10\n",
      "8/8 [==============================] - 0s 5ms/step - loss: 0.0299 - accuracy: 0.9894\n",
      "Epoch 8/10\n",
      "8/8 [==============================] - 0s 3ms/step - loss: 0.0217 - accuracy: 0.9928\n",
      "Epoch 9/10\n",
      "8/8 [==============================] - 0s 3ms/step - loss: 0.0380 - accuracy: 0.9854\n",
      "Epoch 10/10\n",
      "8/8 [==============================] - 0s 4ms/step - loss: 0.0222 - accuracy: 0.9944\n"
     ]
    }
   ],
   "source": [
    "history = model.fit(X_train, y_train, epochs = 10, verbose=1)"
   ]
  },
  {
   "cell_type": "markdown",
   "id": "neither-directive",
   "metadata": {},
   "source": [
    "It's handy to save the model output, as this can then be used to plot the progress of the training over time: "
   ]
  },
  {
   "cell_type": "code",
   "execution_count": 66,
   "id": "integrated-wealth",
   "metadata": {},
   "outputs": [
    {
     "data": {
      "text/plain": [
       "[Text(0.5, 0, 'epoch'), Text(0, 0.5, 'training accuracy')]"
      ]
     },
     "execution_count": 66,
     "metadata": {},
     "output_type": "execute_result"
    },
    {
     "data": {
      "image/png": "[encoded data removed]",
      "text/plain": [
       "<Figure size 432x288 with 1 Axes>"
      ]
     },
     "metadata": {
      "needs_background": "light"
     },
     "output_type": "display_data"
    }
   ],
   "source": [
    "plt.plot(history.history[\"accuracy\"])\n",
    "plt.gca().set(xlabel = \"epoch\", ylabel = \"training accuracy\")"
   ]
  },
  {
   "cell_type": "markdown",
   "id": "horizontal-handling",
   "metadata": {},
   "source": [
    "Now we can evaluate the model on our test data: "
   ]
  },
  {
   "cell_type": "code",
   "execution_count": 54,
   "id": "parliamentary-native",
   "metadata": {},
   "outputs": [
    {
     "name": "stdout",
     "output_type": "stream",
     "text": [
      "4/4 - 0s - loss: 0.0417 - accuracy: 0.9709\n"
     ]
    },
    {
     "data": {
      "text/plain": [
       "[0.04171755537390709, 0.9708737730979919]"
      ]
     },
     "execution_count": 54,
     "metadata": {},
     "output_type": "execute_result"
    }
   ],
   "source": [
    "model.evaluate(X_test, y_test, verbose = 2)"
   ]
  },
  {
   "cell_type": "markdown",
   "id": "twenty-partnership",
   "metadata": {},
   "source": [
    "Our model is able to correctly predict the species of a penguin based on its culmen length, culmen depth, and flipper length over 95% of the time. Not bad! Further training (by choosing more `epochs` in `model.fit` could potentially improve this further---or lead to overfitting. \n",
    "\n",
    "### Prediction Probabilities\n",
    "\n",
    "A minor annoyance is that, even after training, our model still doesn't have very interpretable outputs: "
   ]
  },
  {
   "cell_type": "code",
   "execution_count": 55,
   "id": "portuguese-interstate",
   "metadata": {},
   "outputs": [
    {
     "data": {
      "text/plain": [
       "<tf.Tensor: shape=(5, 3), dtype=float32, numpy=\n",
       "array([[ -6.190556 ,   6.2361856, -14.369909 ],\n",
       "       [ 17.01304  ,   3.8348567,  -7.3105483],\n",
       "       [  6.4904976,   6.0970774, -15.349765 ],\n",
       "       [-23.248293 ,  -7.8180723,  35.006763 ],\n",
       "       [-19.645147 ,  -3.5364916,  20.02548  ]], dtype=float32)>"
      ]
     },
     "execution_count": 55,
     "metadata": {},
     "output_type": "execute_result"
    }
   ],
   "source": [
    "model(X_train[:5])"
   ]
  },
  {
   "cell_type": "markdown",
   "id": "fifteen-person",
   "metadata": {},
   "source": [
    "Having trained our model, we can create a new, interpretable version by adding a Softmax layer. "
   ]
  },
  {
   "cell_type": "code",
   "execution_count": 56,
   "id": "honey-negative",
   "metadata": {},
   "outputs": [],
   "source": [
    "prob_model = tf.keras.models.Sequential([\n",
    "    model, \n",
    "    layers.Softmax()\n",
    "])"
   ]
  },
  {
   "cell_type": "code",
   "execution_count": 57,
   "id": "greatest-nature",
   "metadata": {},
   "outputs": [
    {
     "data": {
      "text/plain": [
       "<tf.Tensor: shape=(5, 3), dtype=float32, numpy=\n",
       "array([[4.0098944e-06, 9.9999595e-01, 1.1243076e-09],\n",
       "       [9.9999809e-01, 1.8914147e-06, 2.7314833e-11],\n",
       "       [5.9710580e-01, 4.0289423e-01, 1.9540938e-10],\n",
       "       [5.0135996e-26, 2.5200533e-19, 1.0000000e+00],\n",
       "       [5.9056179e-18, 5.8501329e-11, 1.0000000e+00]], dtype=float32)>"
      ]
     },
     "execution_count": 57,
     "metadata": {},
     "output_type": "execute_result"
    }
   ],
   "source": [
    "prob_model(X_train[:5])"
   ]
  },
  {
   "cell_type": "markdown",
   "id": "saved-update",
   "metadata": {},
   "source": [
    "Each row now reflects the model's level of confidence that the given penguin is of the given species, which is much more interpretable. \n",
    "\n",
    "(*In case you're wondering, we don't include the Softmax layer in the model before we train it for numerical reasons*). "
   ]
  },
  {
   "cell_type": "markdown",
   "id": "suffering-things",
   "metadata": {},
   "source": [
    "Ok, but what if we actually want to get the predicted classes for each data point? The `argmax` method is good for this: it gives the index along the specified dimension in which an array has largest value. "
   ]
  },
  {
   "cell_type": "code",
   "execution_count": 61,
   "id": "substantial-inflation",
   "metadata": {},
   "outputs": [
    {
     "data": {
      "text/plain": [
       "array([2, 2, 2, 1, 0, 1, 2, 0, 2, 0, 1, 1, 2, 2, 0, 0, 0, 0, 0, 1, 0, 2,\n",
       "       0, 2, 2, 0, 2, 2, 2, 1, 2, 0, 2, 2, 2, 0, 0, 1, 0, 1, 0, 0, 2, 2,\n",
       "       1, 0, 2, 0, 1, 1, 0, 0, 0, 1, 0, 0, 0, 2, 0, 2, 0, 2, 2, 1, 2, 1,\n",
       "       0, 0, 0, 1, 1, 1, 1, 2, 1, 0, 1, 1, 0, 1, 0, 0, 2, 2, 2, 0, 2, 0,\n",
       "       0, 0, 1, 1, 0, 2, 0, 0, 1, 0, 0, 1, 2, 2, 1])"
      ]
     },
     "execution_count": 61,
     "metadata": {},
     "output_type": "execute_result"
    }
   ],
   "source": [
    "predictions = prob_model.predict(X_test).argmax(axis = 1)\n",
    "predictions"
   ]
  },
  {
   "cell_type": "code",
   "execution_count": 64,
   "id": "missing-restaurant",
   "metadata": {},
   "outputs": [
    {
     "data": {
      "text/plain": [
       "['Gentoo penguin (Pygoscelis papua)',\n",
       " 'Gentoo penguin (Pygoscelis papua)',\n",
       " 'Gentoo penguin (Pygoscelis papua)',\n",
       " 'Chinstrap penguin (Pygoscelis antarctica)',\n",
       " 'Adelie Penguin (Pygoscelis adeliae)']"
      ]
     },
     "execution_count": 64,
     "metadata": {},
     "output_type": "execute_result"
    }
   ],
   "source": [
    "[le.classes_[predictions[i]] for i in range(5)]"
   ]
  },
  {
   "cell_type": "markdown",
   "id": "measured-solution",
   "metadata": {},
   "source": [
    "We have now shown all the components for a complete model pipelinem enabling species prediction on unseen data. "
   ]
  },
  {
   "cell_type": "markdown",
   "id": "hazardous-austria",
   "metadata": {},
   "source": [
    "## What's next? \n",
    "\n",
    "We've learned about tensors, layers, and models, and we've used a simple model to make predictions on a pretty small data set. In coming lectures, we'll ask questions like: \n",
    "\n",
    "- How can I represent text or images as tensors? \n",
    "- How can I perform classification, regression, or clustering tasks? \n",
    "- How can I interpret what my model is doing? \n",
    "- How can I speed up my model training? "
   ]
  }
 ],
 "metadata": {
  "kernelspec": {
   "display_name": "Python [conda env:PIC16B] *",
   "language": "python",
   "name": "conda-env-PIC16B-py"
  },
  "language_info": {
   "codemirror_mode": {
    "name": "ipython",
    "version": 3
   },
   "file_extension": ".py",
   "mimetype": "text/x-python",
   "name": "python",
   "nbconvert_exporter": "python",
   "pygments_lexer": "ipython3",
   "version": "3.7.1"
  }
 },
 "nbformat": 4,
 "nbformat_minor": 5
}
