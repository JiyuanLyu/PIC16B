{
 "cells": [
  {
   "cell_type": "markdown",
   "metadata": {},
   "source": [
    "# The One-Lecture Story of Optimization for Machine Learning\n",
    "\n",
    "In this lecture, we'll go over a simple example that illustrates some of the important ideas of *optimization for machine learning.* \n",
    "\n",
    "*Optimization* is the mathematical study of techniques for finding points at which functions reach their maximum or minimum values. For example, the minimum value of the function $f(x) = x^2$ is the point $x = 0$. Optimization techniques are used to obtain similar insights for more complicated functions. \n",
    "\n",
    "The reason that we care about optimization in the context of machine learning is that the \"training\" step of most machine learning methods is nothing other than optimizing a function. As you may remember, the prototypical (supervised) machine learning task has the following form:\n",
    "\n",
    "> Find a model $f$ from a collection $\\mathcal{M}$ of possible models such that $\\mathcal{L}(f, X, y)$ is minimized.  \n",
    "\n",
    "In this problem statement: \n",
    "\n",
    "- The *model* $f$ is some kind of function that takes in *predictor data* $X$ and spits out a prediction $\\hat{y}$ of the *target* data $y$. \n",
    "- $\\mathcal{M}$ is a set of all possible models under consideration. Usually this set is parameterized, so that one chooses a model from $\\mathcal{M}$ by choosing the values of one or more parameters. \n",
    "- $\\mathcal{L}$ is a *loss function* that is adapted "
   ]
  },
  {
   "cell_type": "code",
   "execution_count": 8,
   "metadata": {},
   "outputs": [],
   "source": [
    "import numpy as np\n",
    "import matplotlib.pyplot as plt\n",
    "\n",
    "from matplotlib.animation import FuncAnimation\n",
    "from IPython.display import HTML"
   ]
  },
  {
   "cell_type": "code",
   "execution_count": 9,
   "metadata": {},
   "outputs": [],
   "source": [
    "class UpdateLine:\n",
    "    \n",
    "    def __init__(self, ax, b0, b1, b0_, b1_, eps = 0.01, n = 100):\n",
    "        self.ax0 = ax[0]\n",
    "        self.ax1 = ax[1]\n",
    "        \n",
    "        self.b0 = b0\n",
    "        self.b1 = b1\n",
    "        \n",
    "        self.b0_ = b0_\n",
    "        self.b1_ = b1_\n",
    "    \n",
    "        self.n = n\n",
    "        \n",
    "        self.X = np.random.rand(n)\n",
    "        self.y = self.b0 + self.b1*self.X + 0.1*np.random.randn(n)\n",
    "        self.X = self.X.reshape(n,1)\n",
    "        self.ax0.scatter(self.X, self.y, color = \"grey\", s = 4, zorder = 100)\n",
    "        \n",
    "        self.eps = eps\n",
    "        self.point = self.ax0.scatter([], [], color = \"red\", zorder = 200)\n",
    "        self.line, = self.ax0.plot([], [], 'k-')\n",
    "        self.loss, = self.ax1.plot([], [], 'k-')\n",
    "        \n",
    "        self.x_space = np.linspace(0, 1, 10)\n",
    "        \n",
    "        self.t = []\n",
    "        self.L = []\n",
    "        \n",
    "    def __call__(self, i):\n",
    "        \n",
    "        j = np.random.randint(self.n)\n",
    "                \n",
    "        x, y = self.X[j,0], self.y[j]\n",
    "        \n",
    "        self.b0_ -= self.eps*2*(self.b1_ * x + self.b0_ - y)\n",
    "        self.b1_ -= self.eps*2*(self.b1_ * x + self.b0_ - y)*x\n",
    "        \n",
    "        self.point.set_offsets([[x, y]])\n",
    "        \n",
    "        self.line.set_data(self.x_space, self.b1_*self.x_space +self.b0_)\n",
    "        \n",
    "        self.t.append(i)\n",
    "        \n",
    "        L = sum((self.b1_*self.X[:,0] + self.b0_ - self.y)**2)\n",
    "        self.L.append(L)\n",
    "        \n",
    "        self.loss.set_data(self.t, self.L)\n",
    "        \n",
    "        return [self.point, self.line, self.loss]"
   ]
  },
  {
   "cell_type": "code",
   "execution_count": null,
   "metadata": {},
   "outputs": [],
   "source": [
    "fig, ax = plt.subplots(1, 2, figsize = (7, 3))\n",
    "\n",
    "ax[0].set_xlim(0, 1)\n",
    "ax[0].set_ylim(-0.5, 0.5)\n",
    "\n",
    "ax[1].set_xlim(0, 200)\n",
    "ax[1].set_ylim(0, 5)\n",
    "ax[1].grid(True)\n",
    "\n",
    "ax[0].set(title = \"Regression Problem\", \n",
    "          xlabel = r\"$x$\",\n",
    "          ylabel = r\"$y$\")\n",
    "\n",
    "ax[1].set(title = \"Current Loss\",\n",
    "          xlabel = \"Iteration\",\n",
    "          ylabel = r\"$\\mathcal{L}$\")\n",
    "\n",
    "ud = UpdateLine(ax, -0.2, 0.5, 0, 0, eps = 0.1, n = 100)\n",
    "anim = FuncAnimation(fig, ud, frames=200, interval=100, blit=True)\n",
    "\n",
    "HTML(anim.to_jshtml())"
   ]
  },
  {
   "cell_type": "code",
   "execution_count": null,
   "metadata": {},
   "outputs": [],
   "source": []
  }
 ],
 "metadata": {
  "kernelspec": {
   "display_name": "Python [conda env:PIC16B] *",
   "language": "python",
   "name": "conda-env-PIC16B-py"
  },
  "language_info": {
   "codemirror_mode": {
    "name": "ipython",
    "version": 3
   },
   "file_extension": ".py",
   "mimetype": "text/x-python",
   "name": "python",
   "nbconvert_exporter": "python",
   "pygments_lexer": "ipython3",
   "version": "3.7.1"
  }
 },
 "nbformat": 4,
 "nbformat_minor": 4
}
