{
 "cells": [
  {
   "cell_type": "markdown",
   "id": "vocal-mileage",
   "metadata": {},
   "source": [
    "# Interactive Data Graphics with Plotly\n",
    "\n",
    "In this lecture, we'll use the Plotly library to construct engaging interactive graphics using a high-level interface. We already worked with Plotly when we created attractive geographic data visualizations. In this lecture, we'll use Plotly to build out the rest of our standard data visualization tools. \n",
    "\n",
    "There are a number of plot types not shown here: check the [Plotly Express overview](https://plotly.com/python/plotly-express/) for many other interesting and useful plot types. \n",
    "\n",
    "For this lecture, we're going to take a break from the NOAA climate data set. You'll use Plotly to construct visualizations using this data in HW1. For now, we're going to use the #BestDataSet: Palmer Penguins! \n",
    "\n",
    "<figure class=\"image\" style=\"width:50%\">\n",
    "  <img src=\"https://raw.githubusercontent.com/allisonhorst/palmerpenguins/master/man/figures/lter_penguins.png\" alt=\"\">\n",
    "  <figcaption><i>Artwork by @allison_horst</i></figcaption>\n",
    "</figure>\n",
    "\n",
    "First, let's retrieve and clean up the data a little. These are all standard pandas operations, so we're not going to spend much time here. "
   ]
  },
  {
   "cell_type": "code",
   "execution_count": null,
   "id": "developing-active",
   "metadata": {},
   "outputs": [],
   "source": [
    "import pandas as pd\n",
    "url = \"https://raw.githubusercontent.com/PhilChodrow/PIC16B/master/datasets/palmer_penguins.csv\"\n",
    "penguins = pd.read_csv(url)\n",
    "penguins = penguins.dropna(subset = [\"Body Mass (g)\", \"Sex\"])\n",
    "penguins[\"Species\"] = penguins[\"Species\"].str.split().str.get(0)\n",
    "penguins = penguins[penguins[\"Sex\"] != \".\"]\n",
    "\n",
    "cols = [\"Species\", \"Island\", \"Sex\", \"Culmen Length (mm)\", \"Culmen Depth (mm)\", \"Flipper Length (mm)\", \"Body Mass (g)\"]\n",
    "penguins = penguins[cols]"
   ]
  },
  {
   "cell_type": "markdown",
   "id": "running-technique",
   "metadata": {},
   "source": [
    "Let's take a look at the simplified data set: "
   ]
  },
  {
   "cell_type": "code",
   "execution_count": null,
   "id": "verified-foundation",
   "metadata": {},
   "outputs": [],
   "source": [
    "penguins.head()"
   ]
  },
  {
   "cell_type": "markdown",
   "id": "surprising-welding",
   "metadata": {},
   "source": [
    "As you know from HW0, each row corresponds to an individual penguin. The penguin's species, island of encounter, and sex are recorded as qualitative variables. There are also measurements of the penguin's culmen (bill), as well as its flipper length and body mass. There are some additional columns which we're ignoring for today. "
   ]
  },
  {
   "cell_type": "markdown",
   "id": "skilled-power",
   "metadata": {},
   "source": [
    "## Getting Started with Plotly \n",
    "\n",
    "Plotly includes a very large catalog of interesting plotting capabilities. We are only going to scratch the surface, using the Plotly Express module, which allows us to create several of the most important kinds of plots using convenient, high-level functions. \n",
    "\n",
    "Let's run an example before breaking it down. "
   ]
  },
  {
   "cell_type": "code",
   "execution_count": null,
   "id": "gorgeous-hello",
   "metadata": {},
   "outputs": [],
   "source": []
  },
  {
   "cell_type": "markdown",
   "id": "artificial-steal",
   "metadata": {},
   "source": [
    "Let's break this down a bit. \n",
    "\n",
    "```python\n",
    "fig = px.scatter(data_frame = penguins,    # data set\n",
    "                 x = \"Culmen Length (mm)\", # column for x axis\n",
    "                 y = \"Culmen Depth (mm)\",  # column for y axis\n",
    "                 color = \"Species\",        # column for dot color\n",
    "                 width = 500,              # width of figure\n",
    "                 height = 300)             # height of figure\n",
    "```\n",
    "\n",
    "Recall that our standard syntax from Matplotlib usually requires us to pass `x` and `y` as *arrays* or *lists*. Here, we do something different: we start by specifying a *data frame*. Then, `x`, `y`, and several other arguments that we'll see in a moment are interpreted as *columns* of the supplied data frame. So, a call like \n",
    "\n",
    "```python\n",
    "fig = px.scatter(data_frame = penguins,    \n",
    "                 x = \"Culmen Length (mm)\", \n",
    "                 y = \"Culmen Depth (mm)\") \n",
    "```\n",
    "\n",
    "is somewhat similar to \n",
    "\n",
    "```python\n",
    "ax.scatter(penguins[\"Culmen Length (mm)\"], \n",
    "           penguins[\"Culmen Depth (mm)\"])\n",
    "```\n",
    "\n",
    "using familiar Matplotlib tools. We'll see that the Plotly approach makes it much easier to construct complex data graphics in situations in which our data is in the form of a data frame. \n",
    "\n",
    "*Side note*: the syntax of Plotly Express is similar to that of the [Seaborn package](https://seaborn.pydata.org/), which is a non-interactive library for constructing complex graphics from data frames. \n",
    "\n",
    "Let's fancy up our plot a little: "
   ]
  },
  {
   "cell_type": "code",
   "execution_count": null,
   "id": "laden-prototype",
   "metadata": {},
   "outputs": [],
   "source": []
  },
  {
   "cell_type": "markdown",
   "id": "assumed-pittsburgh",
   "metadata": {},
   "source": [
    "There are nice marginal plots for the statistically-inclined: "
   ]
  },
  {
   "cell_type": "code",
   "execution_count": null,
   "id": "miniature-africa",
   "metadata": {},
   "outputs": [],
   "source": []
  },
  {
   "cell_type": "markdown",
   "id": "solid-renewal",
   "metadata": {},
   "source": [
    "Personally I dislike the gray background. It's possible to exercise fine-grained control over the plot appearance, but an easier way is through themes: "
   ]
  },
  {
   "cell_type": "code",
   "execution_count": null,
   "id": "indie-immigration",
   "metadata": {},
   "outputs": [],
   "source": []
  },
  {
   "cell_type": "markdown",
   "id": "banner-underground",
   "metadata": {},
   "source": [
    "Modifying the theme this way will change the appearance of all future plots. "
   ]
  },
  {
   "cell_type": "markdown",
   "id": "complex-honolulu",
   "metadata": {},
   "source": [
    "## Facets\n",
    "\n",
    "*Facetting* refers to creating multiple, small plots, each of which display a subset of the data. Plotly supports the easy creation of facets using the `facet_col` and `facet_row` arguments."
   ]
  },
  {
   "cell_type": "code",
   "execution_count": null,
   "id": "honest-works",
   "metadata": {},
   "outputs": [],
   "source": []
  },
  {
   "cell_type": "markdown",
   "id": "immediate-marble",
   "metadata": {},
   "source": [
    "You can even use both at the same time! "
   ]
  },
  {
   "cell_type": "code",
   "execution_count": null,
   "id": "demanding-watson",
   "metadata": {},
   "outputs": [],
   "source": []
  },
  {
   "cell_type": "markdown",
   "id": "champion-transmission",
   "metadata": {},
   "source": [
    "Faceting is an easy way to create complex, scientifically interesting plots using minimal effort. "
   ]
  },
  {
   "cell_type": "markdown",
   "id": "placed-replication",
   "metadata": {},
   "source": [
    "## Statistical Graphics: Histograms, Boxplots, and Densities\n",
    "\n",
    "Scatterplots are probably the most universally useful plot type, but Plotly enables the creation of many other useful plot types. Here, let's focus on plot types for estimating univariate and bivariate densities. \n",
    "\n",
    "### Histograms"
   ]
  },
  {
   "cell_type": "code",
   "execution_count": null,
   "id": "ceramic-camcorder",
   "metadata": {},
   "outputs": [],
   "source": []
  },
  {
   "cell_type": "markdown",
   "id": "wrapped-freight",
   "metadata": {},
   "source": [
    "### Boxplots"
   ]
  },
  {
   "cell_type": "code",
   "execution_count": null,
   "id": "stone-divorce",
   "metadata": {},
   "outputs": [],
   "source": []
  },
  {
   "cell_type": "markdown",
   "id": "accepting-church",
   "metadata": {},
   "source": [
    "## Bivariate Distributions\n",
    "\n",
    "A density heatmap is just a bivariate histogram: "
   ]
  },
  {
   "cell_type": "code",
   "execution_count": null,
   "id": "preceding-relief",
   "metadata": {},
   "outputs": [],
   "source": []
  },
  {
   "cell_type": "markdown",
   "id": "usual-private",
   "metadata": {},
   "source": [
    "Density *contours* provide a nice alternative: "
   ]
  },
  {
   "cell_type": "code",
   "execution_count": null,
   "id": "unsigned-glory",
   "metadata": {},
   "outputs": [],
   "source": []
  },
  {
   "cell_type": "markdown",
   "id": "increasing-pearl",
   "metadata": {},
   "source": [
    "## Fancy Stuff\n",
    "\n",
    "Sometimes, we'd like to show relationships between many variables at once. In such cases, standard 2d plots can feel restrictive, and we might seek more complicated plot types. This is sometimes productive, but it's important not to chase complexity for its own sake. \n",
    "\n",
    "### 3d Scatterplots"
   ]
  },
  {
   "cell_type": "code",
   "execution_count": null,
   "id": "intimate-liechtenstein",
   "metadata": {},
   "outputs": [],
   "source": []
  },
  {
   "cell_type": "markdown",
   "id": "dietary-advocacy",
   "metadata": {},
   "source": [
    "## Alluvial Diagrams\n",
    "\n",
    "Alluvial diagrams can be used to compare tabulations of categorical variables. "
   ]
  },
  {
   "cell_type": "code",
   "execution_count": null,
   "id": "foreign-despite",
   "metadata": {},
   "outputs": [],
   "source": []
  },
  {
   "cell_type": "markdown",
   "id": "original-asbestos",
   "metadata": {},
   "source": [
    "This diagram makes it clear that Gentoo penguins are only found on Biscoe Island, and Gentoos are only found on Dream Island, while the sexes of penguins are approximately balanced for each species on each island. \n",
    "\n",
    "## Parallel Coordinates\n",
    "\n",
    "One can construct similar visualizations for quantitative variables. These are interesting and support quite entertaining filtering operations, but can also be somewhat challenging to give a clean \"look.\""
   ]
  },
  {
   "cell_type": "code",
   "execution_count": null,
   "id": "native-burning",
   "metadata": {},
   "outputs": [],
   "source": []
  },
  {
   "cell_type": "markdown",
   "id": "artificial-university",
   "metadata": {},
   "source": [
    "After you've made your amazing plot, you can then save it as HTML and `include` it in your blog. "
   ]
  },
  {
   "cell_type": "code",
   "execution_count": null,
   "id": "guided-coaching",
   "metadata": {},
   "outputs": [],
   "source": []
  },
  {
   "cell_type": "markdown",
   "id": "indirect-sharp",
   "metadata": {},
   "source": [
    "## Takeaways For Today\n",
    "\n",
    "- Plotly Express makes it unreasonably easy to create attractive, sophisticated, and interactive data graphics. \n",
    "- Amidst all these tools, it's important to choose the one that's right for the story you want to tell -- if your story is simple, use a simple visualization. \n",
    "- Penguins are very good birds. "
   ]
  }
 ],
 "metadata": {
  "kernelspec": {
   "display_name": "Python [conda env:PIC16B] *",
   "language": "python",
   "name": "conda-env-PIC16B-py"
  },
  "language_info": {
   "codemirror_mode": {
    "name": "ipython",
    "version": 3
   },
   "file_extension": ".py",
   "mimetype": "text/x-python",
   "name": "python",
   "nbconvert_exporter": "python",
   "pygments_lexer": "ipython3",
   "version": "3.8.11"
  },
  "widgets": {
   "application/vnd.jupyter.widget-state+json": {
    "state": {},
    "version_major": 2,
    "version_minor": 0
   }
  }
 },
 "nbformat": 4,
 "nbformat_minor": 5
}
