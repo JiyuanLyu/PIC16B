{
 "cells": [
  {
   "cell_type": "markdown",
   "metadata": {},
   "source": [
    "# HW0\n",
    "\n",
    "In this homework, you'll get set up with Python, `git`, GitHub, and GitHub Pages. \n",
    "\n",
    "# §1. Python\n",
    "\n",
    "Install Anaconda. \n",
    "\n",
    "# §2. GitHub\n",
    "\n",
    "Create an account on [GitHub](https://github.com/). \n",
    "\n",
    "# §3. (Optional, strongly recommended): GitHub Desktop\n",
    "\n",
    "Download [GitHub Desktop](https://desktop.github.com/), a graphical client for working with `git`. If you do not use GitHub Desktop (or another graphical client), you will need to work with `git` from the command line. \n",
    "\n",
    "# §4. GitHub Pages\n",
    "\n",
    "Create a professional website. If you already have one on which you can write technical content and code, you are free to use that. Otherwise, you should create your website via [GitHub Pages](https://docs.github.com/en/github/working-with-github-pages/about-github-pages). To do so, you will need to make a repository whose title is `username.github.io`. For example, my repo is `philchodrow.github.io`. You will need to then enable GitHub Pages publishing (under Settings). You can also make choices about the theme and structure of your website. \n",
    "\n",
    "If you are feeling fearless, you can work on getting your website set up with a [custom theme](https://jekyllthemes.io/github-pages-themes). This will require you to learn a lot about the settings and potentially break some things, but can also lead you to a very attractive website. The \"safe\" (and recommended) approach is to follow the instructions at Barry Clark's [Jekyll Now page](https://github.com/barryclark/jekyll-now). You can fork his GitHub repository and immediately get started customizing your website. There are even more detailed instructions [here](https://www.smashingmagazine.com/2014/08/build-blog-jekyll-github-pages/). \n",
    "\n",
    "# §6. (Optional): Local Website Development\n",
    "\n",
    "It is possible to do just fine in this course by modifying your blog from the GitHub website. You may find it more convenient to work on your blog locally, from within your favorite text editor. This is possible, and you can even render (view) your website by running a local version of the Jekyll software. This is the software that converts plain text files into the complex HTML pages that you view in your browser. Doing this requires use of the command line. \n",
    "\n",
    "Here's how: \n",
    "1. [Install Jekyll](https://jekyllrb.com/docs/installation/). \n",
    "2. Clone your GitHub repository to your local computer. \n",
    "3. In the main directory of the repository, you would run the command `jekyll serve` from the command line. \n",
    "4. Your site is now available in your web browser at `http://127.0.0.1:4000/`. Changes that you make to your site files will be periodically re-rendered -- refresh your browser to see them. \n",
    "5. After you are done modifying your site, commit and push your changes back to your GitHub repository. \n",
    "6. After a few minutes, your online website will reflect the changes that you made. \n",
    "\n",
    "\n",
    "\n",
    "\n",
    "\n"
   ]
  },
  {
   "cell_type": "code",
   "execution_count": null,
   "metadata": {},
   "outputs": [],
   "source": []
  }
 ],
 "metadata": {
  "kernelspec": {
   "display_name": "Python 3",
   "language": "python",
   "name": "python3"
  },
  "language_info": {
   "codemirror_mode": {
    "name": "ipython",
    "version": 3
   },
   "file_extension": ".py",
   "mimetype": "text/x-python",
   "name": "python",
   "nbconvert_exporter": "python",
   "pygments_lexer": "ipython3",
   "version": "3.8.3"
  }
 },
 "nbformat": 4,
 "nbformat_minor": 4
}
