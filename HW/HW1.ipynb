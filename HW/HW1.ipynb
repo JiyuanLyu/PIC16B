{
 "cells": [
  {
   "cell_type": "markdown",
   "metadata": {},
   "source": [
    "# Principal Component Analysis\n",
    "\n",
    "In this assignment, you'll refresh your skills working with `pandas` and `numpy`, while implementing a common data analysis technique called Principal Component Analysis (PCA). PCA is a *dimensionality reduction technique*, which can often be used to obtain relatively simple visualizations of complex data sets. [Here](https://en.wikipedia.org/wiki/Principal_component_analysis) is an overview of PCA. [Here](https://www.stat.cmu.edu/~cshalizi/uADA/16/lectures/17.pdf) you can find an *optional* discussion of PCA with heavy mathematical and statistical flavor.  \n",
    "\n",
    "In this assignment, your task is to create a 2d visualization the *Palmer Penguins* data set. The Palmer Penguins data set was collected by collected by [Dr. Kristen Gorman](https://www.uaf.edu/cfos/people/faculty/detail/kristen-gorman.php) and the [Palmer Station, Antarctica LTER](https://pal.lternet.edu/), a member of the [Long Term Ecological Research Network](https://lternet.edu/). It contains measurements on three penguin species: Chinstrap, Gentoo, and Adelie. \n",
    "\n",
    "<figure class=\"image\" style=\"width:30%\">\n",
    "  <img src=\"https://allisonhorst.github.io/palmerpenguins/man/figures/lter_penguins.png\" alt=\"Three stylized penguins, one each of the species Adelie, Gentoo, and Chinstrap, with labels above their heads and patches of color behind them.\">\n",
    "  <figcaption><i>Illustrations of the penguin species in the Palmer Penguins data set, by Allison Horst.</i></figcaption>\n",
    "</figure>\n",
    "\n",
    "If you took PIC16A with me, you've already seen this data set. \n",
    "\n",
    "<figure class=\"image\" style=\"width:30%\">\n",
    "  <img src=\"https://raw.githubusercontent.com/PhilChodrow/PIC16B/master/_images/not-done.jpg\" alt=\"\">\n",
    "  <figcaption><i></i></figcaption>\n",
    "</figure>\n",
    "\n",
    "If not, that's ok! Ask a classmate about their beautiful adventure among the penguins. \n",
    "\n",
    "The data set is hosted at: \n",
    "\n",
    "```\n",
    "url = \"https://raw.githubusercontent.com/PhilChodrow/PIC16B/master/datasets/palmer_penguins.csv\"\n",
    "```\n",
    "\n",
    "You can read it into Python as a `pandas` data frame via `pd.read_csv(url)`. \n",
    "\n",
    "Your ultimate product should be an attractive, polished visualization of the penguin species, plotted against the first and second principal components. Here is an example: \n",
    "\n",
    "<figure class=\"image\" style=\"width:50%\">\n",
    "  <img src=\"https://raw.githubusercontent.com/PhilChodrow/PIC16B/master/HW/penguin_pca.png\" alt=\"\">\n",
    "  <figcaption><i></i></figcaption>\n",
    "</figure>\n",
    "\n",
    "Your plot may look somewhat different from mine depending on your implementation. \n",
    "\n",
    "\n",
    "## Side Note: Contextualizing Your Data\n",
    "\n",
    "In data science, it is important to develop a thorough understanding of the data that you are attempting to model. I recommend consulting [these](https://www.youtube.com/watch?v=ZbASA6fZaRI) [helpful](https://www.youtube.com/watch?v=M5UlTRrVaTk) [videos](https://www.youtube.com/watch?v=RoTVc32TLx8) to build your knowledge of penguin behaviors outside their natural habitats.  \n",
    "\n",
    "## Specs and Hints\n",
    "\n",
    "- You must implement PCA by hand, using `numpy` linear algebra methods. You'll need to multiply matrices (2d `numpy` arrays) and extract eigenvalues and eigenvectors. Yes, there is a method `sklearn.decomposition.PCA`. No, you should not use it for this homework. \n",
    "    - Corollary: though I have suggested reading the data as a `pandas` data frame, you will eventually need to convert it into a `numpy` array. \n",
    "- You will likely want to standardize your data columns. To *standardize* a column, compute the mean and standard deviation of that column. Subtract that mean from each entry of the column, and divide the result by the standard deviation. One way to do this is to figure out how to standardize a single data column (or `1d numpy` array) and then apply that to each column of the data. An alternative approach is to use `numpy` array broadcasting. \n",
    "- You should use, at minimum, at least five columns of the data, other than `Species`. If you choose to use any categorical columns (such as `Island` or `Sex`, you will need to first encode it as a numeric column. A [label encoder](https://scikit-learn.org/stable/modules/generated/sklearn.preprocessing.LabelEncoder.html) will be helpful. \n",
    "- It is possible to create the specified plot using `matplotlib`. However, you may find it easier to use `seaborn`. \n",
    "- You will need to handle `NA` values in the data in some way, and explain your choice. \n",
    "- With the possible exception of looping over species to create the plot itself, there is no need to use `for`-loops in this problem. \n",
    "\n",
    "## Writing\n",
    "\n",
    "You should write this assignment in the format of a *tutorial*. That is, you should write with the aim of teaching someone how to perform and visualize PCA in Python. Your code should contain comments and docstrings, while your surrounding text should explain the overall purpose and structure of your approach. For concreteness, you can imagine that you are explaining PCA to \"you from two weeks ago.\" "
   ]
  }
 ],
 "metadata": {
  "kernelspec": {
   "display_name": "Python 3",
   "language": "python",
   "name": "python3"
  },
  "language_info": {
   "codemirror_mode": {
    "name": "ipython",
    "version": 3
   },
   "file_extension": ".py",
   "mimetype": "text/x-python",
   "name": "python",
   "nbconvert_exporter": "python",
   "pygments_lexer": "ipython3",
   "version": "3.8.3"
  }
 },
 "nbformat": 4,
 "nbformat_minor": 4
}
