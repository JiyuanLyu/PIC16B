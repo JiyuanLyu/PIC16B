{
 "cells": [
  {
   "cell_type": "markdown",
   "metadata": {},
   "source": [
    "# Time series example\n",
    "\n",
    "*This worksheet was originally designed by [Erin George](https://www.math.ucla.edu/~egeo/) (Department of Mathematics, UCLA). It has been subsequently revised by later TAs and instructors.*\n",
    "\n",
    "Warning: the model we get is pretty bad!  We used [this dataset](https://www.kaggle.com/felsal/ibovespa-stocks)."
   ]
  },
  {
   "cell_type": "code",
   "execution_count": 1,
   "metadata": {},
   "outputs": [],
   "source": [
    "import pandas as pd\n",
    "import numpy as np\n",
    "import tensorflow as tf"
   ]
  },
  {
   "cell_type": "code",
   "execution_count": 2,
   "metadata": {},
   "outputs": [],
   "source": [
    "df = pd.read_csv('b3_stocks_1994_2020.csv')"
   ]
  },
  {
   "cell_type": "code",
   "execution_count": 3,
   "metadata": {},
   "outputs": [],
   "source": [
    "df1 = df.pivot(index='ticker', columns='datetime', values='close')"
   ]
  },
  {
   "cell_type": "code",
   "execution_count": 4,
   "metadata": {},
   "outputs": [
    {
     "data": {
      "text/html": [
       "<div>\n",
       "<style scoped>\n",
       "    .dataframe tbody tr th:only-of-type {\n",
       "        vertical-align: middle;\n",
       "    }\n",
       "\n",
       "    .dataframe tbody tr th {\n",
       "        vertical-align: top;\n",
       "    }\n",
       "\n",
       "    .dataframe thead th {\n",
       "        text-align: right;\n",
       "    }\n",
       "</style>\n",
       "<table border=\"1\" class=\"dataframe\">\n",
       "  <thead>\n",
       "    <tr style=\"text-align: right;\">\n",
       "      <th>datetime</th>\n",
       "      <th>2020-12-10</th>\n",
       "      <th>2020-12-11</th>\n",
       "      <th>2020-12-14</th>\n",
       "      <th>2020-12-15</th>\n",
       "      <th>2020-12-16</th>\n",
       "      <th>2020-12-17</th>\n",
       "      <th>2020-12-18</th>\n",
       "      <th>2020-12-21</th>\n",
       "      <th>2020-12-22</th>\n",
       "      <th>2020-12-23</th>\n",
       "      <th>2020-12-28</th>\n",
       "      <th>2020-12-29</th>\n",
       "      <th>2020-12-30</th>\n",
       "    </tr>\n",
       "    <tr>\n",
       "      <th>ticker</th>\n",
       "      <th></th>\n",
       "      <th></th>\n",
       "      <th></th>\n",
       "      <th></th>\n",
       "      <th></th>\n",
       "      <th></th>\n",
       "      <th></th>\n",
       "      <th></th>\n",
       "      <th></th>\n",
       "      <th></th>\n",
       "      <th></th>\n",
       "      <th></th>\n",
       "      <th></th>\n",
       "    </tr>\n",
       "  </thead>\n",
       "  <tbody>\n",
       "    <tr>\n",
       "      <th>A1BB34</th>\n",
       "      <td>34.20</td>\n",
       "      <td>33.85</td>\n",
       "      <td>34.18</td>\n",
       "      <td>34.64</td>\n",
       "      <td>34.47</td>\n",
       "      <td>34.63</td>\n",
       "      <td>34.53</td>\n",
       "      <td>35.14</td>\n",
       "      <td>34.99</td>\n",
       "      <td>35.90</td>\n",
       "      <td>36.57</td>\n",
       "      <td>36.14</td>\n",
       "      <td>36.27</td>\n",
       "    </tr>\n",
       "    <tr>\n",
       "      <th>A1EG34</th>\n",
       "      <td>18.73</td>\n",
       "      <td>17.89</td>\n",
       "      <td>18.85</td>\n",
       "      <td>18.93</td>\n",
       "      <td>19.11</td>\n",
       "      <td>19.24</td>\n",
       "      <td>18.77</td>\n",
       "      <td>18.67</td>\n",
       "      <td>18.95</td>\n",
       "      <td>19.71</td>\n",
       "      <td>20.35</td>\n",
       "      <td>20.23</td>\n",
       "      <td>20.30</td>\n",
       "    </tr>\n",
       "    <tr>\n",
       "      <th>A1KA34</th>\n",
       "      <td>43.83</td>\n",
       "      <td>43.36</td>\n",
       "      <td>44.45</td>\n",
       "      <td>43.92</td>\n",
       "      <td>44.49</td>\n",
       "      <td>43.92</td>\n",
       "      <td>45.10</td>\n",
       "      <td>45.42</td>\n",
       "      <td>45.42</td>\n",
       "      <td>46.28</td>\n",
       "      <td>46.84</td>\n",
       "      <td>46.47</td>\n",
       "      <td>45.32</td>\n",
       "    </tr>\n",
       "    <tr>\n",
       "      <th>A1MD34</th>\n",
       "      <td>462.00</td>\n",
       "      <td>462.57</td>\n",
       "      <td>482.00</td>\n",
       "      <td>494.41</td>\n",
       "      <td>494.60</td>\n",
       "      <td>489.87</td>\n",
       "      <td>477.63</td>\n",
       "      <td>474.89</td>\n",
       "      <td>480.46</td>\n",
       "      <td>480.00</td>\n",
       "      <td>481.58</td>\n",
       "      <td>467.90</td>\n",
       "      <td>479.10</td>\n",
       "    </tr>\n",
       "    <tr>\n",
       "      <th>A1ZN34</th>\n",
       "      <td>45.19</td>\n",
       "      <td>45.75</td>\n",
       "      <td>42.60</td>\n",
       "      <td>42.75</td>\n",
       "      <td>43.24</td>\n",
       "      <td>42.84</td>\n",
       "      <td>42.75</td>\n",
       "      <td>42.40</td>\n",
       "      <td>41.96</td>\n",
       "      <td>42.49</td>\n",
       "      <td>43.28</td>\n",
       "      <td>43.43</td>\n",
       "      <td>43.59</td>\n",
       "    </tr>\n",
       "  </tbody>\n",
       "</table>\n",
       "</div>"
      ],
      "text/plain": [
       "datetime  2020-12-10  2020-12-11  2020-12-14  2020-12-15  2020-12-16  \\\n",
       "ticker                                                                 \n",
       "A1BB34         34.20       33.85       34.18       34.64       34.47   \n",
       "A1EG34         18.73       17.89       18.85       18.93       19.11   \n",
       "A1KA34         43.83       43.36       44.45       43.92       44.49   \n",
       "A1MD34        462.00      462.57      482.00      494.41      494.60   \n",
       "A1ZN34         45.19       45.75       42.60       42.75       43.24   \n",
       "\n",
       "datetime  2020-12-17  2020-12-18  2020-12-21  2020-12-22  2020-12-23  \\\n",
       "ticker                                                                 \n",
       "A1BB34         34.63       34.53       35.14       34.99       35.90   \n",
       "A1EG34         19.24       18.77       18.67       18.95       19.71   \n",
       "A1KA34         43.92       45.10       45.42       45.42       46.28   \n",
       "A1MD34        489.87      477.63      474.89      480.46      480.00   \n",
       "A1ZN34         42.84       42.75       42.40       41.96       42.49   \n",
       "\n",
       "datetime  2020-12-28  2020-12-29  2020-12-30  \n",
       "ticker                                        \n",
       "A1BB34         36.57       36.14       36.27  \n",
       "A1EG34         20.35       20.23       20.30  \n",
       "A1KA34         46.84       46.47       45.32  \n",
       "A1MD34        481.58      467.90      479.10  \n",
       "A1ZN34         43.28       43.43       43.59  "
      ]
     },
     "execution_count": 4,
     "metadata": {},
     "output_type": "execute_result"
    }
   ],
   "source": [
    "df2 = df1.loc[:,'2020-12-1':]\n",
    "df3 = df2.dropna()\n",
    "df3.head()"
   ]
  },
  {
   "cell_type": "code",
   "execution_count": 5,
   "metadata": {},
   "outputs": [],
   "source": [
    "x = df3.drop(columns=['2020-12-30'])\n",
    "y = df3['2020-12-30']"
   ]
  },
  {
   "cell_type": "code",
   "execution_count": 6,
   "metadata": {},
   "outputs": [
    {
     "data": {
      "text/html": [
       "<div>\n",
       "<style scoped>\n",
       "    .dataframe tbody tr th:only-of-type {\n",
       "        vertical-align: middle;\n",
       "    }\n",
       "\n",
       "    .dataframe tbody tr th {\n",
       "        vertical-align: top;\n",
       "    }\n",
       "\n",
       "    .dataframe thead th {\n",
       "        text-align: right;\n",
       "    }\n",
       "</style>\n",
       "<table border=\"1\" class=\"dataframe\">\n",
       "  <thead>\n",
       "    <tr style=\"text-align: right;\">\n",
       "      <th>datetime</th>\n",
       "      <th>2020-12-10</th>\n",
       "      <th>2020-12-11</th>\n",
       "      <th>2020-12-14</th>\n",
       "      <th>2020-12-15</th>\n",
       "      <th>2020-12-16</th>\n",
       "      <th>2020-12-17</th>\n",
       "      <th>2020-12-18</th>\n",
       "      <th>2020-12-21</th>\n",
       "      <th>2020-12-22</th>\n",
       "      <th>2020-12-23</th>\n",
       "      <th>2020-12-28</th>\n",
       "      <th>2020-12-29</th>\n",
       "    </tr>\n",
       "    <tr>\n",
       "      <th>ticker</th>\n",
       "      <th></th>\n",
       "      <th></th>\n",
       "      <th></th>\n",
       "      <th></th>\n",
       "      <th></th>\n",
       "      <th></th>\n",
       "      <th></th>\n",
       "      <th></th>\n",
       "      <th></th>\n",
       "      <th></th>\n",
       "      <th></th>\n",
       "      <th></th>\n",
       "    </tr>\n",
       "  </thead>\n",
       "  <tbody>\n",
       "    <tr>\n",
       "      <th>LILY34</th>\n",
       "      <td>410.5</td>\n",
       "      <td>404.81</td>\n",
       "      <td>409.7</td>\n",
       "      <td>425.21</td>\n",
       "      <td>439.22</td>\n",
       "      <td>439.24</td>\n",
       "      <td>433.61</td>\n",
       "      <td>431.69</td>\n",
       "      <td>430.03</td>\n",
       "      <td>433.9</td>\n",
       "      <td>435.7</td>\n",
       "      <td>433.33</td>\n",
       "    </tr>\n",
       "  </tbody>\n",
       "</table>\n",
       "</div>"
      ],
      "text/plain": [
       "datetime  2020-12-10  2020-12-11  2020-12-14  2020-12-15  2020-12-16  \\\n",
       "ticker                                                                 \n",
       "LILY34         410.5      404.81       409.7      425.21      439.22   \n",
       "\n",
       "datetime  2020-12-17  2020-12-18  2020-12-21  2020-12-22  2020-12-23  \\\n",
       "ticker                                                                 \n",
       "LILY34        439.24      433.61      431.69      430.03       433.9   \n",
       "\n",
       "datetime  2020-12-28  2020-12-29  \n",
       "ticker                            \n",
       "LILY34         435.7      433.33  "
      ]
     },
     "metadata": {},
     "output_type": "display_data"
    },
    {
     "data": {
      "text/plain": [
       "(265, 12)"
      ]
     },
     "execution_count": 6,
     "metadata": {},
     "output_type": "execute_result"
    }
   ],
   "source": [
    "from sklearn.model_selection import train_test_split\n",
    "\n",
    "x_trv, x_test, y_trv, y_test = train_test_split(x, y, random_state=209)\n",
    "x_train, x_val, y_train, y_val = train_test_split(x_trv, y_trv)\n",
    "\n",
    "display(x_train.head(1))\n",
    "x_train.shape"
   ]
  },
  {
   "cell_type": "code",
   "execution_count": 7,
   "metadata": {},
   "outputs": [
    {
     "name": "stdout",
     "output_type": "stream",
     "text": [
      "Model: \"sequential\"\n",
      "_________________________________________________________________\n",
      "Layer (type)                 Output Shape              Param #   \n",
      "=================================================================\n",
      "reshape (Reshape)            (None, 12, 1)             0         \n",
      "_________________________________________________________________\n",
      "conv1d (Conv1D)              (None, 3, 10)             110       \n",
      "_________________________________________________________________\n",
      "flatten (Flatten)            (None, 30)                0         \n",
      "_________________________________________________________________\n",
      "dense (Dense)                (None, 30)                930       \n",
      "_________________________________________________________________\n",
      "dense_1 (Dense)              (None, 1)                 31        \n",
      "=================================================================\n",
      "Total params: 1,071\n",
      "Trainable params: 1,071\n",
      "Non-trainable params: 0\n",
      "_________________________________________________________________\n"
     ]
    }
   ],
   "source": [
    "import tensorflow.keras as keras\n",
    "\n",
    "model = keras.models.Sequential([\n",
    "    keras.layers.Reshape((x.shape[1], 1), input_shape=(x.shape[1],)),\n",
    "    keras.layers.Conv1D(10, 10, activation = 'sigmoid'),\n",
    "    keras.layers.Flatten(),\n",
    "    keras.layers.Dense(units = 30, activation = 'sigmoid'),\n",
    "    keras.layers.Dense(units = 1),\n",
    "])\n",
    "\n",
    "model.summary()"
   ]
  },
  {
   "cell_type": "code",
   "execution_count": 8,
   "metadata": {},
   "outputs": [
    {
     "name": "stdout",
     "output_type": "stream",
     "text": [
      "Epoch 1/5\n",
      "9/9 [==============================] - 2s 103ms/step - loss: 45703.3972 - val_loss: 7509.2949\n",
      "Epoch 2/5\n",
      "9/9 [==============================] - 0s 9ms/step - loss: 37218.5861 - val_loss: 7464.6846\n",
      "Epoch 3/5\n",
      "9/9 [==============================] - 0s 10ms/step - loss: 49849.7371 - val_loss: 7412.3706\n",
      "Epoch 4/5\n",
      "9/9 [==============================] - 0s 10ms/step - loss: 27170.1863 - val_loss: 7375.9268\n",
      "Epoch 5/5\n",
      "9/9 [==============================] - 0s 9ms/step - loss: 36113.9496 - val_loss: 7342.5854\n"
     ]
    }
   ],
   "source": [
    "model.compile(optimizer='adam',\n",
    "              loss='mse')\n",
    "\n",
    "history = model.fit(x_train, \n",
    "                    y_train, \n",
    "                    epochs=5,\n",
    "                    validation_data=(x_val, y_val))"
   ]
  },
  {
   "cell_type": "code",
   "execution_count": 9,
   "metadata": {},
   "outputs": [
    {
     "name": "stdout",
     "output_type": "stream",
     "text": [
      "9/9 [==============================] - 0s 2ms/step - loss: 38879.0547\n",
      "3/3 [==============================] - 0s 2ms/step - loss: 7342.5854\n",
      "Train RMSE: 197.17772360867747\n",
      "Train r^2: -0.18459669406880497\n",
      "Validation RMSE: 85.68888754802894\n",
      "Validation r^2: -0.3024869180498414\n"
     ]
    }
   ],
   "source": [
    "train_mse = model.evaluate(x_train, y_train)\n",
    "train_var = y_train.var()\n",
    "\n",
    "val_mse = model.evaluate(x_val, y_val)\n",
    "val_var = y_val.var()\n",
    "\n",
    "print(f'Train RMSE: {np.sqrt(train_mse)}')\n",
    "print(f'Train r^2: {(train_var - train_mse)/train_var}')\n",
    "\n",
    "print(f'Validation RMSE: {np.sqrt(val_mse)}')\n",
    "print(f'Validation r^2: {(val_var - val_mse)/val_var}')"
   ]
  }
 ],
 "metadata": {
  "kernelspec": {
   "display_name": "Python 3",
   "language": "python",
   "name": "python3"
  },
  "language_info": {
   "codemirror_mode": {
    "name": "ipython",
    "version": 3
   },
   "file_extension": ".py",
   "mimetype": "text/x-python",
   "name": "python",
   "nbconvert_exporter": "python",
   "pygments_lexer": "ipython3",
   "version": "3.8.8"
  }
 },
 "nbformat": 4,
 "nbformat_minor": 4
}
