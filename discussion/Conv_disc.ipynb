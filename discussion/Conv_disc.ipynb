{
 "cells": [
  {
   "cell_type": "markdown",
   "metadata": {},
   "source": [
    "# Tensorflow\n",
    "\n",
    "*This worksheet was originally designed by [Erin George](https://www.math.ucla.edu/~egeo/) (Department of Mathematics, UCLA). It has been subsequently revised by later TAs and instructors.*\n",
    "\n",
    "Today, we're going to get some practice with Tensorflow.  This discussion is split in two parts.  In the first part, we're going to design a neural network together to solve a problem.  In the second part, we're going to poke at our neural network to see how we can improve it."
   ]
  },
  {
   "cell_type": "markdown",
   "metadata": {},
   "source": [
    "## Our Problem\n",
    "\n",
    "We will be working with the the [MNIST](https://en.wikipedia.org/wiki/MNIST_database) dataset again!"
   ]
  },
  {
   "cell_type": "code",
   "execution_count": 1,
   "metadata": {},
   "outputs": [],
   "source": [
    "import tensorflow as tf\n",
    "import tensorflow.keras as keras\n",
    "\n",
    "(x_train, y_train), (x_test, y_test) = \\\n",
    "    tf.keras.datasets.mnist.load_data()"
   ]
  },
  {
   "cell_type": "markdown",
   "metadata": {},
   "source": [
    "Again, I like to look at the data set first.  Let's pick a different number this time."
   ]
  },
  {
   "cell_type": "code",
   "execution_count": 2,
   "metadata": {},
   "outputs": [
    {
     "data": {
      "image/png": "[encoded data removed]",
      "text/plain": [
       "<Figure size 432x288 with 1 Axes>"
      ]
     },
     "metadata": {
      "needs_background": "light"
     },
     "output_type": "display_data"
    }
   ],
   "source": [
    "import matplotlib.pyplot as plt\n",
    "plt.imshow(x_train[1,:,:], cmap='binary')\n",
    "plt.show()"
   ]
  },
  {
   "cell_type": "markdown",
   "metadata": {},
   "source": [
    "Again, our data has this shape:"
   ]
  },
  {
   "cell_type": "code",
   "execution_count": 3,
   "metadata": {},
   "outputs": [
    {
     "data": {
      "text/plain": [
       "(60000, 28, 28)"
      ]
     },
     "execution_count": 3,
     "metadata": {},
     "output_type": "execute_result"
    }
   ],
   "source": [
    "x_train.shape"
   ]
  },
  {
   "cell_type": "markdown",
   "metadata": {},
   "source": [
    "## Making a Neural Network"
   ]
  },
  {
   "cell_type": "markdown",
   "metadata": {},
   "source": [
    "Let's make a simple neural network to classify the numbers here.  We'll make a convolutional neural network."
   ]
  },
  {
   "cell_type": "code",
   "execution_count": 20,
   "metadata": {},
   "outputs": [
    {
     "name": "stdout",
     "output_type": "stream",
     "text": [
      "Model: \"sequential_7\"\n",
      "_________________________________________________________________\n",
      "Layer (type)                 Output Shape              Param #   \n",
      "=================================================================\n",
      "reshape_7 (Reshape)          (None, 28, 28, 1)         0         \n",
      "_________________________________________________________________\n",
      "conv2d_16 (Conv2D)           (None, 26, 26, 2)         20        \n",
      "_________________________________________________________________\n",
      "max_pooling2d_12 (MaxPooling (None, 13, 13, 2)         0         \n",
      "_________________________________________________________________\n",
      "flatten_7 (Flatten)          (None, 338)               0         \n",
      "_________________________________________________________________\n",
      "dense_12 (Dense)             (None, 30)                10170     \n",
      "_________________________________________________________________\n",
      "dense_13 (Dense)             (None, 10)                310       \n",
      "=================================================================\n",
      "Total params: 10,500\n",
      "Trainable params: 10,500\n",
      "Non-trainable params: 0\n",
      "_________________________________________________________________\n"
     ]
    }
   ],
   "source": [
    "model = keras.models.Sequential([\n",
    "    keras.layers.Reshape((28, 28, 1), input_shape = (28,28)),\n",
    "    keras.layers.Conv2D(2, (3, 3), activation = 'relu'),\n",
    "    keras.layers.MaxPooling2D((2,2)),\n",
    "    keras.layers.Flatten(),\n",
    "    keras.layers.Dense(units = 30, activation = 'relu'),\n",
    "    keras.layers.Dense(units = 10, activation = 'softmax'),\n",
    "])\n",
    "\n",
    "model.summary()"
   ]
  },
  {
   "cell_type": "markdown",
   "metadata": {},
   "source": [
    "The first layer here reshapes the data.  Each point in our data is a 2D grid of numbers (a 2D tensor), but convolutional layers want a 2D grid of *vectors* (a 3D tensor).  So we have the reshape layer fix this, adding a final dimension of length 1.  We assign an `input_shape` to the first layer so our model knows the expected size of the input data.  The `input_shape` of the other layers is not needed because it can be inferred by the previous."
   ]
  },
  {
   "cell_type": "markdown",
   "metadata": {},
   "source": [
    "As before, let's make our validation set."
   ]
  },
  {
   "cell_type": "code",
   "execution_count": 5,
   "metadata": {},
   "outputs": [],
   "source": [
    "from sklearn.model_selection import train_test_split\n",
    "\n",
    "x_train2, x_valid, y_train2, y_valid = train_test_split(x_train, y_train)"
   ]
  },
  {
   "cell_type": "markdown",
   "metadata": {},
   "source": [
    "Then, we can build and train our model."
   ]
  },
  {
   "cell_type": "code",
   "execution_count": 21,
   "metadata": {},
   "outputs": [
    {
     "name": "stdout",
     "output_type": "stream",
     "text": [
      "Epoch 1/5\n",
      "1407/1407 [==============================] - 7s 5ms/step - loss: 2.0022 - accuracy: 0.4582 - val_loss: 1.9233 - val_accuracy: 0.5375\n",
      "Epoch 2/5\n",
      "1407/1407 [==============================] - 7s 5ms/step - loss: 1.9173 - accuracy: 0.5433 - val_loss: 1.9065 - val_accuracy: 0.5543\n",
      "Epoch 3/5\n",
      "1407/1407 [==============================] - 7s 5ms/step - loss: 1.8760 - accuracy: 0.5849 - val_loss: 1.8361 - val_accuracy: 0.6249\n",
      "Epoch 4/5\n",
      "1407/1407 [==============================] - 9s 6ms/step - loss: 1.8356 - accuracy: 0.6253 - val_loss: 1.8453 - val_accuracy: 0.6155\n",
      "Epoch 5/5\n",
      "1407/1407 [==============================] - 9s 6ms/step - loss: 1.8227 - accuracy: 0.6383 - val_loss: 1.8186 - val_accuracy: 0.6423\n"
     ]
    }
   ],
   "source": [
    "model.compile(optimizer='adam',\n",
    "              loss=tf.keras.losses.SparseCategoricalCrossentropy(from_logits=True),\n",
    "              metrics=['accuracy'])\n",
    "\n",
    "history = model.fit(x_train2, \n",
    "                    y_train2, \n",
    "                    epochs=5,\n",
    "                    validation_data=(x_valid, y_valid))"
   ]
  },
  {
   "cell_type": "markdown",
   "metadata": {},
   "source": [
    "The accuracy we get is somewhere around 0.64 on the training set and on the validation set.  The exact number will vary, since there's some randomness involved.\n",
    "\n",
    "Can we do better?  The answer is, yes!  As you should be aware by now, this isn't particularly good accuracy.\n",
    "\n",
    "For the rest of the discussion, take the time to poke around this model and see if you can produce a better one.  Remember, don't look at the test data at the end.  Just stick with the validation set to evaluate the model.  It's okay if your validation set changes from run to run, so long as the test set is kept entirely separate.\n",
    "\n",
    "Some advice on how to look for a better model:\n",
    "- Try a bunch of things!  You'll never know what works!  Also, keep in mind that these can be *very* finicky.  Suppose you make one change, A, and see that it makes your model get worse.  You undo the change and try a different change, B, that also makes your model worse.  It's very possible that if you do A and B *together* you'll get a better than what you had!  It's weird that way.\n",
    "- That being said, if you make a change and you do *better*, you should think about keeping it!  You might undo it a bit as you change more, but it's good to have the best model you've made so far as your current baseline.\n",
    "- You might want to run your model multiple times when you change things!  That way you know you didn't just get lucky if it looked good or unlucky if it looked bad/the same.\n",
    "\n",
    "And here are a list of things you might want to change:\n",
    "- How long the model trains (the number of epochs)\n",
    "- How many layers are in the model\n",
    "- The types of each layer (dense, convolutional, pooling, etc.)\n",
    "- How big each hidden layer is (in terms of number of nodes or the number of output filters)\n",
    "- The activation functions.  A list is [here](https://www.tensorflow.org/api_docs/python/tf/keras/activations).  All you need to do is write the name in quotes (e.g. activation = 'elu').  Don't worry if you don't understand the difference between them, it's not too important right now.\n",
    "- The optimizer we use.  A list is [here](https://www.tensorflow.org/api_docs/python/tf/keras/optimizers).  Some of them might give you an error.  If so, just try a different one.  Again, it's okay if you don't understand how the different optimizers work.  You don't need to!  Again, you can just type the name in quotes (e.g., optimizer='sgd').\n",
    "- Consider doing a little more pre-processing on the data.  There are tips on how to pre-process data in the [worksheet](https://nbviewer.jupyter.org/urls/www.math.ucla.edu/~egeo/classes/spr21_pic16b-1/week5/ml_basics.ipynb) mentioned at the beginning.\n",
    "\n",
    "There are still other things you can try.  If you want more ideas, you can ask me or you can look through the [Tensorflow keras API](https://www.tensorflow.org/api_docs/python/tf/keras/).  And, if you find something that works, consider sharing with the class!\n",
    "\n",
    "Lastly, as a goal to aim towards: 96% accuracy or more is possible with just the changes above.  If you get there, see if you can do better!  There are some more complicated changes you can do (such as adding even more types of layers!) that can yield better accuracy, although you do not need to attempt those yourself."
   ]
  }
 ],
 "metadata": {
  "kernelspec": {
   "display_name": "Python 3",
   "language": "python",
   "name": "python3"
  },
  "language_info": {
   "codemirror_mode": {
    "name": "ipython",
    "version": 3
   },
   "file_extension": ".py",
   "mimetype": "text/x-python",
   "name": "python",
   "nbconvert_exporter": "python",
   "pygments_lexer": "ipython3",
   "version": "3.8.8"
  }
 },
 "nbformat": 4,
 "nbformat_minor": 4
}
